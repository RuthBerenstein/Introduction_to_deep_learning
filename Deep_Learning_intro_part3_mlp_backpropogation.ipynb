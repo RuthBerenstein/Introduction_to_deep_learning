{
 "cells": [
  {
   "cell_type": "markdown",
   "metadata": {},
   "source": [
    "## Introduction to Deep Learning\n",
    "# Part 3 - Multiple Layer Neural Networks\n",
    "### Delta rule for learning, Gradient Decent and backpropogation"
   ]
  },
  {
   "cell_type": "code",
   "execution_count": 159,
   "metadata": {},
   "outputs": [],
   "source": [
    "import matplotlib.pyplot as plt\n",
    "import numpy as np\n",
    "import utils_plot as uplot\n",
    "import matplotlib.gridspec as gridspec\n",
    "from sklearn.metrics import accuracy_score, log_loss\n",
    "%matplotlib inline  "
   ]
  },
  {
   "cell_type": "markdown",
   "metadata": {},
   "source": [
    "Networks without hidden units are very limited in what they can learn to model. What we need is multiple layers of non-linear hidden units. <br>\n",
    "The chalange is: **how to train such netorks ?**<br>\n",
    "We need a way to update all the weights not just the last layer like in a perceptron. It is a hard problem, and it took the researchers 20 years to find the right method. <br>\n",
    "\n",
    "\n",
    "![title](https://raw.githubusercontent.com/naomifridman/Introduction_to_deep_learning/master/imgs/training_model.png)\n",
    "Any hidden unit, can affect many other units, and affect the results, in many ways. So we use a method to combine all those effects, and focus on investigating the efect, the weight have, on the overall error.<br>"
   ]
  },
  {
   "cell_type": "markdown",
   "metadata": {},
   "source": [
    "The aim of the learning is to minimize the error summed (or meaned) over all training cases. <br>\n",
    "To achive that,we need a **measure** of that error. For simplicity, we will use the square difference between the target output and the actual output. "
   ]
  },
  {
   "cell_type": "markdown",
   "metadata": {},
   "source": [
    "#### Squared loss: a popular loss function\n",
    "The squared loss (also known as L2 loss), is the squered distance between the prediction and the true lable. <br>\n",
    "Lets mark:\n",
    "* $x\\, -\\, The\\, input$\n",
    "* $\\hat{y}\\, or \\,y'\\, - \\,The\\, true\\, lables$<br>\n",
    "* $y = predictions(x) = f(x)\\; Model's\\,  predictions$<br>\n",
    "\n",
    "The squared loss for a single example is: ${(\\hat{y} - y)}^2$<br>\n",
    "\n",
    " \n",
    "#### Mean square error (MSE) \n",
    "is the average squared loss per example over the whole dataset. \n",
    "To calculate MSE, sum up all the squared\n",
    "losses for individual examples and then divide by the number of examples:\n",
    "    $$ MSE = \\frac{1}{N} \\sum_{(x,y)\\in D} (y - f(x))^2 $$\n",
    "> MSE is popular in machine learning, mainly from historical reasons, since all the math was initially calculated with MSE. But it is not neccesery the best. For different problems, there are other practical loss functions that performs better.\n",
    "\n",
    "#### The goal of training a model is to find a set of weights that produce a minimal loss, on average, across all examples.\n"
   ]
  },
  {
   "cell_type": "markdown",
   "metadata": {},
   "source": [
    "To find the minimum of the loss function, we will use An iterative method. <br>\n",
    "Iterative methods, are usually less efficient, but much easier to generalize."
   ]
  },
  {
   "cell_type": "markdown",
   "metadata": {},
   "source": [
    "## Gradient Decent - Minimize loss function iterativly \n",
    "Intuition: Imagine you stand in a canyon, or a bowl, and you want to get to the lowest point. If you walk in small steps towards the stipest part, this will get you to the lowest point, if the canyon (or the bowl) is convex.\n",
    "![title](https://raw.githubusercontent.com/naomifridman/Introduction_to_deep_learning/master/imgs/dune11.jpg)\n",
    "### Delta rule for learning\n",
    "This intuition is defined as the delta rule.\n",
    "$$ \\Delta{w_{i}} = \\alpha*(derivative\\, of\\, the \\,loss\\, function)$$\n",
    "\n",
    "* $\\alpha$ - learning rate, is the (small) size of the step.\n",
    "\n",
    "The weights update will be:\n",
    "$$ W_{new} = W_{old} - \\Delta{w_{i}}$$\n",
    "\n"
   ]
  },
  {
   "cell_type": "markdown",
   "metadata": {},
   "source": [
    "But how do we implement the delta rule for a multi layer network ?\n",
    "This implementation is called backpropogation. Backpropagation, is an abbrevation for “backward propagation of errors”, is a mechanism used to update the weights using gradient descent. It calculates the gradient of the error function with respect to the neural network’s weights. The calculation proceeds backwards through the network."
   ]
  },
  {
   "cell_type": "markdown",
   "metadata": {},
   "source": [
    "## Backpropagation\n",
    "Back propogation,is a method to propogatate the error, back to the weights, and update them in away that will minimize the error.<br>\n",
    "Math is simple algebra, but there are some indexing to follow. Since most of us will not code the backpropopgation manually, The coded is illustrative, specific and not too general. Still you can play with the coded example and test different parameters and data sets.<br>\n",
    "To implement backpropogation example, Lets start with our Logic OR example.\n",
    "![title](https://raw.githubusercontent.com/naomifridman/Introduction_to_deep_learning/master/imgs/mlp1j11.JPG)\n",
    "### Step 1. Initialize network\n",
    "For simplicity, we choose all activation functions to be Sigmoid function. For clarity, We will cal the weighted input sum to a neuron: net, and the Sigmoid applied on the this sum will be called: out.\n",
    "![title](https://raw.githubusercontent.com/naomifridman/Introduction_to_deep_learning/master/imgs/neuron_in_out.JPG)\n",
    "Build and Initialize network with random weights:"
   ]
  },
  {
   "cell_type": "code",
   "execution_count": 160,
   "metadata": {},
   "outputs": [],
   "source": [
    "# Initialize a network\n",
    "n_inputs = 3\n",
    "n_hidden = 2\n",
    "\n",
    "def initialize_network():\n",
    "    \n",
    "    network = {'n_inputs':n_inputs,'n_hidden':n_hidden,\n",
    "               'n_outputs':1,\n",
    "               'hidden_layer_weights':\\\n",
    "               [[np.random.random() for i in range(n_inputs)] for i in range(n_hidden)],\n",
    "              'output_layer_weights':\\\n",
    "              [np.random.random() for i in range(n_hidden)],\n",
    "               \n",
    "              'output_layer_net':0.,\n",
    "              'hidden_net':\\\n",
    "               [0. for i in range(n_hidden)],\n",
    "               'hidden_out':\\\n",
    "               [0. for i in range(n_hidden)],\n",
    "               'output_layer_out':0.\n",
    "              }\n",
    "    \n",
    "    return network"
   ]
  },
  {
   "cell_type": "code",
   "execution_count": 161,
   "metadata": {},
   "outputs": [],
   "source": [
    "def print_network(network):\n",
    "    print('hidden_layer_weights:')\n",
    "    \n",
    "    for i in range(n_hidden):\n",
    "        print('h{} weights:{}'.format(i, network['hidden_layer_weights'][i]))\n",
    "        print('h{} net:{:.4f}'.format(i, network['hidden_net'][i]))\n",
    "        print('h{} out:{:.4f}'.format(i, network['hidden_out'][i]))\n",
    "    print('output_layer_weights: {}'.format(network['output_layer_weights']))\n",
    "    print('output layer net: {:.4f}'.format(network['output_layer_net']))\n",
    "    print('Output: {:.4f}'.format(network['output_layer_out']))"
   ]
  },
  {
   "cell_type": "code",
   "execution_count": 162,
   "metadata": {},
   "outputs": [
    {
     "name": "stdout",
     "output_type": "stream",
     "text": [
      "hidden_layer_weights:\n",
      "h0 weights:[0.5488135039273248, 0.7151893663724195, 0.6027633760716439]\n",
      "h0 net:0.0000\n",
      "h0 out:0.0000\n",
      "h1 weights:[0.5448831829968969, 0.4236547993389047, 0.6458941130666561]\n",
      "h1 net:0.0000\n",
      "h1 out:0.0000\n",
      "output_layer_weights: [0.4375872112626925, 0.8917730007820798]\n",
      "output layer net: 0.0000\n",
      "Output: 0.0000\n"
     ]
    }
   ],
   "source": [
    "np.random.seed(0)\n",
    "network = initialize_network()\n",
    "print_network(network)"
   ]
  },
  {
   "cell_type": "markdown",
   "metadata": {},
   "source": [
    "### Step 2. Forward pass"
   ]
  },
  {
   "cell_type": "code",
   "execution_count": 163,
   "metadata": {},
   "outputs": [],
   "source": [
    "def sigmoid(x):\n",
    "    return 1.0 / (1.0 + np.exp(-x))"
   ]
  },
  {
   "cell_type": "code",
   "execution_count": 164,
   "metadata": {},
   "outputs": [],
   "source": [
    "# Forward pass: propagate input to a network output\n",
    "def forward_propagate(network, inputs):\n",
    "    new_inputs = []\n",
    "    for i in range(network['n_hidden']):\n",
    "        #print('i',i, network['hidden_layer_weights'][i])\n",
    "        #print(inputs)\n",
    "        network['hidden_net'][i] = np.dot(network['hidden_layer_weights'][i],\n",
    "                                                inputs)\n",
    "        network['hidden_out'][i] = sigmoid(network['hidden_net'][i])\n",
    "    \n",
    "   \n",
    "    net = np.dot(network['output_layer_weights'], \n",
    "                 [network['hidden_out'][i] for i in range(n_hidden)])\n",
    "    out = sigmoid(net)\n",
    "    network['output_layer_net'] = net\n",
    "    network['output_layer_out'] = out\n",
    "    \n",
    "    return out\n"
   ]
  },
  {
   "cell_type": "code",
   "execution_count": 165,
   "metadata": {},
   "outputs": [],
   "source": [
    "output = forward_propagate(network, [1, 0, 1])"
   ]
  },
  {
   "cell_type": "code",
   "execution_count": 166,
   "metadata": {},
   "outputs": [
    {
     "name": "stdout",
     "output_type": "stream",
     "text": [
      "hidden_layer_weights:\n",
      "h0 weights:[0.5488135039273248, 0.7151893663724195, 0.6027633760716439]\n",
      "h0 net:1.1516\n",
      "h0 out:0.7598\n",
      "h1 weights:[0.5448831829968969, 0.4236547993389047, 0.6458941130666561]\n",
      "h1 net:1.1908\n",
      "h1 out:0.7669\n",
      "output_layer_weights: [0.4375872112626925, 0.8917730007820798]\n",
      "output layer net: 1.0164\n",
      "Output: 0.7343\n"
     ]
    }
   ],
   "source": [
    "print_network(network)\n"
   ]
  },
  {
   "cell_type": "markdown",
   "metadata": {},
   "source": [
    "## Step 3. Backpropogation\n",
    "To apply the delta rule for learning, we need todefine a loss function. Lets use the simple known squere error:\n",
    "$$E_{total} = \\frac{1}{2}(target - output)^{2}$$\n",
    "To update weights, according to delta rule, we need to calculate the \"influence\"of each weight onthe target. Mathematicly, we need to calculate the partial derivativeof the error, with respect to each weight. <br>\n",
    "Lets mark the weights in our network , and rename input layer to $I_i$:\n",
    "![title](https://raw.githubusercontent.com/naomifridman/Introduction_to_deep_learning/master/imgs/mlp_2hidden_1ou_weightst.jpg)"
   ]
  },
  {
   "cell_type": "markdown",
   "metadata": {},
   "source": [
    "#### Backpropogationg error for output layer\n",
    "Consider $w_1$, We want to know how much a change in $w_7$ affects the total error, aka, $\\frac{\\partial E_{total}}{\\partial w_{1}}$"
   ]
  },
  {
   "cell_type": "markdown",
   "metadata": {},
   "source": [
    "Using chane rule, we will get:\n",
    "$$\\frac{\\partial E_{total}}{\\partial w_{1}} = \\frac{\\partial E_{total}}{\\partial out_o} * \n",
    "\\frac{\\partial out_o}{\\partial net_{o}} *\n",
    "\\frac{\\partial net_{o}}{\\partial w_{1}}$$"
   ]
  },
  {
   "cell_type": "markdown",
   "metadata": {},
   "source": [
    "$$E_{total}=(target - output)^{2 }$$\n",
    "$$output = out_o$$"
   ]
  },
  {
   "cell_type": "markdown",
   "metadata": {},
   "source": [
    "$$\\frac{\\partial E_{total}}{\\partial out_o} = 2 * \\frac{1}{2}(target - out_o)^{2 - 1} * -1 =(out_o-target)$$"
   ]
  },
  {
   "cell_type": "markdown",
   "metadata": {},
   "source": [
    "We chose Sigmoid activation, wich derivative is:\n",
    "$$\\frac{d}{dx}Sigmoid(x) = Sigmoid(x)(1 - Sigmoid(x))$$\n",
    "* detailes https://beckernick.github.io/sigmoid-derivative-neural-network/\n",
    "\n",
    "And since:\n"
   ]
  },
  {
   "cell_type": "markdown",
   "metadata": {},
   "source": [
    "\n",
    "\n",
    "$$output = out_o = \\frac{1}{1+e^{-net_{o}}}$$\n",
    "We get:"
   ]
  },
  {
   "cell_type": "markdown",
   "metadata": {},
   "source": [
    "$$\\frac{\\partial out_o}{\\partial net_{o}} = out_o*(1-out_o)$$"
   ]
  },
  {
   "cell_type": "markdown",
   "metadata": {},
   "source": [
    "$$net_{o} = out_{h0}*w_0 + out_{h1}*w_1$$    "
   ]
  },
  {
   "cell_type": "markdown",
   "metadata": {},
   "source": [
    "$out_{h0}$ ho has no dependence in $w_{1}$, So:\n",
    "$$\\frac{\\partial net_{o}}{\\partial w_{1}} = out_{h1}$$    "
   ]
  },
  {
   "cell_type": "markdown",
   "metadata": {},
   "source": [
    "\n",
    "Putting it all together, we get:"
   ]
  },
  {
   "cell_type": "markdown",
   "metadata": {},
   "source": [
    "$$\\frac{\\partial E_{total}}{\\partial w_{1}} = \\frac{\\partial E_{total}}{\\partial out_o} * \n",
    "\\frac{\\partial out_o}{\\partial net_{o}} *\n",
    "\\frac{\\partial net_{o}}{\\partial w_{1}} =  -(target-out_o)*\n",
    "out_o*(1-out_o)*\n",
    "out_{h1}\n",
    "$$"
   ]
  },
  {
   "cell_type": "markdown",
   "metadata": {},
   "source": [
    "So according to delta rule, to decrease error, we update $w_1$:\n",
    "$$w_1^{new} = w_1 + \\Delta* (target-out_o)*  out_o*(1-out_o)*out_{h1}$$"
   ]
  },
  {
   "cell_type": "markdown",
   "metadata": {},
   "source": [
    "In the same, we can calculate update for $w_0$:\n",
    "$$w_0^{new} = w_0 + \\Delta* (target-out_o)*  out_o*(1-out_o)*out_{ho}$$"
   ]
  },
  {
   "cell_type": "markdown",
   "metadata": {},
   "source": [
    "Lets mark:\n",
    "$$ \\delta_{o} = out_o*(1-out_o)$$"
   ]
  },
  {
   "cell_type": "markdown",
   "metadata": {},
   "source": [
    "We get:\n",
    "$$w_0^{new} = w_0 + \\Delta* \\delta_{o}*out_{ho}*(target-output)$$"
   ]
  },
  {
   "cell_type": "markdown",
   "metadata": {},
   "source": [
    "$$w_1^{new} = w_1 + \\Delta* \\delta_{o}*out_{h1}*(target-output)$$"
   ]
  },
  {
   "cell_type": "markdown",
   "metadata": {},
   "source": [
    "#### Backpropogationg error for hidden layer\n",
    "In a similar way, lets calculate: $\\frac{\\partial E_{total}}{\\partial w_{12}}$"
   ]
  },
  {
   "cell_type": "markdown",
   "metadata": {},
   "source": [
    "$$\\frac{\\partial E_{total}}{\\partial w_{12}} = [\\frac{\\partial E_{total}}{\\partial out_{o}} * \n",
    "\\frac{\\partial out_{o}}{\\partial net_{o}}] * \n",
    "\\frac{\\partial net_{o}}{\\partial out_{h1}} * \n",
    "\\frac{\\partial out_{h1}}{\\partial net_{h1}} *\n",
    "\\frac{\\partial net_{h1}}{\\partial w_{12}} $$"
   ]
  },
  {
   "cell_type": "markdown",
   "metadata": {},
   "source": [
    "$$\\frac{\\partial E_{total}}{\\partial w_{12}} = -[\\delta_{out}*out_{h1}*(target-output)]*\\frac{\\partial net_{o}}{\\partial out_{h1}} * \n",
    "\\frac{\\partial out_{h1}}{\\partial net_{h1}} *\n",
    "\\frac{\\partial net_{h1}}{\\partial w_{12}} $$"
   ]
  },
  {
   "cell_type": "markdown",
   "metadata": {},
   "source": [
    "$$net_{o} = out_{h0}*w_0 + out_{h1}*w_1$$   "
   ]
  },
  {
   "cell_type": "markdown",
   "metadata": {},
   "source": [
    "$$\\frac{\\partial net_{o}}{\\partial out_{h1}} = w_1$$"
   ]
  },
  {
   "cell_type": "markdown",
   "metadata": {},
   "source": [
    "$$\\frac{\\partial out_{h1}}{\\partial net_{h1}} = out_{h1}*(1-out_{h1})=\\delta_{h1}$$"
   ]
  },
  {
   "cell_type": "markdown",
   "metadata": {},
   "source": [
    "$$\\frac{\\partial net_{h1}}{\\partial w_{12}} = I_{2}$$"
   ]
  },
  {
   "cell_type": "markdown",
   "metadata": {},
   "source": [
    "Putting it all together, we get:"
   ]
  },
  {
   "cell_type": "markdown",
   "metadata": {},
   "source": [
    "$$\\frac{\\partial E_{total}}{\\partial w_{11}} = -(target-output)*\\delta_{out}*out_{h1}*w_1*\\delta_{h1}*I_1$$"
   ]
  },
  {
   "cell_type": "markdown",
   "metadata": {},
   "source": [
    "$$\\frac{\\partial E_{total}}{\\partial w_{10}} = -(target-output)*\\delta_{out}*out_{h1}*w_1*\\delta_{h1}*I_0$$"
   ]
  },
  {
   "cell_type": "markdown",
   "metadata": {},
   "source": [
    "$$\\frac{\\partial E_{total}}{\\partial w_{00}} = -(target-output)*\\delta_{out}*out_{h0}*w_0*\\delta_{h0}*I_0$$"
   ]
  },
  {
   "cell_type": "markdown",
   "metadata": {},
   "source": [
    "We can write, general update rule for hidden layerofour network:"
   ]
  },
  {
   "cell_type": "markdown",
   "metadata": {},
   "source": [
    "$$\\frac{\\partial E_{total}}{\\partial w_{ij}} = -(target-output)*\\delta_{o}*out_{hi}*w_i*\\delta_{hi}*I_j$$"
   ]
  },
  {
   "cell_type": "markdown",
   "metadata": {},
   "source": [
    "So, update rule for hidden layer weights, will be:"
   ]
  },
  {
   "cell_type": "markdown",
   "metadata": {},
   "source": [
    "$$w^{new}_{ij} = w_{ij} + \\Delta *(target-output)*\\delta_{o}*out_{hi}*w_i*\\delta_{hi}*I_j$$"
   ]
  },
  {
   "cell_type": "code",
   "execution_count": 167,
   "metadata": {},
   "outputs": [],
   "source": [
    "def delta(x):    \n",
    "    return x * (1 - x)"
   ]
  },
  {
   "cell_type": "code",
   "execution_count": 168,
   "metadata": {},
   "outputs": [],
   "source": [
    "# Backpropagate error and update weights\n",
    "def backward_propagate_error(network, inputs, output, target, lr = 0.5):\n",
    "    \n",
    "    delta_o = delta(output)\n",
    "\n",
    "    for i in range(n_hidden):\n",
    "\n",
    "        # lets mark: update_i = delta_o*out_hi*(target - output)\n",
    "        update_i = delta_o * network['hidden_out'][i] * (target - output)\n",
    "               \n",
    "        # update hidden layer weights        \n",
    "        # We get: w_new_ij = w_ij + lr*update_i*w_i*delta_hi*Ij\n",
    "        for j in range(n_inputs):\n",
    "            w_i = network['output_layer_weights'][i]\n",
    "            out_hi = network['hidden_out'][i]\n",
    "            update_ij = update_i*w_i*delta(out_hi)*inputs[j]\n",
    "            network['hidden_layer_weights'][i][j] += lr*update_ij\n",
    "       \n",
    "        # update output layer weights\n",
    "        # w_new_i = w_i + lr*delta_o*out_hi*(target - output)\n",
    "        # w_new_i = w_i + lr*update_i\n",
    "        network['output_layer_weights'][i] +=  lr * update_i    \n",
    "        \n",
    "    "
   ]
  },
  {
   "cell_type": "markdown",
   "metadata": {},
   "source": [
    "Some Test of back propogation"
   ]
  },
  {
   "cell_type": "code",
   "execution_count": 169,
   "metadata": {},
   "outputs": [
    {
     "name": "stdout",
     "output_type": "stream",
     "text": [
      "hidden_layer_weights:\n",
      "h0 weights:[0.5488135039273248, 0.7151893663724195, 0.6027633760716439]\n",
      "h0 net:0.5488\n",
      "h0 out:0.6339\n",
      "h1 weights:[0.5448831829968969, 0.4236547993389047, 0.6458941130666561]\n",
      "h1 net:0.5449\n",
      "h1 out:0.6329\n",
      "output_layer_weights: [0.4375872112626925, 0.8917730007820798]\n",
      "output layer net: 0.8418\n",
      "Output: 0.6988\n",
      "hidden_layer_weights:\n",
      "h0 weights:[0.5440795950731664, 0.7151893663724195, 0.6027633760716439]\n",
      "h0 net:0.5488\n",
      "h0 out:0.6339\n",
      "h1 weights:[0.5352395813873537, 0.4236547993389047, 0.6458941130666561]\n",
      "h1 net:0.5449\n",
      "h1 out:0.6329\n",
      "output_layer_weights: [0.39097337104818664, 0.8452262752812989]\n",
      "output layer net: 0.8418\n",
      "Output: 0.6988\n"
     ]
    }
   ],
   "source": [
    "inputs = [1,0,0]\n",
    "target = 0\n",
    "output = forward_propagate(network, inputs)\n",
    "print_network(network)\n",
    "backward_propagate_error(network, inputs, output, target)\n",
    "print_network(network)"
   ]
  },
  {
   "cell_type": "markdown",
   "metadata": {},
   "source": [
    "## Step 4. Train network"
   ]
  },
  {
   "cell_type": "code",
   "execution_count": 191,
   "metadata": {},
   "outputs": [],
   "source": [
    "def train_network(network, train, targets, l_rate, n_epoch, verbose=0):\n",
    "    \n",
    "    epoch_error = []\n",
    "    #print('in train_error')\n",
    "    for epoch in range(n_epoch):\n",
    "        sum_error = 0\n",
    "        for inputs,target in zip(train,targets):\n",
    "            #print('inputs', inputs)\n",
    "            #print_network(network)\n",
    "            output = forward_propagate(network, inputs)\n",
    "            # update the weights according to error in the output\n",
    "            sum_error += np.sum((target-output)**2)\n",
    "            backward_propagate_error(network, inputs, output, target)\n",
    "        epoch_error.append(sum_error)\n",
    "        if (verbose):\n",
    "            print('>epoch=%d,  error=%.3f' % (epoch, sum_error))\n",
    "    return epoch_error"
   ]
  },
  {
   "cell_type": "code",
   "execution_count": 192,
   "metadata": {},
   "outputs": [
    {
     "name": "stdout",
     "output_type": "stream",
     "text": [
      "hidden_layer_weights:\n",
      "h0 weights:[1.182997157804538, 0.6779375271863188, 0.5570052393625283]\n",
      "h0 net:1.7400\n",
      "h0 out:0.8507\n",
      "h1 weights:[-1.0888274097002848, 3.089542503892458, 3.137135989986509]\n",
      "h1 net:2.0483\n",
      "h1 out:0.8858\n",
      "output_layer_weights: [-2.4216395088721843, 4.428352748898924]\n",
      "output layer net: 1.8625\n",
      "Output: 0.8656\n"
     ]
    }
   ],
   "source": [
    "output = forward_propagate(network, [1, 0, 1])\n",
    "print_network(network)"
   ]
  },
  {
   "cell_type": "markdown",
   "metadata": {},
   "source": [
    "#### Lets train the network on Logic OR \n",
    "* Inputs are $[bias=1, X_0, X_1]$\n",
    "* Targets are:  $X_0 \\vee X_1$"
   ]
  },
  {
   "cell_type": "code",
   "execution_count": 193,
   "metadata": {},
   "outputs": [],
   "source": [
    "np.random.seed(0)\n",
    "train_set = [[1,0.,0],\n",
    "    [1.,0.,1.],\n",
    "    [1, 1.,1.],\n",
    "    [1.,1.,0]]\n",
    "targets = [0, 1, 1, 1]\n",
    "network = initialize_network()\n",
    "epoch_error = train_network(network=network, train=train_set,\n",
    "                            targets=targets,\n",
    "                            l_rate=0.5, n_epoch=600)\n"
   ]
  },
  {
   "cell_type": "code",
   "execution_count": 194,
   "metadata": {},
   "outputs": [
    {
     "data": {
      "image/png": "[encoded data removed]",
      "text/plain": [
       "<Figure size 432x288 with 1 Axes>"
      ]
     },
     "metadata": {},
     "output_type": "display_data"
    }
   ],
   "source": [
    "plt.plot(epoch_error)\n",
    "plt.ylabel('square error')\n",
    "plt.xlabel('epoch')\n",
    "plt.title('Square error per Epoch')\n",
    "plt.show()"
   ]
  },
  {
   "cell_type": "markdown",
   "metadata": {},
   "source": [
    "## Step 4. Predict"
   ]
  },
  {
   "cell_type": "code",
   "execution_count": 195,
   "metadata": {},
   "outputs": [],
   "source": [
    "# Make a prediction with the trained  network\n",
    "def predict(network, inputs):\n",
    "    outputs = forward_propagate(network, inputs)\n",
    "    return outputs"
   ]
  },
  {
   "cell_type": "code",
   "execution_count": 196,
   "metadata": {},
   "outputs": [
    {
     "name": "stdout",
     "output_type": "stream",
     "text": [
      "[1, 0.0, 0] 0.32333241162106896\n",
      "[1.0, 0.0, 1.0] 0.8655849465367054\n",
      "[1, 1.0, 1.0] 0.8983473668822205\n",
      "[1.0, 1.0, 0] 0.858770021234528\n"
     ]
    }
   ],
   "source": [
    "for inputs in train_set:\n",
    "    prediction = predict(network, inputs)\n",
    "    print(inputs,prediction)"
   ]
  },
  {
   "cell_type": "markdown",
   "metadata": {},
   "source": [
    ">### Remarks on weight update\n",
    "There are few ways to update the weights. \n",
    "* Stochastic Gradient Descent\n",
    "In Stochastic gradient descent, often abbreviated as SGD, the error is calculated , and the weights are updated for each example in the training dataset.<br>\n",
    "I used this method here, since its clear and ilustrative, and the toy data set,is very small.\n",
    "* Batch Gradient Descent\n",
    "In Batch gradient descent the error is calculated for each example in the training dataset, but the weights are updated after a pass on all training examples.\n",
    "* Mini-Batch Gradient Descent\n",
    "In Mini-batch gradient descent we split the training dataset into small batches. The error is calculated ,as a sum or a mean, for each mini batch, and weights are updated after each minibatch."
   ]
  },
  {
   "cell_type": "markdown",
   "metadata": {},
   "source": [
    "As we can see, to build practical neural networks for real problems, \n",
    "we better off using deep learning library.\n",
    "Keras is great library to start with. An ilstrutive example in the next part.\n",
    "* https://keras.io/"
   ]
  },
  {
   "cell_type": "markdown",
   "metadata": {},
   "source": [
    "### Learn more:\n",
    "* This part was written as an attempt to understand Hinton's lecture: https://www.coursera.org/learn/neural-networks/lecture/bD3OB/learning-the-weights-of-a-linear-neuron-12-min\n",
    "* Google machine learning course https://developers.google.com/machine-learning/crash-course/reducing-loss/gradient-descent"
   ]
  }
 ],
 "metadata": {
  "kernelspec": {
   "display_name": "Python 3",
   "language": "python",
   "name": "python3"
  },
  "language_info": {
   "codemirror_mode": {
    "name": "ipython",
    "version": 3
   },
   "file_extension": ".py",
   "mimetype": "text/x-python",
   "name": "python",
   "nbconvert_exporter": "python",
   "pygments_lexer": "ipython3",
   "version": "3.6.5"
  }
 },
 "nbformat": 4,
 "nbformat_minor": 2
}
