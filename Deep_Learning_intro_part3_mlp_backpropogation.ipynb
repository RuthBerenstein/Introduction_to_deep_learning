{
 "cells": [
  {
   "cell_type": "markdown",
   "metadata": {},
   "source": [
    "## Introduction to Deep Learning\n",
    "# Part 3 - Multiple Layer Neural Networks\n",
    "### Delta rule for learning, Gradient Decent and backpropogation"
   ]
  },
  {
   "cell_type": "code",
   "execution_count": 234,
   "metadata": {},
   "outputs": [],
   "source": [
    "import matplotlib.pyplot as plt\n",
    "import numpy as np\n",
    "np.set_printoptions(precision=3)\n",
    "import utils_plot as uplot\n",
    "import matplotlib.gridspec as gridspec\n",
    "from sklearn.metrics import accuracy_score, log_loss\n",
    "%matplotlib inline  "
   ]
  },
  {
   "cell_type": "markdown",
   "metadata": {},
   "source": [
    "Networks without hidden units are very limited in what they can learn to model. What we need is multiple layers of non-linear hidden units. <br>\n",
    "The challenge is: **how to train such networks ?**<br>\n",
    "We need a way to update all the weights not just the last layer like in a perceptron. It is a hard problem, and it took the researchers 20 years to find the right method. <br>\n",
    "\n",
    "\n",
    "![title](https://raw.githubusercontent.com/naomifridman/Introduction_to_deep_learning/master/imgs/training_model.png)\n",
    "Any hidden unit, can affect many other units, and affect the results, in many ways. So we use a method to combine all those effects, and focus on investigating the effect, the weight have, on the overall error.<br>"
   ]
  },
  {
   "cell_type": "markdown",
   "metadata": {},
   "source": [
    "The aim of the learning is to minimize the error summed (or mean) over all training cases. <br>\n",
    "To achieve that,we need a **measure** of that error. For simplicity, we will use the square difference between the target output and the actual output. "
   ]
  },
  {
   "cell_type": "markdown",
   "metadata": {},
   "source": [
    "### Loss Function For learning\n",
    "The squared loss is a popular loss function, also known as L2 loss.The squared loss is the squared distance between the prediction and the true label. <br>\n",
    "Lets mark:\n",
    "* $x\\, -\\, The\\, input$\n",
    "* $\\hat{y}\\, or \\,y'\\, - \\,The\\, true\\, labels$<br>\n",
    "* $y = predictions(x) = f(x)\\; Model's\\,  predictions$<br>\n",
    "\n",
    "The squared loss for a single example is: ${(\\hat{y} - y)}^2$<br>\n",
    "\n",
    " \n",
    "#### Mean square error (MSE) \n",
    "is the average squared loss per example over the whole dataset. \n",
    "To calculate MSE, sum up all the squared\n",
    "losses for individual examples and then divide by the number of examples:\n",
    "    $$ MSE = \\frac{1}{N} \\sum_{(x,y)\\in D} (\\hat{y} - f(x))^2 = \\frac{1}{N} \\sum_{(x,y)\\in D} (\\hat{y} - y)^2$$\n",
    "> MSE is popular in machine learning, mainly from historical reasons, since all the math was initially calculated with MSE. But it is not necessary the best. For different problems, there are other practical loss functions that performs better.\n",
    "\n",
    "#### The goal of training a model is to find a set of weights that produce a minimal loss, on average, across all examples.\n"
   ]
  },
  {
   "cell_type": "markdown",
   "metadata": {},
   "source": [
    "To find the minimum of the loss function, we will use An iterative method. <br>\n",
    "Iterative methods, are usually less efficient, but much easier to generalize."
   ]
  },
  {
   "cell_type": "markdown",
   "metadata": {},
   "source": [
    "## Gradient Decent - Minimize loss function iterativly \n",
    "Intuition: Imagine you stand in a canyon, or a bowl, and you want to get to the lowest point. If you walk in small steps towards the steepest part, this will get you to the lowest point, if the canyon (or the bowl) is convex.\n",
    "![title](https://raw.githubusercontent.com/naomifridman/Introduction_to_deep_learning/master/imgs/dune11.jpg)\n",
    "### Delta rule for learning\n",
    "This intuition is defined as the delta rule.\n",
    "$$ \\Delta{W} = \\alpha*(derivative\\, of\\, the \\,loss\\, function)$$\n",
    "\n",
    "* $\\alpha$ - learning rate, is the (small) size of the step.\n",
    "\n",
    "The weights update will be:\n",
    "$$ W_{new} = W_{old} - \\Delta{W}$$\n",
    "\n"
   ]
  },
  {
   "cell_type": "markdown",
   "metadata": {},
   "source": [
    "But how do we implement the delta rule for a multi layer network ?\n",
    "This implementation is called back-propagation. Back-propagation, is an abbreviation for **\"backwards propagation of errors\"**, is a mechanism used to update the weights using gradient descent. It calculates the gradient of the error function with respect to the neural networks weights. The calculation proceeds backwards through the network."
   ]
  },
  {
   "cell_type": "markdown",
   "metadata": {},
   "source": [
    "## Back-propagation\n",
    "Back propagation,is a method to propagate the error, back to the weights, and update them in away that will minimize the error.<br>\n",
    "Math is simple algebra, but there are some indexing to follow. The coded is illustrative, specific and not too general. Still you can play with it and test different hyper parameters and data sets.<br>\n",
    "### Multiple Layer Neural Networks example\n",
    "To implement full back-propagation example, Lets build a simple neural network, with:\n",
    "* One hidden layer, with 2 neurons\n",
    "* Input layer of 2 feature and bias\n",
    "* Output layer, outputs probability of binary classification (the probability to be 1)\n",
    "\n",
    "![title](https://raw.githubusercontent.com/naomifridman/Introduction_to_deep_learning/master/imgs/mlp1j11.JPG)\n",
    "#### Activation function\n",
    "For simplicity, we choose all activation functions to be Sigmoid function.\n",
    "\n",
    "* $z$ - will be the weighted input sum of the input to the neuron\n",
    "* $y$ - will be the output of the neuron, which is the Sigmoid(z).\n",
    "* I - the input to the neuron\n",
    "* W - the neurons weights (same number as inputs)\n",
    "\n",
    "##### The Neuron \n",
    "All Neurons in our network, calculate weighted sum of the input, and output the results of applying Sigmoid function on the weighted sum.\n",
    "![title](https://raw.githubusercontent.com/naomifridman/Introduction_to_deep_learning/master/imgs/neuron_in_out.JPG)\n",
    "### Build MLP Step 1. Initialize network\n",
    "We define the network as a dictionary, holding weights of each neuron, z values (the weighted sum) and output values.\n",
    "\n",
    "We Initialize network with random weights:"
   ]
  },
  {
   "cell_type": "code",
   "execution_count": 235,
   "metadata": {},
   "outputs": [],
   "source": [
    "# Initialize a network\n",
    "n_inputs = 3\n",
    "n_hidden = 2\n",
    "\n",
    "def initialize_mlp():\n",
    "    \n",
    "    mlp = {'n_inputs':n_inputs,'n_hidden':n_hidden,\n",
    "        'n_outputs':1,\n",
    "        'hidden_layer_weights':np.random.random((n_hidden, n_inputs)),\n",
    "        \n",
    "        'output_layer_weights':np.random.random(n_hidden),\n",
    "        'output_layer_z':0.,\n",
    "        'hidden_z':np.zeros(n_hidden),\n",
    "        'hidden_out':np.zeros(n_hidden),\n",
    "        'output_layer_out':0.\n",
    "    }\n",
    "    \n",
    "    return mlp"
   ]
  },
  {
   "cell_type": "code",
   "execution_count": 236,
   "metadata": {},
   "outputs": [],
   "source": [
    "def print_network(network):\n",
    "    print('\\033[1m'+'hidden_layer_weights:')\n",
    "    \n",
    "    for i in range(n_hidden):\n",
    "        print('\\033[0m'+'h{} weights:{}'.format(i, network['hidden_layer_weights'][i]))\n",
    "        print('h{} z : {:.4f}'.format(i, network['hidden_z'][i]))\n",
    "        print('h{} y : {:.4f}'.format(i, network['hidden_out'][i]))\n",
    "    print('\\033[1m'+'output_layer_weights:')\n",
    "    print('\\033[0m'+'o_weights: {}'.format(network['output_layer_weights']))\n",
    "    print('output layer z : {:.4f}'.format(network['output_layer_z']))\n",
    "    print('\\033[1m'+'Output - y : {:.4f}'.format(network['output_layer_out']))\n",
    "    print('\\033[0m')"
   ]
  },
  {
   "cell_type": "code",
   "execution_count": 237,
   "metadata": {},
   "outputs": [
    {
     "name": "stdout",
     "output_type": "stream",
     "text": [
      "\u001b[1mhidden_layer_weights:\n",
      "\u001b[0mh0 weights:[ 0.549  0.715  0.603]\n",
      "h0 z : 0.0000\n",
      "h0 y : 0.0000\n",
      "\u001b[0mh1 weights:[ 0.545  0.424  0.646]\n",
      "h1 z : 0.0000\n",
      "h1 y : 0.0000\n",
      "\u001b[1moutput_layer_weights:\n",
      "\u001b[0mo_weights: [ 0.438  0.892]\n",
      "output layer z : 0.0000\n",
      "\u001b[1mOutput - y : 0.0000\n",
      "\u001b[0m\n"
     ]
    }
   ],
   "source": [
    "\n",
    "np.random.seed(0)\n",
    "network = initialize_mlp()\n",
    "print_network(network)"
   ]
  },
  {
   "cell_type": "markdown",
   "metadata": {},
   "source": [
    "### Step 2. Forward pass\n",
    "Given an input, calculate the output. To do that, we calculate all the values in the neurons along the network, until the output."
   ]
  },
  {
   "cell_type": "code",
   "execution_count": 238,
   "metadata": {},
   "outputs": [],
   "source": [
    "def sigmoid(x):\n",
    "    return 1.0 / (1.0 + np.exp(-x))"
   ]
  },
  {
   "cell_type": "code",
   "execution_count": 239,
   "metadata": {},
   "outputs": [],
   "source": [
    "# Forward pass: propagate input to a network output\n",
    "def forward_propagate(network, inputs):\n",
    "    #new_inputs = []\n",
    "    for i in range(network['n_hidden']):\n",
    "\n",
    "        network['hidden_z'][i] = np.dot(network['hidden_layer_weights'][i],\n",
    "                                                inputs)\n",
    "        network['hidden_out'][i] = sigmoid(network['hidden_z'][i])\n",
    "    \n",
    "   \n",
    "    z = np.dot(network['output_layer_weights'], \n",
    "                 [network['hidden_out'][i] for i in range(n_hidden)])\n",
    "    out = sigmoid(z)\n",
    "    network['output_layer_z'] = z\n",
    "    network['output_layer_out'] = out\n",
    "    \n",
    "    return out\n"
   ]
  },
  {
   "cell_type": "code",
   "execution_count": 240,
   "metadata": {},
   "outputs": [],
   "source": [
    "# Forward pass: propagate input to a network output\n",
    "def forward_propagate(network, X):\n",
    "    \n",
    "    # z_h = Wh*X\n",
    "    network['hidden_z'] = np.dot(network['hidden_layer_weights'], X.T)\n",
    "    # y_h = sigmoid(z_h)\n",
    "    network['hidden_out'] = sigmoid(network['hidden_z'])\n",
    "       \n",
    "    # z_o = Wo* y_h\n",
    "    network['output_layer_z'] = np.dot(network['output_layer_weights'], network['hidden_out'].T)\n",
    "    # y_o = sigmoid(z_o)\n",
    "    network['output_layer_out'] = sigmoid(network['output_layer_z'])\n",
    "    \n",
    "    return network['output_layer_out']\n"
   ]
  },
  {
   "cell_type": "code",
   "execution_count": 241,
   "metadata": {},
   "outputs": [
    {
     "name": "stdout",
     "output_type": "stream",
     "text": [
      "\u001b[1mhidden_layer_weights:\n",
      "\u001b[0mh0 weights:[ 0.549  0.715  0.603]\n",
      "h0 z : 1.1516\n",
      "h0 y : 0.7598\n",
      "\u001b[0mh1 weights:[ 0.545  0.424  0.646]\n",
      "h1 z : 1.1908\n",
      "h1 y : 0.7669\n",
      "\u001b[1moutput_layer_weights:\n",
      "\u001b[0mo_weights: [ 0.438  0.892]\n",
      "output layer z : 1.0164\n",
      "\u001b[1mOutput - y : 0.7343\n",
      "\u001b[0m\n"
     ]
    }
   ],
   "source": [
    "np.random.seed(0)\n",
    "network = initialize_mlp()\n",
    "output = forward_propagate(network, np.array([1, 0, 1]))\n",
    "print_network(network)"
   ]
  },
  {
   "cell_type": "markdown",
   "metadata": {},
   "source": [
    "## Step 3. Back-propagation\n",
    "To apply the delta rule for learning, we need to define a loss function. Lets use the simple known square error, for **one input sample**:\n",
    "$$Error = \\frac{1}{2}(\\hat{y} - y)^2$$\n",
    "where:\n",
    "* $\\hat{y}$ is the true label, y_train\n",
    "* $y$ is the prediction calculated by the network\n",
    "\n",
    "To update weights, according to delta rule, we need to calculate the \"influence\" of each weight on the target. Mathematically, we need to calculate the partial derivative of the error, with respect to each weight. <br>\n",
    "Lets mark the weights in our network, and lets mark :\n",
    "* $o$-output layer, and $h$-hidden layer\n",
    "* $y_{o}$, and $y_{h}$ are the outputs from output and hidden layers\n",
    "* $z_{o}$, and $z_{h}$ are the weighted sum of input and neuron weights, of the output and hidden layers.\n",
    "\n",
    "![title](https://raw.githubusercontent.com/naomifridman/Introduction_to_deep_learning/master/imgs/mlp_2hidden_1ou_weightst.jpg)"
   ]
  },
  {
   "cell_type": "markdown",
   "metadata": {},
   "source": [
    "### Back-propagating error for output layer\n",
    "Consider $w_1$, We want to know how much a change in $w_1$ affects the total error, aka, $\\frac{\\partial Error}{\\partial w_{1}}$"
   ]
  },
  {
   "cell_type": "markdown",
   "metadata": {},
   "source": [
    "Using chain rule, we will get:\n",
    "$$\\frac{\\partial Error}{\\partial w_{1}} = \\frac{\\partial Error}{\\partial y_o} * \n",
    "\\frac{\\partial y_o}{\\partial z_{o}} *\n",
    "\\frac{\\partial z_{o}}{\\partial w_{1}}$$"
   ]
  },
  {
   "cell_type": "markdown",
   "metadata": {},
   "source": [
    "$$\\frac{\\partial Error}{\\partial y_o} = 2 * \\frac{1}{2}(\\hat{y} - y_o)^{2 - 1} * -1 =(y_o-\\hat{y})$$"
   ]
  },
  {
   "cell_type": "markdown",
   "metadata": {},
   "source": [
    "We chose Sigmoid activation, which derivative is:\n",
    "$$\\frac{\\partial}{\\partial x}Sigmoid(x) = Sigmoid(x)(1 - Sigmoid(x))$$\n",
    "* details https://beckernick.github.io/sigmoid-derivative-neural-network/\n",
    "\n",
    "And since:\n"
   ]
  },
  {
   "cell_type": "markdown",
   "metadata": {},
   "source": [
    "\n",
    "\n",
    "$$\\hat{y} = y_o = \\frac{1}{1+e^{-z_{o}}}$$\n",
    "We get:"
   ]
  },
  {
   "cell_type": "markdown",
   "metadata": {},
   "source": [
    "$$\\frac{\\partial y_o}{\\partial z_{o}} = y_o*(1-y_o)$$"
   ]
  },
  {
   "cell_type": "markdown",
   "metadata": {},
   "source": [
    "$$z_{o} = y_{h0}*w_0 + y_{h1}*w_1 = \\bar{w_{o}} * \\bar{y_h}$$    "
   ]
  },
  {
   "cell_type": "markdown",
   "metadata": {},
   "source": [
    "$y_{h0}$ ho has no dependence in $w_{1}$, So:\n",
    "$$\\frac{\\partial z_{o}}{\\partial w_{1}} = y_{h1}$$    "
   ]
  },
  {
   "cell_type": "markdown",
   "metadata": {},
   "source": [
    "\n",
    "Putting it all together, we get:"
   ]
  },
  {
   "cell_type": "markdown",
   "metadata": {},
   "source": [
    "$$\\frac{\\partial Error}{\\partial w_{1}} = \\frac{\\partial Error}{\\partial y_o} * \n",
    "\\frac{\\partial y_o}{\\partial z_{o}} *\n",
    "\\frac{\\partial z_{o}}{\\partial w_{1}} =  -(\\hat{y}-y_o)*\n",
    "y_o*(1-y_o)*\n",
    "y_{h1}\n",
    "$$"
   ]
  },
  {
   "cell_type": "markdown",
   "metadata": {},
   "source": [
    "So according to delta rule, to decrease error, we update $w_1$:\n",
    "$$w_1^{new} = w_1 - \\alpha*\\frac{\\partial Error}{\\partial w_{1}} = w_1 + \\alpha* (\\hat{y}-y_o)*  y_o*(1-y_o)*y_{h1}$$"
   ]
  },
  {
   "cell_type": "markdown",
   "metadata": {},
   "source": [
    "In the same, we can calculate update for $w_0$:\n",
    "$$w_0^{new} = w_0 + \\alpha* (\\hat{y}-y_o)*  y_o*(1-y_o)*y_{ho}$$"
   ]
  },
  {
   "cell_type": "markdown",
   "metadata": {},
   "source": [
    "Lets mark:\n",
    "$$ \\delta_{i} = y_i*(1-y_i)$$"
   ]
  },
  {
   "cell_type": "markdown",
   "metadata": {},
   "source": [
    "**We get an update rule for output layer weights:**\n",
    "### $$w_0^{new} = w_0 + \\alpha* \\delta_{o}*y_{ho}*(\\hat{y}-y_o)$$\n",
    "### $$w_1^{new} = w_1 + \\alpha* \\delta_{o}*y_{h1}*(\\hat{y}-y_o)$$\n",
    "**Vector wise:**\n",
    "### $$\\bar{w}^{new} = \\bar{w} + \\alpha* \\delta_{o}*\\bar{y}_{h}*(\\hat{y}-y_o)$$\n"
   ]
  },
  {
   "cell_type": "markdown",
   "metadata": {},
   "source": [
    "### Back-propagating error for hidden layer\n",
    "Now we need to continue one more layer back,to calculate the update of the weights.<br>\n",
    "\n",
    "In a similar way, lets calculate: $\\frac{\\partial Error}{\\partial w_{12}}$"
   ]
  },
  {
   "cell_type": "markdown",
   "metadata": {},
   "source": [
    "$$\\frac{\\partial Error}{\\partial w_{12}} = [\\frac{\\partial Error}{\\partial y_{o}} * \n",
    "\\frac{\\partial y_{o}}{\\partial z_{o}}] * \n",
    "\\frac{\\partial z_{o}}{\\partial y_{h1}} * \n",
    "\\frac{\\partial y_{h1}}{\\partial z_{h1}} *\n",
    "\\frac{\\partial z_{h1}}{\\partial w_{12}} $$"
   ]
  },
  {
   "cell_type": "markdown",
   "metadata": {},
   "source": [
    "$$\\frac{\\partial Error}{\\partial w_{12}} = -[\\delta_{0}*y_{h1}*(\\hat{y}-y_0)]*\\frac{\\partial z_{o}}{\\partial y_{h1}} * \n",
    "\\frac{\\partial y_{h1}}{\\partial z_{h1}} *\n",
    "\\frac{\\partial z_{h1}}{\\partial w_{12}} $$"
   ]
  },
  {
   "cell_type": "markdown",
   "metadata": {},
   "source": [
    "$$z_{o} = y_{h_0}*w_0 + y_{h_1}*w_1 = \\bar{z_h}*\\bar{w_o}$$   "
   ]
  },
  {
   "cell_type": "markdown",
   "metadata": {},
   "source": [
    "$$\\frac{\\partial z_{o}}{\\partial y_{h1}} = w_1$$"
   ]
  },
  {
   "cell_type": "markdown",
   "metadata": {},
   "source": [
    "$$\\frac{\\partial y_{h1}}{\\partial z_{h1}} = y_{h1}*(1-y_{h1})=\\delta_{h1}$$"
   ]
  },
  {
   "cell_type": "markdown",
   "metadata": {},
   "source": [
    "$$\\frac{\\partial z_{h1}}{\\partial w_{12}} = I_{2}$$"
   ]
  },
  {
   "cell_type": "markdown",
   "metadata": {},
   "source": [
    "Putting it all together, we get:"
   ]
  },
  {
   "cell_type": "markdown",
   "metadata": {},
   "source": [
    "$$\\frac{\\partial Error}{\\partial w_{10}} = -(\\hat{y}-y_o)*\\delta_{o}*y_{h1}*w_1*\\delta_{h1}*I_0$$"
   ]
  },
  {
   "cell_type": "markdown",
   "metadata": {},
   "source": [
    "$$\\frac{\\partial Error}{\\partial w_{11}} = -(\\hat{y}-y_o)*\\delta_{o}*y_{h1}*w_1*\\delta_{h1}*I_1$$"
   ]
  },
  {
   "cell_type": "markdown",
   "metadata": {},
   "source": [
    "$$\\frac{\\partial Error}{\\partial w_{12}} = -(\\hat{y}-y_o)*\\delta_{o}*y_{h1}*w_1*\\delta_{h1}*I_2$$"
   ]
  },
  {
   "cell_type": "markdown",
   "metadata": {},
   "source": [
    "We can write, general update rule for hidden layer of our network:"
   ]
  },
  {
   "cell_type": "markdown",
   "metadata": {},
   "source": [
    "$$\\frac{\\partial Error}{\\partial w_{ij}} = -(\\hat{y}-y_o)*\\delta_{o}*y_{hi}*w_i*\\delta_{hi}*I_j$$"
   ]
  },
  {
   "cell_type": "markdown",
   "metadata": {},
   "source": [
    "**So, update rule for hidden layer weights, will be:**"
   ]
  },
  {
   "cell_type": "markdown",
   "metadata": {},
   "source": [
    "### $$w^{new}_{ij} = w_{ij} + \\alpha *(\\hat{y}-y_o)*\\delta_{o}*y_{hi}*w_i*\\delta_{hi}*I_j$$"
   ]
  },
  {
   "cell_type": "markdown",
   "metadata": {},
   "source": [
    "Pay attention to the order of update. We need to first update the hidden layer weights, then the output. Since all update calculation, depend on the values before the update."
   ]
  },
  {
   "cell_type": "code",
   "execution_count": 242,
   "metadata": {},
   "outputs": [],
   "source": [
    "def delta(out):    \n",
    "    return out * (1 - out)"
   ]
  },
  {
   "cell_type": "code",
   "execution_count": 243,
   "metadata": {},
   "outputs": [],
   "source": [
    "# Backpropagate error and update weights\n",
    "def backward_propagate_error(network, I, y, y_true, lr = 0.5):\n",
    "\n",
    "    for i in range(n_hidden):\n",
    "\n",
    "        # calculate update for output layer weights\n",
    "        update_i = delta(y) * network['hidden_out'][i] * (y_true - y)\n",
    "               \n",
    "        # update hidden layer weights        \n",
    "        for j in range(n_inputs):\n",
    "            w_i = network['output_layer_weights'][i]\n",
    "            y_hi = network['hidden_out'][i]\n",
    "            update_ij = update_i*w_i*delta(y_hi)*I[j]\n",
    "            network['hidden_layer_weights'][i][j] += lr*update_ij\n",
    "       \n",
    "        # update output layer weights\n",
    "        network['output_layer_weights'][i] +=  lr * update_i        "
   ]
  },
  {
   "cell_type": "markdown",
   "metadata": {},
   "source": [
    "Let's Test of back propagation"
   ]
  },
  {
   "cell_type": "code",
   "execution_count": 244,
   "metadata": {},
   "outputs": [
    {
     "name": "stdout",
     "output_type": "stream",
     "text": [
      "**Network after forward pass\n",
      "\u001b[1mhidden_layer_weights:\n",
      "\u001b[0mh0 weights:[ 0.549  0.715  0.603]\n",
      "h0 z : 0.5488\n",
      "h0 y : 0.6339\n",
      "\u001b[0mh1 weights:[ 0.545  0.424  0.646]\n",
      "h1 z : 0.5449\n",
      "h1 y : 0.6329\n",
      "\u001b[1moutput_layer_weights:\n",
      "\u001b[0mo_weights: [ 0.438  0.892]\n",
      "output layer z : 0.8418\n",
      "\u001b[1mOutput - y : 0.6988\n",
      "\u001b[0m\n",
      "\n",
      "**Network after forward pass and back propagation\n",
      "\u001b[1mhidden_layer_weights:\n",
      "\u001b[0mh0 weights:[ 0.544  0.715  0.603]\n",
      "h0 z : 0.5441\n",
      "h0 y : 0.6328\n",
      "\u001b[0mh1 weights:[ 0.535  0.424  0.646]\n",
      "h1 z : 0.5352\n",
      "h1 y : 0.6307\n",
      "\u001b[1moutput_layer_weights:\n",
      "\u001b[0mo_weights: [ 0.391  0.845]\n",
      "output layer z : 0.7805\n",
      "\u001b[1mOutput - y : 0.6858\n",
      "\u001b[0m\n"
     ]
    }
   ],
   "source": [
    "np.random.seed(0)\n",
    "network = initialize_mlp()\n",
    "\n",
    "inputs = np.array([1,0,0])\n",
    "target = 0\n",
    "output = forward_propagate(network, inputs)\n",
    "print('**Network after forward pass')\n",
    "print_network(network)\n",
    "backward_propagate_error(network, inputs, output, target)\n",
    "print('\\n**Network after forward pass and back propagation')\n",
    "# perform forward pass toupdate z and out of neurons\n",
    "output = forward_propagate(network, inputs)\n",
    "print_network(network)"
   ]
  },
  {
   "cell_type": "markdown",
   "metadata": {},
   "source": [
    "We can see that the result, improved after weight update with back-propagation. Safe to assume that the network will improve with each input sample, ans we use this idea to build our training scheme."
   ]
  },
  {
   "cell_type": "markdown",
   "metadata": {},
   "source": [
    "## Step 4. Train network\n",
    "In the train function, in each epoch, we go over all input samples, perform forward pass on each sample, and update weights with back-propagating the error."
   ]
  },
  {
   "cell_type": "code",
   "execution_count": 250,
   "metadata": {},
   "outputs": [],
   "source": [
    "\n",
    "del inputs"
   ]
  },
  {
   "cell_type": "code",
   "execution_count": 253,
   "metadata": {},
   "outputs": [],
   "source": [
    "from sklearn.utils import shuffle\n",
    "def train_network(network, x_train, y_train, l_rate, n_epoch, verbose=0):\n",
    "    \n",
    "    epoch_error = []\n",
    "    for epoch in range(n_epoch):\n",
    "        sum_error = 0\n",
    "        \n",
    "        x_train,y_train = shuffle(x_train,y_train, random_state=0)\n",
    "        \n",
    "        for x,y in zip(x_train,y_train):\n",
    "            # Calculate output for current weight\n",
    "            output = forward_propagate(network, x)\n",
    "            \n",
    "            # Calculate error\n",
    "            sum_error += np.sum((y-output)**2)\n",
    "            \n",
    "            # update the weights according to error in the output\n",
    "            backward_propagate_error(network, x, output, y, l_rate)\n",
    "            \n",
    "        epoch_error.append(sum_error*(1./(2.*x_train.shape[0])))\n",
    "        if (verbose):\n",
    "            print('>epoch=%d,  error=%.3f' % (epoch, sum_error))\n",
    "    return epoch_error"
   ]
  },
  {
   "cell_type": "markdown",
   "metadata": {},
   "source": [
    "### Lets train the network to predict Logic OR \n",
    "* Inputs are $[bias=1, X_0, X_1]$\n",
    "* Targets are:  $X_0$ OR $X_1$"
   ]
  },
  {
   "cell_type": "code",
   "execution_count": 254,
   "metadata": {},
   "outputs": [],
   "source": [
    "np.random.seed(0)\n",
    "train_set = [[1,0.,0],\n",
    "    [1.,0.,1.],\n",
    "    [1, 1.,1.],\n",
    "    [1.,1.,0]]\n",
    "targets = [0, 1, 1, 1]\n",
    "network = initialize_mlp()\n",
    "epoch_error = train_network(network=network, x_train=np.array(train_set),\n",
    "                            y_train=np.array(targets),\n",
    "                            l_rate=0.5, n_epoch=600)\n"
   ]
  },
  {
   "cell_type": "code",
   "execution_count": 255,
   "metadata": {},
   "outputs": [
    {
     "data": {
      "image/png": "[encoded data removed]",
      "text/plain": [
       "<Figure size 432x288 with 1 Axes>"
      ]
     },
     "metadata": {},
     "output_type": "display_data"
    }
   ],
   "source": [
    "plt.plot(epoch_error)\n",
    "plt.ylabel('square error')\n",
    "plt.xlabel('epoch')\n",
    "plt.title('Square error per Epoch')\n",
    "plt.show()"
   ]
  },
  {
   "cell_type": "markdown",
   "metadata": {},
   "source": [
    "## Step 5. Predict with the Trained Network\n",
    "To predict, with our trained network, all we need to do is to propagate forward the input. The result, is the probability that the class to which the input belong is 1."
   ]
  },
  {
   "cell_type": "code",
   "execution_count": 256,
   "metadata": {},
   "outputs": [],
   "source": [
    "# Make a prediction with the trained  network\n",
    "def predict(network, inputs):\n",
    "    \n",
    "    if isinstance(inputs, list):\n",
    "        outputs = []\n",
    "        for i in range(len(inputs)):\n",
    "            outputs.append(forward_propagate(network, inputs[i]))\n",
    "        return outputs\n",
    "    \n",
    "    if isinstance(inputs, np.ndarray):   \n",
    "        \n",
    "        outputs=np.zeros((inputs.shape[0]), dtype=np.float)\n",
    "        for i in range(inputs.shape[0]):\n",
    "            outputs[i] = forward_propagate(network, inputs[i])\n",
    "        return outputs\n",
    "   \n",
    "    outputs = forward_propagate(network, inputs)\n",
    "    return outputs"
   ]
  },
  {
   "cell_type": "code",
   "execution_count": 257,
   "metadata": {},
   "outputs": [
    {
     "name": "stdout",
     "output_type": "stream",
     "text": [
      "input: [1, 0.0, 0] true lable: 0 prediction: 0.324927343556\n",
      "input: [1.0, 0.0, 1.0] true lable: 1 prediction: 0.861188041071\n",
      "input: [1, 1.0, 1.0] true lable: 1 prediction: 0.895565193638\n",
      "input: [1.0, 1.0, 0] true lable: 1 prediction: 0.856427069725\n"
     ]
    }
   ],
   "source": [
    "prediction = predict(network, np.array(train_set))\n",
    "for i in range(4):\n",
    "    print('input:',train_set[i], 'true lable:', targets[i],\n",
    "          'prediction:', prediction[i])"
   ]
  },
  {
   "cell_type": "markdown",
   "metadata": {},
   "source": [
    "## Same Network, learn different problem\n",
    "One the strongest advantages of neural networks, is the ability to solve different problems with the same network.\n",
    "\n",
    "Lets train our network, to solve a completely different problem. For that we will use make_moons sklearn function, that create 2 dimensional binary classification dataset, where each class have a 2D moon shape."
   ]
  },
  {
   "cell_type": "code",
   "execution_count": 258,
   "metadata": {},
   "outputs": [],
   "source": [
    "import numpy as np\n",
    "import matplotlib.pyplot as plt\n",
    "from sklearn.datasets import make_moons, make_circles, make_classification\n",
    "from sklearn.preprocessing import StandardScaler\n",
    "from sklearn.model_selection import train_test_split\n",
    "from matplotlib.colors import ListedColormap\n",
    "from sklearn.metrics import accuracy_score"
   ]
  },
  {
   "cell_type": "code",
   "execution_count": 259,
   "metadata": {},
   "outputs": [
    {
     "data": {
      "text/plain": [
       "<matplotlib.collections.PathCollection at 0x1cdffa24da0>"
      ]
     },
     "execution_count": 259,
     "metadata": {},
     "output_type": "execute_result"
    },
    {
     "data": {
      "image/png": "[encoded data removed]",
      "text/plain": [
       "<Figure size 432x288 with 1 Axes>"
      ]
     },
     "metadata": {},
     "output_type": "display_data"
    }
   ],
   "source": [
    "figure = plt.figure()\n",
    "cm_bright = ListedColormap(['#FF0000', '#0000FF'])\n",
    "X, y = make_moons(n_samples=500,noise=0.2, random_state=0)\n",
    "plt.scatter(X[:, 0], X[:, 1], c=y, cmap=cm_bright,edgecolors='k')\n",
    "    "
   ]
  },
  {
   "cell_type": "markdown",
   "metadata": {},
   "source": [
    "#### Prepare Train Test Data\n",
    "* Normalize the data\n",
    "* Add 1 to input data for the bias\n",
    "* Split the data"
   ]
  },
  {
   "cell_type": "code",
   "execution_count": 260,
   "metadata": {},
   "outputs": [
    {
     "data": {
      "text/plain": [
       "(300, 3)"
      ]
     },
     "execution_count": 260,
     "metadata": {},
     "output_type": "execute_result"
    }
   ],
   "source": [
    "X = StandardScaler().fit_transform(X)\n",
    "X= np.append(np.ones((X.shape[0],1)), X, axis=1)\n",
    "X_train, X_test, y_train, y_test = train_test_split(X, y, test_size=.4, \n",
    "                                                    random_state=42)\n",
    "X_train.shape\n"
   ]
  },
  {
   "cell_type": "code",
   "execution_count": 262,
   "metadata": {},
   "outputs": [],
   "source": [
    "np.random.seed(0)\n",
    "\n",
    "network = initialize_mlp()\n",
    "epoch_error = train_network(network=network, x_train=X_train,\n",
    "                            y_train=y_train,\n",
    "                            l_rate=0.01, n_epoch=50)\n"
   ]
  },
  {
   "cell_type": "code",
   "execution_count": 263,
   "metadata": {},
   "outputs": [
    {
     "data": {
      "image/png": "[encoded data removed]",
      "text/plain": [
       "<Figure size 432x288 with 1 Axes>"
      ]
     },
     "metadata": {},
     "output_type": "display_data"
    }
   ],
   "source": [
    "plt.plot(epoch_error)\n",
    "plt.ylabel('square error')\n",
    "plt.xlabel('epoch')\n",
    "plt.title('Square error per Epoch')\n",
    "plt.show()"
   ]
  },
  {
   "cell_type": "code",
   "execution_count": 264,
   "metadata": {},
   "outputs": [
    {
     "data": {
      "text/plain": [
       "array([ 0.566,  0.449,  0.571,  0.476,  0.65 ])"
      ]
     },
     "execution_count": 264,
     "metadata": {},
     "output_type": "execute_result"
    }
   ],
   "source": [
    "pred_train = predict(network, X_train)\n",
    "pred_train[0:5]"
   ]
  },
  {
   "cell_type": "code",
   "execution_count": 265,
   "metadata": {},
   "outputs": [
    {
     "data": {
      "text/plain": [
       "(array([1, 0, 1, 0, 1, 0, 0, 0, 1, 1, 1, 0, 1, 0, 0]),\n",
       " array([1, 0, 1, 0, 1, 0, 0, 0, 1, 1, 1, 0, 1, 0, 0], dtype=int64))"
      ]
     },
     "execution_count": 265,
     "metadata": {},
     "output_type": "execute_result"
    }
   ],
   "source": [
    "y_train_pred = np.where(pred_train > 0.5, 1, 0)\n",
    "y_train_pred[0:15], y_train[0:15]"
   ]
  },
  {
   "cell_type": "code",
   "execution_count": 266,
   "metadata": {},
   "outputs": [
    {
     "data": {
      "text/plain": [
       "0.85333333333333339"
      ]
     },
     "execution_count": 266,
     "metadata": {},
     "output_type": "execute_result"
    }
   ],
   "source": [
    "accuracy_score(y_train, y_train_pred)"
   ]
  },
  {
   "cell_type": "markdown",
   "metadata": {},
   "source": [
    "Pay attention, the network is trained according to the probability output. Accuracy is calculated, after classifying by applying a threshold decision."
   ]
  },
  {
   "cell_type": "code",
   "execution_count": 267,
   "metadata": {},
   "outputs": [
    {
     "data": {
      "text/plain": [
       "0.20374773421969267"
      ]
     },
     "execution_count": 267,
     "metadata": {},
     "output_type": "execute_result"
    }
   ],
   "source": [
    "mse_train = ((y_train-pred_train)**2).sum()*1./y_train.shape[0]\n",
    "mse_train"
   ]
  },
  {
   "cell_type": "markdown",
   "metadata": {},
   "source": [
    "## Step 6. Evaluate the network\n",
    "Predict and evaluate on test set"
   ]
  },
  {
   "cell_type": "code",
   "execution_count": 268,
   "metadata": {},
   "outputs": [
    {
     "data": {
      "text/plain": [
       "(array([1, 1, 0, 1, 1, 0, 0, 1, 0, 1, 0, 1, 1, 1, 0]),\n",
       " array([1, 1, 0, 0, 0, 0, 0, 1, 1, 1, 0, 1, 1, 1, 0], dtype=int64))"
      ]
     },
     "execution_count": 268,
     "metadata": {},
     "output_type": "execute_result"
    }
   ],
   "source": [
    "pred_test = predict(network, X_test)\n",
    "y_test_pred = np.where(pred_test > 0.5, 1, 0)\n",
    "y_test_pred[0:15], y_test[0:15]"
   ]
  },
  {
   "cell_type": "code",
   "execution_count": 269,
   "metadata": {},
   "outputs": [
    {
     "data": {
      "text/plain": [
       "0.84499999999999997"
      ]
     },
     "execution_count": 269,
     "metadata": {},
     "output_type": "execute_result"
    }
   ],
   "source": [
    "accuracy_score(y_test, y_test_pred)"
   ]
  },
  {
   "cell_type": "code",
   "execution_count": 270,
   "metadata": {},
   "outputs": [
    {
     "data": {
      "text/plain": [
       "0.10401780253536304"
      ]
     },
     "execution_count": 270,
     "metadata": {},
     "output_type": "execute_result"
    }
   ],
   "source": [
    "mse_test = ((y_test-pred_test)**2).sum()*1./(2.*y_test.shape[0])\n",
    "mse_test"
   ]
  },
  {
   "cell_type": "markdown",
   "metadata": {},
   "source": [
    "## Learning rate hyper parameter\n",
    "Learning rate, the size of each step, influence learning. \n",
    "* Large learning rate, can converge faster, since steps are bigger. But minimum can be missed, with steps which are too large.\n",
    "* Small learning can be more precise, but can get stuck in local minimum, and take very long time to converge.\n",
    "\n",
    "Lets view few learning rate with sklearn generated circles classification example."
   ]
  },
  {
   "cell_type": "code",
   "execution_count": 271,
   "metadata": {},
   "outputs": [
    {
     "ename": "TypeError",
     "evalue": "train_network() got an unexpected keyword argument 'targets'",
     "output_type": "error",
     "traceback": [
      "\u001b[1;31m---------------------------------------------------------------------------\u001b[0m",
      "\u001b[1;31mTypeError\u001b[0m                                 Traceback (most recent call last)",
      "\u001b[1;32m<ipython-input-271-855d0218f271>\u001b[0m in \u001b[0;36m<module>\u001b[1;34m()\u001b[0m\n\u001b[0;32m      5\u001b[0m epoch_error_5 = train_network(network=network, x_train=X_train,\n\u001b[0;32m      6\u001b[0m                             \u001b[0mtargets\u001b[0m\u001b[1;33m=\u001b[0m\u001b[0my_train\u001b[0m\u001b[1;33m,\u001b[0m\u001b[1;33m\u001b[0m\u001b[0m\n\u001b[1;32m----> 7\u001b[1;33m                             l_rate=0.5, n_epoch=n_epoch)\n\u001b[0m\u001b[0;32m      8\u001b[0m \u001b[0mpred_test\u001b[0m \u001b[1;33m=\u001b[0m \u001b[0mpredict\u001b[0m\u001b[1;33m(\u001b[0m\u001b[0mnetwork\u001b[0m\u001b[1;33m,\u001b[0m \u001b[0mX_test\u001b[0m\u001b[1;33m)\u001b[0m\u001b[1;33m\u001b[0m\u001b[0m\n\u001b[0;32m      9\u001b[0m \u001b[0mprint\u001b[0m\u001b[1;33m(\u001b[0m\u001b[1;34m'accuracy for alpha=0.5'\u001b[0m\u001b[1;33m,\u001b[0m \u001b[0maccuracy_score\u001b[0m\u001b[1;33m(\u001b[0m\u001b[0my_test\u001b[0m\u001b[1;33m,\u001b[0m \u001b[0mnp\u001b[0m\u001b[1;33m.\u001b[0m\u001b[0mwhere\u001b[0m\u001b[1;33m(\u001b[0m\u001b[0mpred_test\u001b[0m \u001b[1;33m>\u001b[0m \u001b[1;36m0.5\u001b[0m\u001b[1;33m,\u001b[0m \u001b[1;36m1\u001b[0m\u001b[1;33m,\u001b[0m \u001b[1;36m0\u001b[0m\u001b[1;33m)\u001b[0m\u001b[1;33m)\u001b[0m\u001b[1;33m)\u001b[0m\u001b[1;33m\u001b[0m\u001b[0m\n",
      "\u001b[1;31mTypeError\u001b[0m: train_network() got an unexpected keyword argument 'targets'"
     ]
    }
   ],
   "source": [
    "n_epoch=1000\n",
    "\n",
    "np.random.seed(0)\n",
    "network = initialize_mlp()\n",
    "epoch_error_5 = train_network(network=network, x_train=X_train,\n",
    "                            targets=y_train,\n",
    "                            l_rate=0.5, n_epoch=n_epoch)\n",
    "pred_test = predict(network, X_test)\n",
    "print('accuracy for alpha=0.5', accuracy_score(y_test, np.where(pred_test > 0.5, 1, 0)))\n",
    "\n",
    "np.random.seed(0)\n",
    "network = initialize_mlp()\n",
    "epoch_error_1 = train_network(network=network, x_train=X_train,\n",
    "                            targets=y_train,\n",
    "                            l_rate=0.1, n_epoch=n_epoch)\n",
    "pred_test = predict(network, X_test)\n",
    "print('accuracy for alpha=0.1', accuracy_score(y_test, np.where(pred_test > 0.5, 1, 0)))\n",
    "\n",
    "np.random.seed(0)\n",
    "network = initialize_mlp()\n",
    "epoch_error_0001 = train_network(network=network, x_train=X_train,\n",
    "                            targets=y_train,\n",
    "                            l_rate=0.01, n_epoch=n_epoch)\n",
    "pred_test = predict(network, X_test)\n",
    "print('accuracy for alpha=0.01', accuracy_score(y_test, np.where(pred_test > 0.5, 1, 0)))\n",
    "\n",
    "np.random.seed(0)\n",
    "network = initialize_mlp()\n",
    "epoch_error_000001 = train_network(network=network, x_train=X_train,\n",
    "                            targets=y_train,\n",
    "                            l_rate=0.001, n_epoch=n_epoch)\n",
    "pred_test = predict(network, X_test)\n",
    "print('accuracy for alpha=0.001', accuracy_score(y_test, np.where(pred_test > 0.5, 1, 0)))\n"
   ]
  },
  {
   "cell_type": "code",
   "execution_count": null,
   "metadata": {},
   "outputs": [],
   "source": [
    "figure = plt.figure(figsize=(12,5))\n",
    "plt.plot(epoch_error_5)\n",
    "plt.plot(epoch_error_1)\n",
    "plt.plot(epoch_error_0001)\n",
    "plt.plot(epoch_error_000001)\n",
    "plt.ylabel('square error')\n",
    "plt.xlabel('epoch')\n",
    "plt.title('Square error per Epoch, with different learning rate')\n",
    "plt.legend(['alpha=0.5', 'alpha=0.1','alpha=0.01', 'alpha=0.001'], title=\"Learning Rate\")\n",
    "plt.show()"
   ]
  },
  {
   "cell_type": "markdown",
   "metadata": {},
   "source": [
    "Lets enlarge dataset size. view the influence"
   ]
  },
  {
   "cell_type": "code",
   "execution_count": null,
   "metadata": {},
   "outputs": [],
   "source": [
    "figure = plt.figure()\n",
    "cm_bright = ListedColormap(['#FF0000', '#0000FF'])\n",
    "X, y = make_circles(n_samples=1000,noise=0.1, random_state=0)\n",
    "plt.scatter(X[:, 0], X[:, 1], c=y, cmap=cm_bright,edgecolors='k')"
   ]
  },
  {
   "cell_type": "code",
   "execution_count": null,
   "metadata": {},
   "outputs": [],
   "source": [
    "X = StandardScaler().fit_transform(X)\n",
    "X= np.append(np.ones((X.shape[0],1)), X, axis=1)\n",
    "X_train, X_test, y_train, y_test = train_test_split(X, y, test_size=.4, \n",
    "                                                    random_state=42)\n",
    "X_train.shape\n"
   ]
  },
  {
   "cell_type": "code",
   "execution_count": null,
   "metadata": {},
   "outputs": [],
   "source": [
    "np.random.seed(0)\n",
    "n_epoch=300\n",
    "\n",
    "network = initialize_mlp()\n",
    "epoch_error_1 = train_network(network=network, x_train=X_train,\n",
    "                            targets=y_train,\n",
    "                            l_rate=1., n_epoch=n_epoch)\n",
    "pred_test = predict(network, X_test)\n",
    "print('accuracy for alpha=1.', accuracy_score(y_test, np.where(pred_test > 0.5, 1, 0)))\n",
    "\n",
    "\n",
    "network = initialize_mlp()\n",
    "epoch_error_05 = train_network(network=network, x_train=X_train,\n",
    "                            targets=y_train,\n",
    "                            l_rate=0.5, n_epoch=n_epoch)\n",
    "pred_test = predict(network, X_test)\n",
    "print('accuracy for alpha=0.5', accuracy_score(y_test, np.where(pred_test > 0.5, 1, 0)))\n",
    "\n",
    "network = initialize_mlp()\n",
    "epoch_error_01 = train_network(network=network, x_train=X_train,\n",
    "                            targets=y_train,\n",
    "                            l_rate=0.1, n_epoch=n_epoch)\n",
    "pred_test = predict(network, X_test)\n",
    "print('accuracy for alpha=0.1', accuracy_score(y_test, np.where(pred_test > 0.5, 1, 0)))\n"
   ]
  },
  {
   "cell_type": "code",
   "execution_count": null,
   "metadata": {},
   "outputs": [],
   "source": [
    "figure = plt.figure(figsize=(12,5))\n",
    "plt.plot(epoch_error_1)\n",
    "plt.plot(epoch_error_05)\n",
    "plt.plot(epoch_error_01)\n",
    "plt.ylabel('square error')\n",
    "plt.xlabel('epoch')\n",
    "plt.title('Square error per Epoch, with different learning rate')\n",
    "plt.legend(['alpha=1.','alpha=0.5', 'alpha=0.1'], title=\"Learning Rate\")\n",
    "plt.show()"
   ]
  },
  {
   "cell_type": "markdown",
   "metadata": {},
   "source": [
    "## Gradient descent variations  \n",
    "There are few ways to update the weights. \n",
    "### Stochastic Gradient Descent\n",
    "Stochastic gradient descent, often abbreviated as SGD, is the error we calculated. The weights are updated for each example in the training dataset. The Stochastic is since we shuffle the input set in each iteration."
   ]
  },
  {
   "cell_type": "markdown",
   "metadata": {},
   "source": [
    "### Batch Gradient Descent or Full Gradient Descent\n",
    "In Batch gradient descent the error is calculated for each example in the training dataset, but the weights are updated after a pass on all training examples."
   ]
  },
  {
   "cell_type": "code",
   "execution_count": null,
   "metadata": {},
   "outputs": [],
   "source": [
    "# Backpropagate error and update weights\n",
    "def backward_propagate_error_batch(network, I, y_true, y, lr = 0.5):\n",
    "\n",
    "    m=I.shape[0]\n",
    "    for i in range(n_hidden):\n",
    "\n",
    "        # calculate update for output layer weights\n",
    "        update_i = np.dot(delta(y).T, (y_true - y))* network['hidden_out'][i]\n",
    "               \n",
    "        # update hidden layer weights        \n",
    "        for j in range(n_inputs):\n",
    "            w_i = network['output_layer_weights'][i]\n",
    "            y_hi = network['hidden_out'][i]\n",
    "            update_ij = 0.\n",
    "            for k in range(m):\n",
    "                update_ij += update_i*w_i*delta(y_hi)*I[k,j]\n",
    "            \n",
    "            network['hidden_layer_weights'][i][j] += lr*update_ij*(1./m)\n",
    "       \n",
    "        # update output layer weights\n",
    "        network['output_layer_weights'][i] +=  lr * update_i  *(1./m)      "
   ]
  },
  {
   "cell_type": "code",
   "execution_count": null,
   "metadata": {},
   "outputs": [],
   "source": [
    "def train_network_batch_GD(network, x_train, y_true, l_rate, n_epoch, verbose=0):\n",
    "    \n",
    "    epoch_error = []\n",
    "    m = x_train.shape[0]\n",
    "    \n",
    "    for epoch in range(n_epoch):\n",
    "        sum_error = 0\n",
    "        \n",
    "        outputs = predict(network, x_train)\n",
    "        \n",
    "        sum_error = np.dot((target-outputs)**2, (y_true-outputs)**2)\n",
    "\n",
    "        # update the weights according to error in the output\n",
    "        backward_propagate_error_batch(network, x_train, y_true, outputs, lr=l_rate)\n",
    "            \n",
    "        epoch_error.append(sum_error*(1./(2.*m)))\n",
    "        if (verbose):\n",
    "            print('>epoch=%d,  error=%.3f' % (epoch, sum_error))\n",
    "    return epoch_error"
   ]
  },
  {
   "cell_type": "code",
   "execution_count": null,
   "metadata": {},
   "outputs": [],
   "source": [
    "network = initialize_mlp()\n",
    "epoch_error = train_network_batch_GD(network=network, x_train=X_train,\n",
    "                            y_true=y_train,\n",
    "                            l_rate=0.1, n_epoch=50)"
   ]
  },
  {
   "cell_type": "code",
   "execution_count": null,
   "metadata": {},
   "outputs": [],
   "source": [
    "plt.plot(epoch_error)"
   ]
  },
  {
   "cell_type": "code",
   "execution_count": null,
   "metadata": {},
   "outputs": [],
   "source": [
    "np.random.seed(0)\n",
    "n_epoch=300\n",
    "network = initialize_mlp()\n",
    "epoch_error_5 = train_network_batch_GD(network=network, x_train=X_train,\n",
    "                            y_true=y_train,\n",
    "                            l_rate=0.5, n_epoch=n_epoch)\n",
    "pred_test = predict(network, X_test)\n",
    "print('accuracy for alpha=0.5', accuracy_score(y_test, np.where(pred_test > 0.5, 1, 0)))\n",
    "\n",
    "np.random.seed(0)\n",
    "network = initialize_mlp()\n",
    "epoch_error_1 = train_network_batch_GD(network=network, x_train=X_train,\n",
    "                            y_true=y_train,\n",
    "                            l_rate=0.1, n_epoch=n_epoch)\n",
    "pred_test = predict(network, X_test)\n",
    "print('accuracy for alpha=0.1', accuracy_score(y_test, np.where(pred_test > 0.5, 1, 0)))\n",
    "\n",
    "np.random.seed(0)\n",
    "network = initialize_mlp()\n",
    "epoch_error_0001 = train_network_batch_GD(network=network, x_train=X_train,\n",
    "                            y_true=y_train,\n",
    "                            l_rate=0.01, n_epoch=n_epoch)\n",
    "pred_test = predict(network, X_test)\n",
    "print('accuracy for alpha=0.01', accuracy_score(y_test, np.where(pred_test > 0.5, 1, 0)))"
   ]
  },
  {
   "cell_type": "code",
   "execution_count": null,
   "metadata": {},
   "outputs": [],
   "source": [
    "plt.plot(epoch_error_5)\n",
    "plt.plot(epoch_error_1)\n",
    "plt.plot(epoch_error_0001)\n",
    "plt.ylabel('square error')\n",
    "plt.xlabel('epoch')\n",
    "plt.title('Square error per Epoch, with different learning rate')\n",
    "plt.legend(['alpha=0.5', 'alpha=0.1','alpha=0.01'], title=\"Learning Rate\")\n",
    "plt.show()"
   ]
  },
  {
   "cell_type": "markdown",
   "metadata": {},
   "source": [
    "### Mini-Batch Gradient Descent\n",
    "In Mini-batch gradient descent we split the training dataset into small batches. The error is calculated ,as a sum or a mean, for each mini batch, and weights are updated after each mini-batch.\n",
    "\n",
    "We can split the whole data to mini-bathes and go over all of them in each epoch, or we can decide on number of mini-bathes,number of samples in mini-batch, for each epoch."
   ]
  },
  {
   "cell_type": "code",
   "execution_count": null,
   "metadata": {},
   "outputs": [],
   "source": [
    "def train_network_mini_batch_GD(network, x_train, y_true, l_rate, n_epoch, verbose=0):\n",
    "    \n",
    "    epoch_error = []\n",
    "    m = x_train.shape[0]\n",
    "    batch_size = 20\n",
    "    for epoch in range(n_epoch):\n",
    "        \n",
    "        x_train,y_true = shuffle(x_train,y_true, random_state=0)\n",
    "        sum_error = 0\n",
    "        \n",
    "        for i in range(0,batch_size*15,batch_size):\n",
    "            X_i = x_train[i:i+batch_size]\n",
    "            y_i = y_true[i:i+batch_size]\n",
    "           \n",
    "            outputs = predict(network, X_i)\n",
    "        \n",
    "            # update the weights according to error in the output\n",
    "            backward_propagate_error_batch(network, X_i, y_i, outputs, lr=l_rate)\n",
    "        \n",
    "        outputs = predict(network, x_train)\n",
    "        sum_error = np.dot((y_true-outputs)**2, (y_true-outputs)**2)    \n",
    "        epoch_error.append(sum_error*(1./(2.*m)))\n",
    "        if (verbose):\n",
    "            print('>epoch=%d,  error=%.3f' % (epoch, sum_error))\n",
    "    return epoch_error"
   ]
  },
  {
   "cell_type": "code",
   "execution_count": null,
   "metadata": {},
   "outputs": [],
   "source": [
    "np.random.seed(0)\n",
    "n_epoch=300\n",
    "network = initialize_mlp()\n",
    "epoch_error_5 = train_network_mini_batch_GD(network=network, x_train=X_train,\n",
    "                            y_true=y_train,\n",
    "                            l_rate=0.1, n_epoch=n_epoch)\n",
    "pred_test = predict(network, X_test)\n",
    "print('accuracy for alpha=0.5', accuracy_score(y_test, np.where(pred_test > 0.5, 1, 0)))\n",
    "\n",
    "np.random.seed(0)\n",
    "network = initialize_mlp()\n",
    "epoch_error_1 = train_network_mini_batch_GD(network=network, x_train=X_train,\n",
    "                            y_true=y_train,\n",
    "                            l_rate=0.01, n_epoch=n_epoch)\n",
    "pred_test = predict(network, X_test)\n",
    "print('accuracy for alpha=0.1', accuracy_score(y_test, np.where(pred_test > 0.5, 1, 0)))\n",
    "\n",
    "np.random.seed(0)\n",
    "network = initialize_mlp()\n",
    "epoch_error_0001 = train_network_mini_batch_GD(network=network, x_train=X_train,\n",
    "                            y_true=y_train,\n",
    "                            l_rate=0.001, n_epoch=n_epoch)\n",
    "pred_test = predict(network, X_test)\n",
    "print('accuracy for alpha=0.01', accuracy_score(y_test, np.where(pred_test > 0.5, 1, 0)))"
   ]
  },
  {
   "cell_type": "code",
   "execution_count": null,
   "metadata": {},
   "outputs": [],
   "source": [
    "accuracy_score(y_test, np.where(pred_test > 0.6, 1, 0))"
   ]
  },
  {
   "cell_type": "code",
   "execution_count": null,
   "metadata": {},
   "outputs": [],
   "source": [
    "np.where(pred_test > 0.6, 1, 0)"
   ]
  },
  {
   "cell_type": "code",
   "execution_count": null,
   "metadata": {},
   "outputs": [],
   "source": [
    "plt.plot(epoch_error_5)\n",
    "plt.plot(epoch_error_1)\n",
    "plt.plot(epoch_error_0001)\n",
    "plt.ylabel('square error')\n",
    "plt.xlabel('epoch')\n",
    "plt.title('Square error per Epoch, with different learning rate')\n",
    "plt.legend(['alpha=0.1', 'alpha=0.01','alpha=0.001'], title=\"Learning Rate\")\n",
    "plt.show()"
   ]
  },
  {
   "cell_type": "code",
   "execution_count": null,
   "metadata": {},
   "outputs": [],
   "source": [
    "from sklearn.metrics import accuracy_score\n",
    "from sklearn.metrics import confusion_matrix\n",
    "from sklearn.metrics import classification_report\n",
    "from sklearn.metrics import cohen_kappa_score\n",
    "\n",
    "def print_stats(ytest, ypred):\n",
    "    \n",
    "    print(\"Accuracy: {:.5f}, Cohen's Kappa Score: {:.5f}\".format(\n",
    "        accuracy_score(ytest, ypred), \n",
    "        cohen_kappa_score(ytest, ypred, weights=\"quadratic\")))\n",
    "    print(\"Confusion Matrix:\")\n",
    "    print(confusion_matrix(ytest, ypred))\n",
    "    print(\"Classification Report:\")\n",
    "    print(classification_report(ytest, ypred))"
   ]
  },
  {
   "cell_type": "code",
   "execution_count": null,
   "metadata": {},
   "outputs": [],
   "source": [
    "print_stats(y_test, np.where(pred_test > 0.5, 1, 0))"
   ]
  },
  {
   "cell_type": "markdown",
   "metadata": {},
   "source": [
    "As we can see, to build practical neural networks for real problems, \n",
    "we better off using deep learning library.\n",
    "Keras is great library to start with. An illustrative example in the next part.\n",
    "* https://keras.io/"
   ]
  },
  {
   "cell_type": "markdown",
   "metadata": {},
   "source": [
    "### Learn more:\n",
    "* This part was written as an attempt to understand Hinton's lecture: https://www.coursera.org/learn/neural-networks/lecture/bD3OB/learning-the-weights-of-a-linear-neuron-12-min\n",
    "* Google machine learning course https://developers.google.com/machine-learning/crash-course/reducing-loss/gradient-descent\n",
    "* https://en.wikipedia.org/wiki/Backpropagation"
   ]
  },
  {
   "cell_type": "markdown",
   "metadata": {},
   "source": [
    "### Articles:\n",
    "* D.E. RummelhartG.E. HintonR.J. Williams. **Learning Internal Representations by Error Propagation** Jan 1986 Nature."
   ]
  }
 ],
 "metadata": {
  "kernelspec": {
   "display_name": "Python 3",
   "language": "python",
   "name": "python3"
  },
  "language_info": {
   "codemirror_mode": {
    "name": "ipython",
    "version": 3
   },
   "file_extension": ".py",
   "mimetype": "text/x-python",
   "name": "python",
   "nbconvert_exporter": "python",
   "pygments_lexer": "ipython3",
   "version": "3.6.5"
  }
 },
 "nbformat": 4,
 "nbformat_minor": 2
}
