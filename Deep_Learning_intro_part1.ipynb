{
 "cells": [
  {
   "cell_type": "markdown",
   "metadata": {},
   "source": [
    "# Introduction to Deep Learning\n",
    "## Part 1 - Linear Perceptron"
   ]
  },
  {
   "cell_type": "code",
   "execution_count": 1,
   "metadata": {},
   "outputs": [],
   "source": [
    "import matplotlib.pyplot as plt\n",
    "import numpy as np\n",
    "import utils_plot as uplot\n",
    "import matplotlib.gridspec as gridspec\n",
    "from sklearn.metrics import accuracy_score, log_loss\n",
    "%matplotlib inline  "
   ]
  },
  {
   "cell_type": "markdown",
   "metadata": {},
   "source": [
    "## Inspiration - The Biological Neuron Model\n",
    "**The Neuron cell takes a binary input (of electrical signals), process it, and produce binary output (of electrical signal).**<br>\n",
    "![title](imgs/neuron3.PNG)\n",
    "\n",
    "**Neuron Input**<br>\n",
    "A neuron accepts inputs, usually from other neurons, through its dendrites, that are connect to other neurons via a gap called a synapse wich assigns a \"weight\" to any specific input. <br>\n",
    "All of these inputs are proccesesd together in the cell body (soma)<br>\n",
    "\n",
    "**Neuron Output**<br>\n",
    "The Neurons process the combination of the inputs, and if it exceeds a certain threshold, an output signal is produced (the neiron \"fires\")<br>\n",
    "When theneuron fires, the signal (output) travels along the axon to the synapse terminals,there it assigned a \"weight\", and continueto the dendrites of other neurons through the synapse.<br>\n",
    "Withthis biological model in mind, we can define a mathematical artificial neuron."
   ]
  },
  {
   "cell_type": "markdown",
   "metadata": {},
   "source": [
    "## Perceptron - An Artificial Neural Network\n",
    "As in the Biological model, we want the neuron to intake an inputs, process it (weighted sum) and if it exceeds a threshold, the neuron will produce an output. \n",
    "\n",
    "![title](imgs\perceptron_paradigma3.png)"
   ]
  },
  {
   "cell_type": "markdown",
   "metadata": {},
   "source": [
    "## Decision Units - Activation functions\n",
    "There are many options for decision units, and we will see later. Lets start with the basic one, defined by McCulloch-Pitts (1943)\n",
    "### Binary threshold unit\n",
    "* Compute weighted sum and compare it to threshold:\n",
    "$$Is \\sum_{i} x_{i}w_{i} >  Threshold ?$$ \n",
    "* Equivalently, we can define a bias to add to the weighted input sum: \n",
    "$$z=b+\\sum_{i} x_{i}w_{i} > 0 ?$$\n",
    "* Then output is 1 if weighted sum larger then zero.\n",
    "$$y = \\begin{cases} 1 & z >  0 \\\\\n",
    "                       0 & otherwise \\\\\n",
    "                     \\end{cases}$$\n"
   ]
  },
  {
   "cell_type": "code",
   "execution_count": 2,
   "metadata": {},
   "outputs": [
    {
     "data": {
      "image/png": "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\n",
      "text/plain": [
       "<Figure size 480x160 with 1 Axes>"
      ]
     },
     "metadata": {},
     "output_type": "display_data"
    }
   ],
   "source": [
    "uplot.drow_binary_threshold()"
   ]
  },
  {
   "cell_type": "markdown",
   "metadata": {},
   "source": [
    "## Learning the Bias\n",
    "Now we need to learn the weights and the bias. But we can use a trick, toavoid separate scheme, for learning the bias. \n",
    "* We can add 1 to all input vectors: <br>\n",
    "For X = $(X_{0}, X_{1}, ...Xn)$ Lets define:  $\\bar{X}$ = $(1, X_{0}, X_{1}, ...Xn)$ and $\\bar{W}$ = $(1,W)$<br>\n",
    "=> $$z=b+\\sum_{i} x_{i}w_{i} = \\sum_{i} \\bar{x}_{i}\\bar{w}_{i}$$\n",
    "> This way, we can learn the bias as it was part of the weights. "
   ]
  },
  {
   "cell_type": "markdown",
   "metadata": {},
   "source": [
    "## Learning weights\n",
    "The idea is to go over the samples, and correct/update the weights according to the results on the samples.\n",
    "![title](dl3.jpg)\n",
    "#### Update the weights\n",
    "There are mant astrategies to update the weights, and we will see them later.\n",
    "### Perpetron Example - Logic OR\n",
    "Lets build a Perceptron, that performs a logic OR:\n",
    "\n",
    "X1 | X2 | OR\n",
    "--- | --- | ---\n",
    "*0* | 0 | **0**\n",
    "*1* | 0 | **1**\n",
    "*0* | 1 | **1**\n",
    "*1* | 1 | **1**\n",
    "* The scheme willbe to Go over all training cases in any order, and:\n",
    "    * If the output is correct, continue\n",
    "    * If output < lable  (\"increas W\"): $\\bar{W} = \\bar{W} + \\bar{X}_{i}$\n",
    "    * If output > lable (\"decreas W\"): $\\bar{W} = \\bar{W} - \\bar{X}_{i}$"
   ]
  },
  {
   "cell_type": "code",
   "execution_count": 3,
   "metadata": {},
   "outputs": [],
   "source": [
    "def binary_threshold_activation(Xw):\n",
    "    yhat = 0\n",
    "    if(Xw > 0):\n",
    "        yhat = 1\n",
    "    return yhat"
   ]
  },
  {
   "cell_type": "code",
   "execution_count": 4,
   "metadata": {},
   "outputs": [],
   "source": [
    "def predict(X, w):\n",
    "    yhat = 0\n",
    "    z = np.dot(X, w)\n",
    "    if(z > 0):\n",
    "        yhat = 1\n",
    "    return yhat"
   ]
  },
  {
   "cell_type": "code",
   "execution_count": 5,
   "metadata": {},
   "outputs": [],
   "source": [
    "def perceptron_train(X, Y):\n",
    "\n",
    "    w = np.zeros(len(X[0]))\n",
    "    n = 5\n",
    "    errors = []\n",
    "    \n",
    "    for t in range(n):\n",
    "        \n",
    "        print('--------------------------\\nepoch: ' , t)\n",
    "        total_error = 0\n",
    "        \n",
    "        for i in range(X.shape[0]):\n",
    "             \n",
    "            z = np.dot(X[i], w)\n",
    "            yhat = binary_threshold_activation(z)\n",
    "            \n",
    "            if (yhat == Y[i]):\n",
    "                print(i,'x:',X[i],'w:', w,'Wx: ', np.dot(X[i], w),\n",
    "                      'y:',Y[i], end=' ')\n",
    "                print('correct no update')\n",
    "                continue\n",
    "                \n",
    "            elif (yhat < Y[i]):\n",
    "                total_error += 1\n",
    "                print(i, 'yhat<y', 'X:',X[i],'w:', w,'Wx:',\n",
    "                      np.dot(X[i], w), 'y:',Y[i], end=' ')\n",
    "        \n",
    "                \n",
    "                w = w + X[i]\n",
    "                print('=> W updated:', w)\n",
    "                \n",
    "            elif (yhat > Y[i]):\n",
    "                total_error += 1\n",
    "                print(i, 'yhat>y' ,'X:',X[i],'w:', w,'Wx:', \n",
    "                      np.dot(X[i], w), 'y:',Y[i] ,end = ' ')\n",
    "                \n",
    "                w = w - X[i]\n",
    "                print('=> W updated:', w)\n",
    "                \n",
    "        errors.append(total_error)\n",
    "        \n",
    "    plt.plot(errors)\n",
    "    plt.xlabel('Epoch')\n",
    "    plt.ylabel('Total Loss')\n",
    "    \n",
    "    return w"
   ]
  },
  {
   "cell_type": "code",
   "execution_count": 6,
   "metadata": {
    "scrolled": false
   },
   "outputs": [
    {
     "name": "stdout",
     "output_type": "stream",
     "text": [
      "--------------------------\n",
      "epoch:  0\n",
      "0 x: [1 0 0] w: [0. 0. 0.] Wx:  0.0 y: 0 correct no update\n",
      "1 yhat<y X: [1 1 0] w: [0. 0. 0.] Wx: 0.0 y: 1 => W updated: [1. 1. 0.]\n",
      "2 x: [1 0 1] w: [1. 1. 0.] Wx:  1.0 y: 1 correct no update\n",
      "3 x: [1 1 1] w: [1. 1. 0.] Wx:  2.0 y: 1 correct no update\n",
      "--------------------------\n",
      "epoch:  1\n",
      "0 yhat>y X: [1 0 0] w: [1. 1. 0.] Wx: 1.0 y: 0 => W updated: [0. 1. 0.]\n",
      "1 x: [1 1 0] w: [0. 1. 0.] Wx:  1.0 y: 1 correct no update\n",
      "2 yhat<y X: [1 0 1] w: [0. 1. 0.] Wx: 0.0 y: 1 => W updated: [1. 1. 1.]\n",
      "3 x: [1 1 1] w: [1. 1. 1.] Wx:  3.0 y: 1 correct no update\n",
      "--------------------------\n",
      "epoch:  2\n",
      "0 yhat>y X: [1 0 0] w: [1. 1. 1.] Wx: 1.0 y: 0 => W updated: [0. 1. 1.]\n",
      "1 x: [1 1 0] w: [0. 1. 1.] Wx:  1.0 y: 1 correct no update\n",
      "2 x: [1 0 1] w: [0. 1. 1.] Wx:  1.0 y: 1 correct no update\n",
      "3 x: [1 1 1] w: [0. 1. 1.] Wx:  2.0 y: 1 correct no update\n",
      "--------------------------\n",
      "epoch:  3\n",
      "0 x: [1 0 0] w: [0. 1. 1.] Wx:  0.0 y: 0 correct no update\n",
      "1 x: [1 1 0] w: [0. 1. 1.] Wx:  1.0 y: 1 correct no update\n",
      "2 x: [1 0 1] w: [0. 1. 1.] Wx:  1.0 y: 1 correct no update\n",
      "3 x: [1 1 1] w: [0. 1. 1.] Wx:  2.0 y: 1 correct no update\n",
      "--------------------------\n",
      "epoch:  4\n",
      "0 x: [1 0 0] w: [0. 1. 1.] Wx:  0.0 y: 0 correct no update\n",
      "1 x: [1 1 0] w: [0. 1. 1.] Wx:  1.0 y: 1 correct no update\n",
      "2 x: [1 0 1] w: [0. 1. 1.] Wx:  1.0 y: 1 correct no update\n",
      "3 x: [1 1 1] w: [0. 1. 1.] Wx:  2.0 y: 1 correct no update\n",
      "Leared Weights: [0. 1. 1.]\n"
     ]
    },
    {
     "data": {
      "image/png": "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\n",
      "text/plain": [
       "<Figure size 432x288 with 1 Axes>"
      ]
     },
     "metadata": {},
     "output_type": "display_data"
    }
   ],
   "source": [
    "X = [[1,0,0],\n",
    "    [1,1,0],\n",
    "    [1,0,1],\n",
    "    [1,1,1]]\n",
    "\n",
    "y = [0, 1, 1, 1]\n",
    "\n",
    "w=perceptron_train(np.array(X),y)\n",
    "print('Leared Weights:', w)\n"
   ]
  },
  {
   "cell_type": "markdown",
   "metadata": {},
   "source": [
    "### Predict OR with The learned weights of the Perceptron"
   ]
  },
  {
   "cell_type": "code",
   "execution_count": 7,
   "metadata": {},
   "outputs": [
    {
     "name": "stdout",
     "output_type": "stream",
     "text": [
      "[1, 0, 0] 0  OR  0  =  0\n",
      "[1, 1, 0] 1  OR  0  =  1\n",
      "[1, 0, 1] 0  OR  1  =  1\n",
      "[1, 1, 1] 1  OR  1  =  1\n"
     ]
    }
   ],
   "source": [
    "for i in range(4):\n",
    "    print(X[i], X[i][1],' OR ', X[i][2],' = ', predict(X[i],w))\n"
   ]
  },
  {
   "cell_type": "markdown",
   "metadata": {},
   "source": [
    "### Re-train Percepron to Preform logic AND\n",
    "Same perceptron,can learn to perform logic AND, When its trained on the correct data:\n",
    "\n",
    "X1 | X2 | AND\n",
    "--- | --- | ---\n",
    "*0* | 0 | **0**\n",
    "*1* | 0 | **0**\n",
    "*0* | 1 | **0**\n",
    "*1* | 1 | **1**"
   ]
  },
  {
   "cell_type": "code",
   "execution_count": 8,
   "metadata": {
    "scrolled": false
   },
   "outputs": [
    {
     "name": "stdout",
     "output_type": "stream",
     "text": [
      "--------------------------\n",
      "epoch:  0\n",
      "0 x: [1 0 0] w: [0. 0. 0.] Wx:  0.0 y: 0 correct no update\n",
      "1 x: [1 1 0] w: [0. 0. 0.] Wx:  0.0 y: 0 correct no update\n",
      "2 x: [1 0 1] w: [0. 0. 0.] Wx:  0.0 y: 0 correct no update\n",
      "3 yhat<y X: [1 1 1] w: [0. 0. 0.] Wx: 0.0 y: 1 => W updated: [1. 1. 1.]\n",
      "--------------------------\n",
      "epoch:  1\n",
      "0 yhat>y X: [1 0 0] w: [1. 1. 1.] Wx: 1.0 y: 0 => W updated: [0. 1. 1.]\n",
      "1 yhat>y X: [1 1 0] w: [0. 1. 1.] Wx: 1.0 y: 0 => W updated: [-1.  0.  1.]\n",
      "2 x: [1 0 1] w: [-1.  0.  1.] Wx:  0.0 y: 0 correct no update\n",
      "3 yhat<y X: [1 1 1] w: [-1.  0.  1.] Wx: 0.0 y: 1 => W updated: [0. 1. 2.]\n",
      "--------------------------\n",
      "epoch:  2\n",
      "0 x: [1 0 0] w: [0. 1. 2.] Wx:  0.0 y: 0 correct no update\n",
      "1 yhat>y X: [1 1 0] w: [0. 1. 2.] Wx: 1.0 y: 0 => W updated: [-1.  0.  2.]\n",
      "2 yhat>y X: [1 0 1] w: [-1.  0.  2.] Wx: 1.0 y: 0 => W updated: [-2.  0.  1.]\n",
      "3 yhat<y X: [1 1 1] w: [-2.  0.  1.] Wx: -1.0 y: 1 => W updated: [-1.  1.  2.]\n",
      "--------------------------\n",
      "epoch:  3\n",
      "0 x: [1 0 0] w: [-1.  1.  2.] Wx:  -1.0 y: 0 correct no update\n",
      "1 x: [1 1 0] w: [-1.  1.  2.] Wx:  0.0 y: 0 correct no update\n",
      "2 yhat>y X: [1 0 1] w: [-1.  1.  2.] Wx: 1.0 y: 0 => W updated: [-2.  1.  1.]\n",
      "3 yhat<y X: [1 1 1] w: [-2.  1.  1.] Wx: 0.0 y: 1 => W updated: [-1.  2.  2.]\n",
      "--------------------------\n",
      "epoch:  4\n",
      "0 x: [1 0 0] w: [-1.  2.  2.] Wx:  -1.0 y: 0 correct no update\n",
      "1 yhat>y X: [1 1 0] w: [-1.  2.  2.] Wx: 1.0 y: 0 => W updated: [-2.  1.  2.]\n",
      "2 x: [1 0 1] w: [-2.  1.  2.] Wx:  0.0 y: 0 correct no update\n",
      "3 x: [1 1 1] w: [-2.  1.  2.] Wx:  1.0 y: 1 correct no update\n",
      "Leared Weights: [-2.  1.  2.]\n"
     ]
    },
    {
     "data": {
      "image/png": "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\n",
      "text/plain": [
       "<Figure size 432x288 with 1 Axes>"
      ]
     },
     "metadata": {},
     "output_type": "display_data"
    }
   ],
   "source": [
    "X = [[1,0,0],\n",
    "    [1,1,0],\n",
    "    [1,0,1],\n",
    "    [1,1,1]]\n",
    "\n",
    "y = [0, 0, 0, 1]\n",
    "\n",
    "w = perceptron_train(np.array(X),y)\n",
    "print('Leared Weights:', w)\n"
   ]
  },
  {
   "cell_type": "markdown",
   "metadata": {},
   "source": [
    "### Predict AND with The learned weights of the Perceptron"
   ]
  },
  {
   "cell_type": "code",
   "execution_count": 9,
   "metadata": {},
   "outputs": [
    {
     "name": "stdout",
     "output_type": "stream",
     "text": [
      "[1, 0, 0] 0  OR  0  =  0\n",
      "[1, 1, 0] 1  OR  0  =  0\n",
      "[1, 0, 1] 0  OR  1  =  0\n",
      "[1, 1, 1] 1  OR  1  =  1\n"
     ]
    }
   ],
   "source": [
    "for i in range(4):\n",
    "    print(X[i], X[i][1],' OR ', X[i][2],' = ', predict(X[i],w))\n"
   ]
  }
 ],
 "metadata": {
  "kernelspec": {
   "display_name": "Python 3",
   "language": "python",
   "name": "python3"
  },
  "language_info": {
   "codemirror_mode": {
    "name": "ipython",
    "version": 3
   },
   "file_extension": ".py",
   "mimetype": "text/x-python",
   "name": "python",
   "nbconvert_exporter": "python",
   "pygments_lexer": "ipython3",
   "version": "3.6.5"
  }
 },
 "nbformat": 4,
 "nbformat_minor": 2
}
