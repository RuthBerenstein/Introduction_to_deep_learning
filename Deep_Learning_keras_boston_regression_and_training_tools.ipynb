{
 "cells": [
  {
   "cell_type": "markdown",
   "metadata": {},
   "source": [
    "## Introduction to Deep Learning \n",
    "# Training DNN with Keras\n",
    "### boston house price regression example\n",
    "* https://www.kaggle.com/c/house-prices-advanced-regression-techniques/data\n",
    "* https://towardsdatascience.com/deep-neural-networks-for-regression-problems-81321897ca33"
   ]
  },
  {
   "cell_type": "code",
   "execution_count": 1125,
   "metadata": {},
   "outputs": [],
   "source": [
    "import matplotlib.pyplot as plt\n",
    "import pandas as pd\n",
    "\n",
    "import numpy as np\n",
    "import utils_plot as uplot\n",
    "import matplotlib.gridspec as gridspec\n",
    "from sklearn.metrics import accuracy_score, log_loss\n",
    "\n",
    "%matplotlib inline  "
   ]
  },
  {
   "cell_type": "markdown",
   "metadata": {},
   "source": [
    "## Utilities"
   ]
  },
  {
   "cell_type": "code",
   "execution_count": 1126,
   "metadata": {},
   "outputs": [],
   "source": [
    "from sklearn.metrics import accuracy_score\n",
    "from sklearn.metrics import confusion_matrix\n",
    "from sklearn.metrics import classification_report\n",
    "from sklearn.metrics import cohen_kappa_score\n",
    "\n",
    "def print_stats(ytest, ypred):\n",
    "    \n",
    "    print(\"Accuracy: {:.5f}, Cohen's Kappa Score: {:.5f}\".format(\n",
    "        accuracy_score(ytest, ypred), \n",
    "        cohen_kappa_score(ytest, ypred, weights=\"quadratic\")))\n",
    "    print(\"Confusion Matrix:\")\n",
    "    print(confusion_matrix(ytest, ypred))\n",
    "    print(\"Classification Report:\")\n",
    "    print(classification_report(ytest, ypred))"
   ]
  },
  {
   "cell_type": "code",
   "execution_count": 1127,
   "metadata": {},
   "outputs": [],
   "source": [
    "def drow_history_list(history_list, history_names=None,  metric=None):\n",
    "    \n",
    "    if metric is None:\n",
    "        metric = 'loss'\n",
    "        \n",
    "    leg = []\n",
    "    if history_names is not None:\n",
    "        for n in history_names:\n",
    "            leg.append('train ' + n)\n",
    "            leg.append('test ' + n)\n",
    "    else:\n",
    "        for n in range(len(history_list)):\n",
    "            leg.append('train ' + str(n))\n",
    "            leg.append('test ' + str(n))\n",
    "            \n",
    "    for hist in history_list:\n",
    "        \n",
    "        plt.plot(hist.history[metric])\n",
    "        plt.plot(hist.history['val_'+ metric], '--', linewidth=2)\n",
    "        \n",
    "        \n",
    "    plt.title('model '+metric)\n",
    "    plt.ylabel(metric)\n",
    "    plt.xlabel('epoch')\n",
    "    plt.legend(leg, loc='best')\n",
    "    plt.show()  "
   ]
  },
  {
   "cell_type": "code",
   "execution_count": 1128,
   "metadata": {},
   "outputs": [],
   "source": [
    "def drow_history(history, metric, i_start=0):\n",
    "    if metric is None:\n",
    "        metric = 'loss'\n",
    "    plt.plot(history.history[metric][i_start:])\n",
    "    plt.plot(history.history['val_'+ metric][i_start:])\n",
    "    plt.title('model '+metric)\n",
    "    plt.ylabel(metric)\n",
    "    plt.xlabel('epoch')\n",
    "    plt.legend(['train', 'test'], loc='upper left')\n",
    "    plt.show()    "
   ]
  },
  {
   "cell_type": "code",
   "execution_count": 1129,
   "metadata": {},
   "outputs": [],
   "source": [
    "import keras\n",
    "# Keras has many build in data sets\n",
    "from keras.datasets import mnist\n",
    "# Sequential is the basic feed forward neural network (FFN)\n",
    "from keras.models import Sequential\n",
    "# Dense is fully connected layer\n",
    "# Dropout is a \"noising\" layer, to prevent over feet.\n",
    "from keras.layers import Dense, Dropout\n",
    "# Read about optimizers in keras documentation\n",
    "from keras.optimizers import RMSprop\n",
    "from keras import optimizers"
   ]
  },
  {
   "cell_type": "markdown",
   "metadata": {},
   "source": [
    "## Read data and Pre-process"
   ]
  },
  {
   "cell_type": "code",
   "execution_count": 1130,
   "metadata": {},
   "outputs": [],
   "source": [
    "from sklearn.datasets import make_moons, make_circles, make_classification\n",
    "from sklearn.preprocessing import StandardScaler, MaxAbsScaler\n",
    "from sklearn.model_selection import train_test_split\n",
    "from matplotlib.colors import ListedColormap\n",
    "from sklearn.metrics import accuracy_score"
   ]
  },
  {
   "cell_type": "markdown",
   "metadata": {},
   "source": [
    "Data fields\n",
    "* Here's a brief version of what you'll find in the data description file.\n",
    "\n",
    "* SalePrice - the property's sale price in dollars. This is the target variable that you're trying to predict.\n",
    "* MSSubClass: The building class\n",
    "* MSZoning: The general zoning classification\n",
    "* LotFrontage: Linear feet of street connected to property\n",
    "* LotArea: Lot size in square feet\n",
    "* Street: Type of road access\n",
    "* Alley: Type of alley access\n",
    "* LotShape: General shape of property\n",
    "* LandContour: Flatness of the property\n",
    "* Utilities: Type of utilities available\n",
    "* LotConfig: Lot configuration\n",
    "* LandSlope: Slope of property\n",
    "* Neighborhood: Physical locations within Ames city limits\n",
    "* Condition1: Proximity to main road or railroad\n",
    "* Condition2: Proximity to main road or railroad (if a second is present)\n",
    "* BldgType: Type of dwelling\n",
    "* HouseStyle: Style of dwelling\n",
    "* OverallQual: Overall material and finish quality\n",
    "* OverallCond: Overall condition rating\n",
    "* YearBuilt: Original construction date\n",
    "* YearRemodAdd: Remodel date\n",
    "* RoofStyle: Type of roof\n",
    "* RoofMatl: Roof material\n",
    "* Exterior1st: Exterior covering on house\n",
    "* Exterior2nd: Exterior covering on house (if more than one material)\n",
    "* MasVnrType: Masonry veneer type\n",
    "* MasVnrArea: Masonry veneer area in square feet\n",
    "* ExterQual: Exterior material quality\n",
    "* ExterCond: Present condition of the material on the exterior\n",
    "* Foundation: Type of foundation\n",
    "* BsmtQual: Height of the basement\n",
    "* BsmtCond: General condition of the basement\n",
    "* BsmtExposure: Walkout or garden level basement walls\n",
    "* BsmtFinType1: Quality of basement finished area\n",
    "* BsmtFinSF1: Type 1 finished square feet\n",
    "* BsmtFinType2: Quality of second finished area (if present)\n",
    "* BsmtFinSF2: Type 2 finished square feet\n",
    "* BsmtUnfSF: Unfinished square feet of basement area\n",
    "* TotalBsmtSF: Total square feet of basement area\n",
    "* Heating: Type of heating\n",
    "* HeatingQC: Heating quality and condition\n",
    "* CentralAir: Central air conditioning\n",
    "* Electrical: Electrical system\n",
    "* 1stFlrSF: First Floor square feet\n",
    "* 2ndFlrSF: Second floor square feet\n",
    "* LowQualFinSF: Low quality finished square feet (all floors)\n",
    "* GrLivArea: Above grade (ground) living area square feet\n",
    "* BsmtFullBath: Basement full bathrooms\n",
    "* BsmtHalfBath: Basement half bathrooms\n",
    "* FullBath: Full bathrooms above grade\n",
    "* HalfBath: Half baths above grade\n",
    "* Bedroom: Number of bedrooms above basement level\n",
    "* Kitchen: Number of kitchens\n",
    "* KitchenQual: Kitchen quality\n",
    "* TotRmsAbvGrd: Total rooms above grade (does not include bathrooms)\n",
    "* Functional: Home functionality rating\n",
    "* Fireplaces: Number of fireplaces\n",
    "* FireplaceQu: Fireplace quality\n",
    "* GarageType: Garage location\n",
    "* GarageYrBlt: Year garage was built\n",
    "* GarageFinish: Interior finish of the garage\n",
    "* GarageCars: Size of garage in car capacity\n",
    "* GarageArea: Size of garage in square feet\n",
    "* GarageQual: Garage quality\n",
    "* GarageCond: Garage condition\n",
    "* PavedDrive: Paved driveway\n",
    "* WoodDeckSF: Wood deck area in square feet\n",
    "* OpenPorchSF: Open porch area in square feet\n",
    "* EnclosedPorch: Enclosed porch area in square feet\n",
    "* 3SsnPorch: Three season porch area in square feet\n",
    "* ScreenPorch: Screen porch area in square feet\n",
    "* PoolArea: Pool area in square feet\n",
    "* PoolQC: Pool quality\n",
    "* Fence: Fence quality\n",
    "* MiscFeature: Miscellaneous feature not covered in other categories\n",
    "* MiscVal: $Value of miscellaneous feature\n",
    "* MoSold: Month Sold\n",
    "* YrSold: Year Sold\n",
    "* SaleType: Type of sale\n",
    "* SaleCondition: Condition of sale"
   ]
  },
  {
   "cell_type": "code",
   "execution_count": 1131,
   "metadata": {},
   "outputs": [
    {
     "data": {
      "text/html": [
       "<div>\n",
       "<style scoped>\n",
       "    .dataframe tbody tr th:only-of-type {\n",
       "        vertical-align: middle;\n",
       "    }\n",
       "\n",
       "    .dataframe tbody tr th {\n",
       "        vertical-align: top;\n",
       "    }\n",
       "\n",
       "    .dataframe thead th {\n",
       "        text-align: right;\n",
       "    }\n",
       "</style>\n",
       "<table border=\"1\" class=\"dataframe\">\n",
       "  <thead>\n",
       "    <tr style=\"text-align: right;\">\n",
       "      <th></th>\n",
       "      <th>Id</th>\n",
       "      <th>MSSubClass</th>\n",
       "      <th>MSZoning</th>\n",
       "      <th>LotFrontage</th>\n",
       "      <th>LotArea</th>\n",
       "      <th>Street</th>\n",
       "      <th>Alley</th>\n",
       "      <th>LotShape</th>\n",
       "      <th>LandContour</th>\n",
       "      <th>Utilities</th>\n",
       "      <th>...</th>\n",
       "      <th>PoolArea</th>\n",
       "      <th>PoolQC</th>\n",
       "      <th>Fence</th>\n",
       "      <th>MiscFeature</th>\n",
       "      <th>MiscVal</th>\n",
       "      <th>MoSold</th>\n",
       "      <th>YrSold</th>\n",
       "      <th>SaleType</th>\n",
       "      <th>SaleCondition</th>\n",
       "      <th>SalePrice</th>\n",
       "    </tr>\n",
       "  </thead>\n",
       "  <tbody>\n",
       "    <tr>\n",
       "      <th>0</th>\n",
       "      <td>1</td>\n",
       "      <td>60</td>\n",
       "      <td>RL</td>\n",
       "      <td>65.0</td>\n",
       "      <td>8450</td>\n",
       "      <td>Pave</td>\n",
       "      <td>NaN</td>\n",
       "      <td>Reg</td>\n",
       "      <td>Lvl</td>\n",
       "      <td>AllPub</td>\n",
       "      <td>...</td>\n",
       "      <td>0</td>\n",
       "      <td>NaN</td>\n",
       "      <td>NaN</td>\n",
       "      <td>NaN</td>\n",
       "      <td>0</td>\n",
       "      <td>2</td>\n",
       "      <td>2008</td>\n",
       "      <td>WD</td>\n",
       "      <td>Normal</td>\n",
       "      <td>208500</td>\n",
       "    </tr>\n",
       "    <tr>\n",
       "      <th>1</th>\n",
       "      <td>2</td>\n",
       "      <td>20</td>\n",
       "      <td>RL</td>\n",
       "      <td>80.0</td>\n",
       "      <td>9600</td>\n",
       "      <td>Pave</td>\n",
       "      <td>NaN</td>\n",
       "      <td>Reg</td>\n",
       "      <td>Lvl</td>\n",
       "      <td>AllPub</td>\n",
       "      <td>...</td>\n",
       "      <td>0</td>\n",
       "      <td>NaN</td>\n",
       "      <td>NaN</td>\n",
       "      <td>NaN</td>\n",
       "      <td>0</td>\n",
       "      <td>5</td>\n",
       "      <td>2007</td>\n",
       "      <td>WD</td>\n",
       "      <td>Normal</td>\n",
       "      <td>181500</td>\n",
       "    </tr>\n",
       "    <tr>\n",
       "      <th>2</th>\n",
       "      <td>3</td>\n",
       "      <td>60</td>\n",
       "      <td>RL</td>\n",
       "      <td>68.0</td>\n",
       "      <td>11250</td>\n",
       "      <td>Pave</td>\n",
       "      <td>NaN</td>\n",
       "      <td>IR1</td>\n",
       "      <td>Lvl</td>\n",
       "      <td>AllPub</td>\n",
       "      <td>...</td>\n",
       "      <td>0</td>\n",
       "      <td>NaN</td>\n",
       "      <td>NaN</td>\n",
       "      <td>NaN</td>\n",
       "      <td>0</td>\n",
       "      <td>9</td>\n",
       "      <td>2008</td>\n",
       "      <td>WD</td>\n",
       "      <td>Normal</td>\n",
       "      <td>223500</td>\n",
       "    </tr>\n",
       "    <tr>\n",
       "      <th>3</th>\n",
       "      <td>4</td>\n",
       "      <td>70</td>\n",
       "      <td>RL</td>\n",
       "      <td>60.0</td>\n",
       "      <td>9550</td>\n",
       "      <td>Pave</td>\n",
       "      <td>NaN</td>\n",
       "      <td>IR1</td>\n",
       "      <td>Lvl</td>\n",
       "      <td>AllPub</td>\n",
       "      <td>...</td>\n",
       "      <td>0</td>\n",
       "      <td>NaN</td>\n",
       "      <td>NaN</td>\n",
       "      <td>NaN</td>\n",
       "      <td>0</td>\n",
       "      <td>2</td>\n",
       "      <td>2006</td>\n",
       "      <td>WD</td>\n",
       "      <td>Abnorml</td>\n",
       "      <td>140000</td>\n",
       "    </tr>\n",
       "    <tr>\n",
       "      <th>4</th>\n",
       "      <td>5</td>\n",
       "      <td>60</td>\n",
       "      <td>RL</td>\n",
       "      <td>84.0</td>\n",
       "      <td>14260</td>\n",
       "      <td>Pave</td>\n",
       "      <td>NaN</td>\n",
       "      <td>IR1</td>\n",
       "      <td>Lvl</td>\n",
       "      <td>AllPub</td>\n",
       "      <td>...</td>\n",
       "      <td>0</td>\n",
       "      <td>NaN</td>\n",
       "      <td>NaN</td>\n",
       "      <td>NaN</td>\n",
       "      <td>0</td>\n",
       "      <td>12</td>\n",
       "      <td>2008</td>\n",
       "      <td>WD</td>\n",
       "      <td>Normal</td>\n",
       "      <td>250000</td>\n",
       "    </tr>\n",
       "  </tbody>\n",
       "</table>\n",
       "<p>5 rows × 81 columns</p>\n",
       "</div>"
      ],
      "text/plain": [
       "   Id  MSSubClass MSZoning  LotFrontage  LotArea Street Alley LotShape  \\\n",
       "0   1          60       RL         65.0     8450   Pave   NaN      Reg   \n",
       "1   2          20       RL         80.0     9600   Pave   NaN      Reg   \n",
       "2   3          60       RL         68.0    11250   Pave   NaN      IR1   \n",
       "3   4          70       RL         60.0     9550   Pave   NaN      IR1   \n",
       "4   5          60       RL         84.0    14260   Pave   NaN      IR1   \n",
       "\n",
       "  LandContour Utilities    ...     PoolArea PoolQC Fence MiscFeature MiscVal  \\\n",
       "0         Lvl    AllPub    ...            0    NaN   NaN         NaN       0   \n",
       "1         Lvl    AllPub    ...            0    NaN   NaN         NaN       0   \n",
       "2         Lvl    AllPub    ...            0    NaN   NaN         NaN       0   \n",
       "3         Lvl    AllPub    ...            0    NaN   NaN         NaN       0   \n",
       "4         Lvl    AllPub    ...            0    NaN   NaN         NaN       0   \n",
       "\n",
       "  MoSold YrSold  SaleType  SaleCondition  SalePrice  \n",
       "0      2   2008        WD         Normal     208500  \n",
       "1      5   2007        WD         Normal     181500  \n",
       "2      9   2008        WD         Normal     223500  \n",
       "3      2   2006        WD        Abnorml     140000  \n",
       "4     12   2008        WD         Normal     250000  \n",
       "\n",
       "[5 rows x 81 columns]"
      ]
     },
     "execution_count": 1131,
     "metadata": {},
     "output_type": "execute_result"
    }
   ],
   "source": [
    "train = pd.read_csv('boston_train.csv')\n",
    "train.head()"
   ]
  },
  {
   "cell_type": "code",
   "execution_count": 1132,
   "metadata": {},
   "outputs": [
    {
     "data": {
      "text/html": [
       "<div>\n",
       "<style scoped>\n",
       "    .dataframe tbody tr th:only-of-type {\n",
       "        vertical-align: middle;\n",
       "    }\n",
       "\n",
       "    .dataframe tbody tr th {\n",
       "        vertical-align: top;\n",
       "    }\n",
       "\n",
       "    .dataframe thead th {\n",
       "        text-align: right;\n",
       "    }\n",
       "</style>\n",
       "<table border=\"1\" class=\"dataframe\">\n",
       "  <thead>\n",
       "    <tr style=\"text-align: right;\">\n",
       "      <th></th>\n",
       "      <th>Id</th>\n",
       "      <th>MSSubClass</th>\n",
       "      <th>MSZoning</th>\n",
       "      <th>LotFrontage</th>\n",
       "      <th>LotArea</th>\n",
       "      <th>Street</th>\n",
       "      <th>Alley</th>\n",
       "      <th>LotShape</th>\n",
       "      <th>LandContour</th>\n",
       "      <th>Utilities</th>\n",
       "      <th>...</th>\n",
       "      <th>ScreenPorch</th>\n",
       "      <th>PoolArea</th>\n",
       "      <th>PoolQC</th>\n",
       "      <th>Fence</th>\n",
       "      <th>MiscFeature</th>\n",
       "      <th>MiscVal</th>\n",
       "      <th>MoSold</th>\n",
       "      <th>YrSold</th>\n",
       "      <th>SaleType</th>\n",
       "      <th>SaleCondition</th>\n",
       "    </tr>\n",
       "  </thead>\n",
       "  <tbody>\n",
       "    <tr>\n",
       "      <th>0</th>\n",
       "      <td>1461</td>\n",
       "      <td>20</td>\n",
       "      <td>RH</td>\n",
       "      <td>80.0</td>\n",
       "      <td>11622</td>\n",
       "      <td>Pave</td>\n",
       "      <td>NaN</td>\n",
       "      <td>Reg</td>\n",
       "      <td>Lvl</td>\n",
       "      <td>AllPub</td>\n",
       "      <td>...</td>\n",
       "      <td>120</td>\n",
       "      <td>0</td>\n",
       "      <td>NaN</td>\n",
       "      <td>MnPrv</td>\n",
       "      <td>NaN</td>\n",
       "      <td>0</td>\n",
       "      <td>6</td>\n",
       "      <td>2010</td>\n",
       "      <td>WD</td>\n",
       "      <td>Normal</td>\n",
       "    </tr>\n",
       "    <tr>\n",
       "      <th>1</th>\n",
       "      <td>1462</td>\n",
       "      <td>20</td>\n",
       "      <td>RL</td>\n",
       "      <td>81.0</td>\n",
       "      <td>14267</td>\n",
       "      <td>Pave</td>\n",
       "      <td>NaN</td>\n",
       "      <td>IR1</td>\n",
       "      <td>Lvl</td>\n",
       "      <td>AllPub</td>\n",
       "      <td>...</td>\n",
       "      <td>0</td>\n",
       "      <td>0</td>\n",
       "      <td>NaN</td>\n",
       "      <td>NaN</td>\n",
       "      <td>Gar2</td>\n",
       "      <td>12500</td>\n",
       "      <td>6</td>\n",
       "      <td>2010</td>\n",
       "      <td>WD</td>\n",
       "      <td>Normal</td>\n",
       "    </tr>\n",
       "    <tr>\n",
       "      <th>2</th>\n",
       "      <td>1463</td>\n",
       "      <td>60</td>\n",
       "      <td>RL</td>\n",
       "      <td>74.0</td>\n",
       "      <td>13830</td>\n",
       "      <td>Pave</td>\n",
       "      <td>NaN</td>\n",
       "      <td>IR1</td>\n",
       "      <td>Lvl</td>\n",
       "      <td>AllPub</td>\n",
       "      <td>...</td>\n",
       "      <td>0</td>\n",
       "      <td>0</td>\n",
       "      <td>NaN</td>\n",
       "      <td>MnPrv</td>\n",
       "      <td>NaN</td>\n",
       "      <td>0</td>\n",
       "      <td>3</td>\n",
       "      <td>2010</td>\n",
       "      <td>WD</td>\n",
       "      <td>Normal</td>\n",
       "    </tr>\n",
       "    <tr>\n",
       "      <th>3</th>\n",
       "      <td>1464</td>\n",
       "      <td>60</td>\n",
       "      <td>RL</td>\n",
       "      <td>78.0</td>\n",
       "      <td>9978</td>\n",
       "      <td>Pave</td>\n",
       "      <td>NaN</td>\n",
       "      <td>IR1</td>\n",
       "      <td>Lvl</td>\n",
       "      <td>AllPub</td>\n",
       "      <td>...</td>\n",
       "      <td>0</td>\n",
       "      <td>0</td>\n",
       "      <td>NaN</td>\n",
       "      <td>NaN</td>\n",
       "      <td>NaN</td>\n",
       "      <td>0</td>\n",
       "      <td>6</td>\n",
       "      <td>2010</td>\n",
       "      <td>WD</td>\n",
       "      <td>Normal</td>\n",
       "    </tr>\n",
       "    <tr>\n",
       "      <th>4</th>\n",
       "      <td>1465</td>\n",
       "      <td>120</td>\n",
       "      <td>RL</td>\n",
       "      <td>43.0</td>\n",
       "      <td>5005</td>\n",
       "      <td>Pave</td>\n",
       "      <td>NaN</td>\n",
       "      <td>IR1</td>\n",
       "      <td>HLS</td>\n",
       "      <td>AllPub</td>\n",
       "      <td>...</td>\n",
       "      <td>144</td>\n",
       "      <td>0</td>\n",
       "      <td>NaN</td>\n",
       "      <td>NaN</td>\n",
       "      <td>NaN</td>\n",
       "      <td>0</td>\n",
       "      <td>1</td>\n",
       "      <td>2010</td>\n",
       "      <td>WD</td>\n",
       "      <td>Normal</td>\n",
       "    </tr>\n",
       "  </tbody>\n",
       "</table>\n",
       "<p>5 rows × 80 columns</p>\n",
       "</div>"
      ],
      "text/plain": [
       "     Id  MSSubClass MSZoning  LotFrontage  LotArea Street Alley LotShape  \\\n",
       "0  1461          20       RH         80.0    11622   Pave   NaN      Reg   \n",
       "1  1462          20       RL         81.0    14267   Pave   NaN      IR1   \n",
       "2  1463          60       RL         74.0    13830   Pave   NaN      IR1   \n",
       "3  1464          60       RL         78.0     9978   Pave   NaN      IR1   \n",
       "4  1465         120       RL         43.0     5005   Pave   NaN      IR1   \n",
       "\n",
       "  LandContour Utilities      ...       ScreenPorch PoolArea PoolQC  Fence  \\\n",
       "0         Lvl    AllPub      ...               120        0    NaN  MnPrv   \n",
       "1         Lvl    AllPub      ...                 0        0    NaN    NaN   \n",
       "2         Lvl    AllPub      ...                 0        0    NaN  MnPrv   \n",
       "3         Lvl    AllPub      ...                 0        0    NaN    NaN   \n",
       "4         HLS    AllPub      ...               144        0    NaN    NaN   \n",
       "\n",
       "  MiscFeature MiscVal MoSold  YrSold  SaleType  SaleCondition  \n",
       "0         NaN       0      6    2010        WD         Normal  \n",
       "1        Gar2   12500      6    2010        WD         Normal  \n",
       "2         NaN       0      3    2010        WD         Normal  \n",
       "3         NaN       0      6    2010        WD         Normal  \n",
       "4         NaN       0      1    2010        WD         Normal  \n",
       "\n",
       "[5 rows x 80 columns]"
      ]
     },
     "execution_count": 1132,
     "metadata": {},
     "output_type": "execute_result"
    }
   ],
   "source": [
    "test = pd.read_csv('boston_test.csv')\n",
    "test.head()"
   ]
  },
  {
   "cell_type": "markdown",
   "metadata": {},
   "source": [
    "### Combine train and test data to process them together"
   ]
  },
  {
   "cell_type": "code",
   "execution_count": 1133,
   "metadata": {},
   "outputs": [],
   "source": [
    "target = train.SalePrice\n",
    "train.drop(['SalePrice'],axis = 1 , inplace = True)\n",
    "\n",
    "combined = train.append(test)\n",
    "combined.reset_index(inplace=True)\n",
    "combined.drop(['index', 'Id'], inplace=True, axis=1)"
   ]
  },
  {
   "cell_type": "code",
   "execution_count": 1134,
   "metadata": {},
   "outputs": [
    {
     "name": "stdout",
     "output_type": "stream",
     "text": [
      "<class 'pandas.core.frame.DataFrame'>\n",
      "RangeIndex: 1459 entries, 0 to 1458\n",
      "Data columns (total 80 columns):\n",
      "Id               1459 non-null int64\n",
      "MSSubClass       1459 non-null int64\n",
      "MSZoning         1455 non-null object\n",
      "LotFrontage      1232 non-null float64\n",
      "LotArea          1459 non-null int64\n",
      "Street           1459 non-null object\n",
      "Alley            107 non-null object\n",
      "LotShape         1459 non-null object\n",
      "LandContour      1459 non-null object\n",
      "Utilities        1457 non-null object\n",
      "LotConfig        1459 non-null object\n",
      "LandSlope        1459 non-null object\n",
      "Neighborhood     1459 non-null object\n",
      "Condition1       1459 non-null object\n",
      "Condition2       1459 non-null object\n",
      "BldgType         1459 non-null object\n",
      "HouseStyle       1459 non-null object\n",
      "OverallQual      1459 non-null int64\n",
      "OverallCond      1459 non-null int64\n",
      "YearBuilt        1459 non-null int64\n",
      "YearRemodAdd     1459 non-null int64\n",
      "RoofStyle        1459 non-null object\n",
      "RoofMatl         1459 non-null object\n",
      "Exterior1st      1458 non-null object\n",
      "Exterior2nd      1458 non-null object\n",
      "MasVnrType       1443 non-null object\n",
      "MasVnrArea       1444 non-null float64\n",
      "ExterQual        1459 non-null object\n",
      "ExterCond        1459 non-null object\n",
      "Foundation       1459 non-null object\n",
      "BsmtQual         1415 non-null object\n",
      "BsmtCond         1414 non-null object\n",
      "BsmtExposure     1415 non-null object\n",
      "BsmtFinType1     1417 non-null object\n",
      "BsmtFinSF1       1458 non-null float64\n",
      "BsmtFinType2     1417 non-null object\n",
      "BsmtFinSF2       1458 non-null float64\n",
      "BsmtUnfSF        1458 non-null float64\n",
      "TotalBsmtSF      1458 non-null float64\n",
      "Heating          1459 non-null object\n",
      "HeatingQC        1459 non-null object\n",
      "CentralAir       1459 non-null object\n",
      "Electrical       1459 non-null object\n",
      "1stFlrSF         1459 non-null int64\n",
      "2ndFlrSF         1459 non-null int64\n",
      "LowQualFinSF     1459 non-null int64\n",
      "GrLivArea        1459 non-null int64\n",
      "BsmtFullBath     1457 non-null float64\n",
      "BsmtHalfBath     1457 non-null float64\n",
      "FullBath         1459 non-null int64\n",
      "HalfBath         1459 non-null int64\n",
      "BedroomAbvGr     1459 non-null int64\n",
      "KitchenAbvGr     1459 non-null int64\n",
      "KitchenQual      1458 non-null object\n",
      "TotRmsAbvGrd     1459 non-null int64\n",
      "Functional       1457 non-null object\n",
      "Fireplaces       1459 non-null int64\n",
      "FireplaceQu      729 non-null object\n",
      "GarageType       1383 non-null object\n",
      "GarageYrBlt      1381 non-null float64\n",
      "GarageFinish     1381 non-null object\n",
      "GarageCars       1458 non-null float64\n",
      "GarageArea       1458 non-null float64\n",
      "GarageQual       1381 non-null object\n",
      "GarageCond       1381 non-null object\n",
      "PavedDrive       1459 non-null object\n",
      "WoodDeckSF       1459 non-null int64\n",
      "OpenPorchSF      1459 non-null int64\n",
      "EnclosedPorch    1459 non-null int64\n",
      "3SsnPorch        1459 non-null int64\n",
      "ScreenPorch      1459 non-null int64\n",
      "PoolArea         1459 non-null int64\n",
      "PoolQC           3 non-null object\n",
      "Fence            290 non-null object\n",
      "MiscFeature      51 non-null object\n",
      "MiscVal          1459 non-null int64\n",
      "MoSold           1459 non-null int64\n",
      "YrSold           1459 non-null int64\n",
      "SaleType         1458 non-null object\n",
      "SaleCondition    1459 non-null object\n",
      "dtypes: float64(11), int64(26), object(43)\n",
      "memory usage: 912.0+ KB\n"
     ]
    }
   ],
   "source": [
    "test.info()"
   ]
  },
  {
   "cell_type": "code",
   "execution_count": 1135,
   "metadata": {},
   "outputs": [],
   "source": [
    "def get_cols_with_no_nans(df,col_type):\n",
    "    '''\n",
    "    Arguments :\n",
    "    df : The dataframe to process\n",
    "    col_type : \n",
    "          num : to only get numerical columns with no nans\n",
    "          no_num : to only get nun-numerical columns with no nans\n",
    "          all : to get any columns with no nans    \n",
    "    '''\n",
    "    if (col_type == 'num'):\n",
    "        predictors = df.select_dtypes(exclude=['object'])\n",
    "    elif (col_type == 'no_num'):\n",
    "        predictors = df.select_dtypes(include=['object'])\n",
    "    elif (col_type == 'all'):\n",
    "        predictors = df\n",
    "    else :\n",
    "        print('Error : choose a type (num, no_num, all)')\n",
    "        return 0\n",
    "    cols_with_no_nans = []\n",
    "    for col in predictors.columns:\n",
    "        if not df[col].isnull().any():\n",
    "            cols_with_no_nans.append(col)\n",
    "    return cols_with_no_nans"
   ]
  },
  {
   "cell_type": "code",
   "execution_count": 1136,
   "metadata": {},
   "outputs": [
    {
     "name": "stdout",
     "output_type": "stream",
     "text": [
      "Number of numerical columns with no nan values : 34\n",
      "Number of nun-numerical columns with no nan values : 27\n"
     ]
    }
   ],
   "source": [
    "num_cols_train = get_cols_with_no_nans(train , 'num')\n",
    "cat_cols_train = get_cols_with_no_nans(train , 'no_num')\n",
    "print ('Number of numerical columns with no nan values :',len(num_cols_train))\n",
    "print ('Number of nun-numerical columns with no nan values :',len(cat_cols_train))"
   ]
  },
  {
   "cell_type": "code",
   "execution_count": 1137,
   "metadata": {},
   "outputs": [
    {
     "name": "stdout",
     "output_type": "stream",
     "text": [
      "Number of numerical columns with no nan values : 25\n",
      "Number of nun-numerical columns with no nan values : 20\n"
     ]
    }
   ],
   "source": [
    "num_cols_combined = get_cols_with_no_nans(combined , 'num')\n",
    "cat_cols_combined = get_cols_with_no_nans(combined , 'no_num')\n",
    "print ('Number of numerical columns with no nan values :',len(num_cols_combined))\n",
    "print ('Number of nun-numerical columns with no nan values :',len(cat_cols_combined))"
   ]
  },
  {
   "cell_type": "code",
   "execution_count": 1138,
   "metadata": {},
   "outputs": [
    {
     "name": "stdout",
     "output_type": "stream",
     "text": [
      "Number of numerical columns with no nan values : 26\n",
      "Number of nun-numerical columns with no nan values : 21\n"
     ]
    }
   ],
   "source": [
    "num_cols_test = get_cols_with_no_nans(test , 'num')\n",
    "cat_cols_test = get_cols_with_no_nans(test , 'no_num')\n",
    "print ('Number of numerical columns with no nan values :',len(num_cols_test))\n",
    "print ('Number of nun-numerical columns with no nan values :',len(cat_cols_test))"
   ]
  },
  {
   "cell_type": "code",
   "execution_count": 1139,
   "metadata": {},
   "outputs": [],
   "source": [
    "dif =list(set(num_cols_train)-set(num_cols_test))"
   ]
  },
  {
   "cell_type": "code",
   "execution_count": 1140,
   "metadata": {},
   "outputs": [
    {
     "name": "stdout",
     "output_type": "stream",
     "text": [
      "<class 'pandas.core.frame.DataFrame'>\n",
      "RangeIndex: 1460 entries, 0 to 1459\n",
      "Data columns (total 8 columns):\n",
      "BsmtFinSF1      1460 non-null int64\n",
      "GarageCars      1460 non-null int64\n",
      "GarageArea      1460 non-null int64\n",
      "BsmtFullBath    1460 non-null int64\n",
      "BsmtUnfSF       1460 non-null int64\n",
      "BsmtFinSF2      1460 non-null int64\n",
      "BsmtHalfBath    1460 non-null int64\n",
      "TotalBsmtSF     1460 non-null int64\n",
      "dtypes: int64(8)\n",
      "memory usage: 91.3 KB\n"
     ]
    }
   ],
   "source": [
    "train[dif].info()"
   ]
  },
  {
   "cell_type": "code",
   "execution_count": 1141,
   "metadata": {},
   "outputs": [
    {
     "name": "stdout",
     "output_type": "stream",
     "text": [
      "<class 'pandas.core.frame.DataFrame'>\n",
      "RangeIndex: 1459 entries, 0 to 1458\n",
      "Data columns (total 8 columns):\n",
      "BsmtFinSF1      1458 non-null float64\n",
      "GarageCars      1458 non-null float64\n",
      "GarageArea      1458 non-null float64\n",
      "BsmtFullBath    1457 non-null float64\n",
      "BsmtUnfSF       1458 non-null float64\n",
      "BsmtFinSF2      1458 non-null float64\n",
      "BsmtHalfBath    1457 non-null float64\n",
      "TotalBsmtSF     1458 non-null float64\n",
      "dtypes: float64(8)\n",
      "memory usage: 91.3 KB\n"
     ]
    }
   ],
   "source": [
    "test[dif].info()"
   ]
  },
  {
   "cell_type": "code",
   "execution_count": 1142,
   "metadata": {},
   "outputs": [
    {
     "data": {
      "image/png": "[encoded data removed]",
      "text/plain": [
       "<Figure size 864x720 with 9 Axes>"
      ]
     },
     "metadata": {
      "needs_background": "light"
     },
     "output_type": "display_data"
    }
   ],
   "source": [
    "train[dif].hist(figsize = (12,10))\n",
    "plt.show()"
   ]
  },
  {
   "cell_type": "code",
   "execution_count": 1143,
   "metadata": {},
   "outputs": [
    {
     "data": {
      "text/plain": [
       "['BsmtFinSF1',\n",
       " 'GarageCars',\n",
       " 'GarageArea',\n",
       " 'BsmtFullBath',\n",
       " 'BsmtUnfSF',\n",
       " 'BsmtFinSF2',\n",
       " 'BsmtHalfBath',\n",
       " 'TotalBsmtSF']"
      ]
     },
     "execution_count": 1143,
     "metadata": {},
     "output_type": "execute_result"
    }
   ],
   "source": [
    "dif"
   ]
  },
  {
   "cell_type": "code",
   "execution_count": 1144,
   "metadata": {},
   "outputs": [],
   "source": [
    "fil0 = ['BsmtFinSF1',\n",
    " 'BsmtFullBath',\n",
    " 'BsmtUnfSF',\n",
    " 'BsmtFinSF2',\n",
    " 'BsmtHalfBath']\n",
    "test[fil0] = test[fil0].fillna(0)\n",
    "test['GarageCars'] = test['GarageCars'].fillna(2.)\n",
    "test['TotalBsmtSF'] = test['TotalBsmtSF'].fillna(train['TotalBsmtSF'].median())"
   ]
  },
  {
   "cell_type": "markdown",
   "metadata": {},
   "source": [
    "#### Check null in categorical columns"
   ]
  },
  {
   "cell_type": "code",
   "execution_count": 1145,
   "metadata": {},
   "outputs": [],
   "source": [
    "dif =list(set(cat_cols_train)-set(cat_cols_test))"
   ]
  },
  {
   "cell_type": "code",
   "execution_count": 1146,
   "metadata": {},
   "outputs": [
    {
     "data": {
      "text/plain": [
       "((1460, 80), (1459, 80))"
      ]
     },
     "execution_count": 1146,
     "metadata": {},
     "output_type": "execute_result"
    }
   ],
   "source": [
    "train.shape,test.shape"
   ]
  },
  {
   "cell_type": "code",
   "execution_count": 1147,
   "metadata": {},
   "outputs": [
    {
     "name": "stdout",
     "output_type": "stream",
     "text": [
      "<class 'pandas.core.frame.DataFrame'>\n",
      "RangeIndex: 1460 entries, 0 to 1459\n",
      "Data columns (total 7 columns):\n",
      "KitchenQual    1460 non-null object\n",
      "Exterior2nd    1460 non-null object\n",
      "Exterior1st    1460 non-null object\n",
      "Functional     1460 non-null object\n",
      "Utilities      1460 non-null object\n",
      "MSZoning       1460 non-null object\n",
      "SaleType       1460 non-null object\n",
      "dtypes: object(7)\n",
      "memory usage: 79.9+ KB\n"
     ]
    }
   ],
   "source": [
    "train[dif].info()"
   ]
  },
  {
   "cell_type": "code",
   "execution_count": 1148,
   "metadata": {},
   "outputs": [
    {
     "name": "stdout",
     "output_type": "stream",
     "text": [
      "<class 'pandas.core.frame.DataFrame'>\n",
      "RangeIndex: 1459 entries, 0 to 1458\n",
      "Data columns (total 7 columns):\n",
      "KitchenQual    1458 non-null object\n",
      "Exterior2nd    1458 non-null object\n",
      "Exterior1st    1458 non-null object\n",
      "Functional     1457 non-null object\n",
      "Utilities      1457 non-null object\n",
      "MSZoning       1455 non-null object\n",
      "SaleType       1458 non-null object\n",
      "dtypes: object(7)\n",
      "memory usage: 79.9+ KB\n"
     ]
    }
   ],
   "source": [
    "test[dif].info()"
   ]
  },
  {
   "cell_type": "code",
   "execution_count": 1149,
   "metadata": {},
   "outputs": [
    {
     "name": "stdout",
     "output_type": "stream",
     "text": [
      "KitchenQual\n",
      "Exterior2nd\n",
      "Exterior1st\n",
      "Functional\n",
      "Utilities\n",
      "MSZoning\n",
      "SaleType\n"
     ]
    }
   ],
   "source": [
    "for col in dif:\n",
    "    print(col)\n",
    "    test[col] = test[col].fillna(value=str(train[col].mode()[0]))"
   ]
  },
  {
   "cell_type": "code",
   "execution_count": 1150,
   "metadata": {},
   "outputs": [
    {
     "name": "stdout",
     "output_type": "stream",
     "text": [
      "<class 'pandas.core.frame.DataFrame'>\n",
      "RangeIndex: 1459 entries, 0 to 1458\n",
      "Data columns (total 7 columns):\n",
      "KitchenQual    1459 non-null object\n",
      "Exterior2nd    1459 non-null object\n",
      "Exterior1st    1459 non-null object\n",
      "Functional     1459 non-null object\n",
      "Utilities      1459 non-null object\n",
      "MSZoning       1459 non-null object\n",
      "SaleType       1459 non-null object\n",
      "dtypes: object(7)\n",
      "memory usage: 79.9+ KB\n"
     ]
    }
   ],
   "source": [
    "test[dif].info()"
   ]
  },
  {
   "cell_type": "code",
   "execution_count": 1151,
   "metadata": {},
   "outputs": [
    {
     "data": {
      "text/plain": [
       "TA    758\n",
       "Gd    565\n",
       "Ex    105\n",
       "Fa     31\n",
       "Name: KitchenQual, dtype: int64"
      ]
     },
     "execution_count": 1151,
     "metadata": {},
     "output_type": "execute_result"
    }
   ],
   "source": [
    "test.KitchenQual.value_counts()"
   ]
  },
  {
   "cell_type": "code",
   "execution_count": 1152,
   "metadata": {},
   "outputs": [],
   "source": [
    "combined = train.append(test)\n",
    "combined.reset_index(inplace=True)\n",
    "combined.drop(['index', 'Id'], inplace=True, axis=1)"
   ]
  },
  {
   "cell_type": "code",
   "execution_count": 1153,
   "metadata": {},
   "outputs": [
    {
     "name": "stdout",
     "output_type": "stream",
     "text": [
      "Number of numerical columns with no nan values : 32\n",
      "Number of nun-numerical columns with no nan values : 27\n"
     ]
    }
   ],
   "source": [
    "num_cols = get_cols_with_no_nans(combined , 'num')\n",
    "cat_cols = get_cols_with_no_nans(combined , 'no_num')\n",
    "print ('Number of numerical columns with no nan values :',len(num_cols))\n",
    "print ('Number of nun-numerical columns with no nan values :',len(cat_cols))"
   ]
  },
  {
   "cell_type": "code",
   "execution_count": 1154,
   "metadata": {},
   "outputs": [
    {
     "data": {
      "image/png": "[encoded data removed]",
      "text/plain": [
       "<Figure size 864x720 with 36 Axes>"
      ]
     },
     "metadata": {
      "needs_background": "light"
     },
     "output_type": "display_data"
    }
   ],
   "source": [
    "combined = combined[num_cols + cat_cols]\n",
    "combined.hist(figsize = (12,10))\n",
    "plt.show()"
   ]
  },
  {
   "cell_type": "markdown",
   "metadata": {},
   "source": [
    "## Manage categorial variable"
   ]
  },
  {
   "cell_type": "code",
   "execution_count": 1155,
   "metadata": {},
   "outputs": [
    {
     "name": "stdout",
     "output_type": "stream",
     "text": [
      "There were 59 columns before encoding categorical features\n",
      "There are 214 columns after encoding categorical features\n"
     ]
    }
   ],
   "source": [
    "def oneHotEncode(df,colNames):\n",
    "    for col in colNames:\n",
    "        if( df[col].dtype == np.dtype('object')):\n",
    "            dummies = pd.get_dummies(df[col],prefix=col)\n",
    "            df = pd.concat([df,dummies],axis=1)\n",
    "\n",
    "            #drop the encoded column\n",
    "            df.drop([col],axis = 1 , inplace=True)\n",
    "    return df\n",
    "    \n",
    "\n",
    "print('There were {} columns before encoding categorical features'.format(combined.shape[1]))\n",
    "combined = oneHotEncode(combined, cat_cols)\n",
    "print('There are {} columns after encoding categorical features'.format(combined.shape[1]))"
   ]
  },
  {
   "cell_type": "code",
   "execution_count": 1156,
   "metadata": {},
   "outputs": [],
   "source": [
    "## Split back\n",
    "train = combined[:1460]\n",
    "test = combined[1460:]"
   ]
  },
  {
   "cell_type": "markdown",
   "metadata": {},
   "source": [
    "### Normalize"
   ]
  },
  {
   "cell_type": "markdown",
   "metadata": {},
   "source": [
    "## Regression Loss functions\n",
    "### The mean absolute percentage error (MAPE)\n",
    "MAPE, also known as mean absolute percentage deviation (MAPD), is a measure of prediction accuracy of a forecasting method in statistics, for example in trend estimation, also used as a Loss function for regression problems in Machine Learning. It usually expresses accuracy as a percentage, and is defined by the formula:\n",
    "\n",
    "$${\\displaystyle {\\mbox{M}}={\\frac {100\\%}{n}}\\sum _{t=1}^{n}\\left|{\\frac {A_{t}-F_{t}}{A_{t}}}\\right|,} {\\displaystyle {\\mbox{M}}={\\frac {100\\%}{n}}\\sum _{t=1}^{n}\\left|{\\frac {A_{t}-F_{t}}{A_{t}}}\\right|,}$$\n",
    "where $A_t$ is the actual value and $F_t$ is the forecast value. The difference between $A_t$  and $F_t$ is divided by the actual value $A_t$  again. The absolute value in this calculation is summed for every forecasted point in time and divided by the number of fitted points n. Multiplying by 100% makes it a percentage error.\n",
    "\n",
    "* https://en.wikipedia.org/wiki/Mean_absolute_percentage_error\n",
    "\n",
    "### mean_absolute_error\n",
    "### mean_squared_error\n",
    "### mean_squared_logarithmic_error"
   ]
  },
  {
   "cell_type": "markdown",
   "metadata": {},
   "source": [
    "## Build Keras model - train and predict"
   ]
  },
  {
   "cell_type": "code",
   "execution_count": 1158,
   "metadata": {},
   "outputs": [
    {
     "name": "stdout",
     "output_type": "stream",
     "text": [
      "_________________________________________________________________\n",
      "Layer (type)                 Output Shape              Param #   \n",
      "=================================================================\n",
      "dense_112 (Dense)            (None, 128)               27520     \n",
      "_________________________________________________________________\n",
      "dense_113 (Dense)            (None, 256)               33024     \n",
      "_________________________________________________________________\n",
      "dense_114 (Dense)            (None, 256)               65792     \n",
      "_________________________________________________________________\n",
      "dense_115 (Dense)            (None, 256)               65792     \n",
      "_________________________________________________________________\n",
      "dense_116 (Dense)            (None, 1)                 257       \n",
      "=================================================================\n",
      "Total params: 192,385\n",
      "Trainable params: 192,385\n",
      "Non-trainable params: 0\n",
      "_________________________________________________________________\n"
     ]
    }
   ],
   "source": [
    "def get_model():\n",
    "    \n",
    "    NN_model = Sequential()\n",
    "\n",
    "    # The Input Layer :\n",
    "    NN_model.add(Dense(128, kernel_initializer='normal',input_dim = train.shape[1], activation='relu'))\n",
    "\n",
    "    # The Hidden Layers :\n",
    "    NN_model.add(Dense(256, kernel_initializer='normal',activation='relu'))\n",
    "    NN_model.add(Dense(256, kernel_initializer='normal',activation='relu'))\n",
    "    NN_model.add(Dense(256, kernel_initializer='normal',activation='relu'))\n",
    "\n",
    "    # The Output Layer :\n",
    "    NN_model.add(Dense(1, kernel_initializer='normal',activation='linear'))\n",
    "    \n",
    "    return NN_model\n",
    "np.random.seed(1235)\n",
    "NN_model = get_model()\n",
    "\n",
    "# Compile the network :\n",
    "NN_model.compile(loss='mean_squared_logarithmic_error', optimizer='adam', \n",
    "                 metrics=['mean_absolute_error'])\n",
    "NN_model.summary()"
   ]
  },
  {
   "cell_type": "markdown",
   "metadata": {},
   "source": [
    "### Monitor Training\n",
    "* EarlyStopping\n",
    "* Save best models\n",
    "* ReduceLROnPlateau"
   ]
  },
  {
   "cell_type": "code",
   "execution_count": 1159,
   "metadata": {
    "scrolled": true
   },
   "outputs": [
    {
     "name": "stdout",
     "output_type": "stream",
     "text": [
      "Train on 1021 samples, validate on 439 samples\n",
      "Epoch 1/200\n",
      "1021/1021 [==============================] - 1s 1ms/step - loss: 21.9235 - mean_absolute_error: 176577.3164 - val_loss: 5.0111 - val_mean_absolute_error: 159824.3666\n",
      "\n",
      "Epoch 00001: val_loss improved from inf to 5.01107, saving model to best_model_e200_b32_oAdam.h5\n",
      "Epoch 2/200\n",
      "1021/1021 [==============================] - 0s 219us/step - loss: 1.5660 - mean_absolute_error: 112763.2777 - val_loss: 0.1239 - val_mean_absolute_error: 49413.2559\n",
      "\n",
      "Epoch 00002: val_loss improved from 5.01107 to 0.12388, saving model to best_model_e200_b32_oAdam.h5\n",
      "Epoch 3/200\n",
      "1021/1021 [==============================] - 0s 214us/step - loss: 0.1372 - mean_absolute_error: 57934.6336 - val_loss: 0.1151 - val_mean_absolute_error: 48043.6179\n",
      "\n",
      "Epoch 00003: val_loss improved from 0.12388 to 0.11505, saving model to best_model_e200_b32_oAdam.h5\n",
      "Epoch 4/200\n",
      "1021/1021 [==============================] - 0s 223us/step - loss: 0.1217 - mean_absolute_error: 53094.0361 - val_loss: 0.1094 - val_mean_absolute_error: 46792.5473\n",
      "\n",
      "Epoch 00004: val_loss improved from 0.11505 to 0.10938, saving model to best_model_e200_b32_oAdam.h5\n",
      "Epoch 5/200\n",
      "1021/1021 [==============================] - 0s 238us/step - loss: 0.1148 - mean_absolute_error: 51611.1454 - val_loss: 0.1018 - val_mean_absolute_error: 44977.5627\n",
      "\n",
      "Epoch 00005: val_loss improved from 0.10938 to 0.10183, saving model to best_model_e200_b32_oAdam.h5\n",
      "Epoch 6/200\n",
      "1021/1021 [==============================] - 0s 218us/step - loss: 0.1060 - mean_absolute_error: 48967.0271 - val_loss: 0.0931 - val_mean_absolute_error: 42955.0773\n",
      "\n",
      "Epoch 00006: val_loss improved from 0.10183 to 0.09306, saving model to best_model_e200_b32_oAdam.h5\n",
      "Epoch 7/200\n",
      "1021/1021 [==============================] - 0s 251us/step - loss: 0.0946 - mean_absolute_error: 45846.7844 - val_loss: 0.0825 - val_mean_absolute_error: 40446.0771\n",
      "\n",
      "Epoch 00007: val_loss improved from 0.09306 to 0.08253, saving model to best_model_e200_b32_oAdam.h5\n",
      "Epoch 8/200\n",
      "1021/1021 [==============================] - 0s 225us/step - loss: 0.0833 - mean_absolute_error: 42549.3952 - val_loss: 0.0721 - val_mean_absolute_error: 37311.0986\n",
      "\n",
      "Epoch 00008: val_loss improved from 0.08253 to 0.07206, saving model to best_model_e200_b32_oAdam.h5\n",
      "Epoch 9/200\n",
      "1021/1021 [==============================] - 0s 240us/step - loss: 0.0713 - mean_absolute_error: 38890.1516 - val_loss: 0.0630 - val_mean_absolute_error: 34350.3278\n",
      "\n",
      "Epoch 00009: val_loss improved from 0.07206 to 0.06297, saving model to best_model_e200_b32_oAdam.h5\n",
      "Epoch 10/200\n",
      "1021/1021 [==============================] - 0s 228us/step - loss: 0.0619 - mean_absolute_error: 35975.0095 - val_loss: 0.0594 - val_mean_absolute_error: 35068.9098\n",
      "\n",
      "Epoch 00010: val_loss improved from 0.06297 to 0.05943, saving model to best_model_e200_b32_oAdam.h5\n",
      "Epoch 11/200\n",
      "1021/1021 [==============================] - 0s 211us/step - loss: 0.0566 - mean_absolute_error: 34088.3106 - val_loss: 0.0544 - val_mean_absolute_error: 32086.9457\n",
      "\n",
      "Epoch 00011: val_loss improved from 0.05943 to 0.05438, saving model to best_model_e200_b32_oAdam.h5\n",
      "Epoch 12/200\n",
      "1021/1021 [==============================] - 0s 268us/step - loss: 0.0526 - mean_absolute_error: 32488.6903 - val_loss: 0.0533 - val_mean_absolute_error: 31157.1245\n",
      "\n",
      "Epoch 00012: val_loss improved from 0.05438 to 0.05329, saving model to best_model_e200_b32_oAdam.h5\n",
      "Epoch 13/200\n",
      "1021/1021 [==============================] - 0s 216us/step - loss: 0.0530 - mean_absolute_error: 32180.7600 - val_loss: 0.0532 - val_mean_absolute_error: 32015.7945\n",
      "\n",
      "Epoch 00013: val_loss improved from 0.05329 to 0.05317, saving model to best_model_e200_b32_oAdam.h5\n",
      "Epoch 14/200\n",
      "1021/1021 [==============================] - 0s 258us/step - loss: 0.0507 - mean_absolute_error: 31727.9559 - val_loss: 0.0552 - val_mean_absolute_error: 31073.0677\n",
      "\n",
      "Epoch 00014: val_loss did not improve from 0.05317\n",
      "Epoch 15/200\n",
      "1021/1021 [==============================] - 0s 206us/step - loss: 0.0501 - mean_absolute_error: 31190.7253 - val_loss: 0.0522 - val_mean_absolute_error: 30911.5401\n",
      "\n",
      "Epoch 00015: val_loss improved from 0.05317 to 0.05222, saving model to best_model_e200_b32_oAdam.h5\n",
      "Epoch 16/200\n",
      "1021/1021 [==============================] - 0s 205us/step - loss: 0.0488 - mean_absolute_error: 30908.8585 - val_loss: 0.0520 - val_mean_absolute_error: 31167.1230\n",
      "\n",
      "Epoch 00016: val_loss improved from 0.05222 to 0.05195, saving model to best_model_e200_b32_oAdam.h5\n",
      "Epoch 17/200\n",
      "1021/1021 [==============================] - 0s 231us/step - loss: 0.0494 - mean_absolute_error: 31198.8229 - val_loss: 0.0517 - val_mean_absolute_error: 30994.7262\n",
      "\n",
      "Epoch 00017: val_loss improved from 0.05195 to 0.05170, saving model to best_model_e200_b32_oAdam.h5\n",
      "Epoch 18/200\n",
      "1021/1021 [==============================] - 0s 214us/step - loss: 0.0476 - mean_absolute_error: 30425.5798 - val_loss: 0.0544 - val_mean_absolute_error: 30818.0724\n",
      "\n",
      "Epoch 00018: val_loss did not improve from 0.05170\n",
      "Epoch 19/200\n",
      "1021/1021 [==============================] - 0s 234us/step - loss: 0.0481 - mean_absolute_error: 30607.9122 - val_loss: 0.0518 - val_mean_absolute_error: 30620.9088\n",
      "\n",
      "Epoch 00019: val_loss did not improve from 0.05170\n",
      "Epoch 20/200\n",
      "1021/1021 [==============================] - 0s 218us/step - loss: 0.0488 - mean_absolute_error: 30408.7583 - val_loss: 0.0518 - val_mean_absolute_error: 31621.7696\n",
      "\n",
      "Epoch 00020: val_loss did not improve from 0.05170\n",
      "Epoch 21/200\n",
      "1021/1021 [==============================] - 0s 220us/step - loss: 0.0464 - mean_absolute_error: 29832.4087 - val_loss: 0.0512 - val_mean_absolute_error: 30351.0684\n",
      "\n",
      "Epoch 00021: val_loss improved from 0.05170 to 0.05123, saving model to best_model_e200_b32_oAdam.h5\n",
      "Epoch 22/200\n",
      "1021/1021 [==============================] - 0s 219us/step - loss: 0.0458 - mean_absolute_error: 29615.1964 - val_loss: 0.0506 - val_mean_absolute_error: 30461.0029\n",
      "\n",
      "Epoch 00022: val_loss improved from 0.05123 to 0.05065, saving model to best_model_e200_b32_oAdam.h5\n",
      "Epoch 23/200\n",
      "1021/1021 [==============================] - 0s 221us/step - loss: 0.0466 - mean_absolute_error: 29794.0231 - val_loss: 0.0507 - val_mean_absolute_error: 30913.1943\n",
      "\n",
      "Epoch 00023: val_loss did not improve from 0.05065\n",
      "Epoch 24/200\n",
      "1021/1021 [==============================] - 0s 211us/step - loss: 0.0453 - mean_absolute_error: 29434.4199 - val_loss: 0.0508 - val_mean_absolute_error: 30903.6926\n",
      "\n",
      "Epoch 00024: val_loss did not improve from 0.05065\n",
      "Epoch 25/200\n",
      "1021/1021 [==============================] - 0s 218us/step - loss: 0.0449 - mean_absolute_error: 28959.9500 - val_loss: 0.0502 - val_mean_absolute_error: 30454.7071\n",
      "\n",
      "Epoch 00025: val_loss improved from 0.05065 to 0.05016, saving model to best_model_e200_b32_oAdam.h5\n",
      "Epoch 26/200\n",
      "1021/1021 [==============================] - 0s 224us/step - loss: 0.0453 - mean_absolute_error: 29083.8823 - val_loss: 0.0501 - val_mean_absolute_error: 30661.2249\n",
      "\n",
      "Epoch 00026: val_loss improved from 0.05016 to 0.05012, saving model to best_model_e200_b32_oAdam.h5\n",
      "Epoch 27/200\n",
      "1021/1021 [==============================] - 0s 219us/step - loss: 0.0442 - mean_absolute_error: 28937.8219 - val_loss: 0.0494 - val_mean_absolute_error: 30095.6499\n",
      "\n",
      "Epoch 00027: val_loss improved from 0.05012 to 0.04945, saving model to best_model_e200_b32_oAdam.h5\n",
      "Epoch 28/200\n",
      "1021/1021 [==============================] - 0s 217us/step - loss: 0.0440 - mean_absolute_error: 28712.8737 - val_loss: 0.0497 - val_mean_absolute_error: 30149.5349\n",
      "\n",
      "Epoch 00028: val_loss did not improve from 0.04945\n",
      "Epoch 29/200\n",
      "1021/1021 [==============================] - 0s 213us/step - loss: 0.0439 - mean_absolute_error: 28778.3630 - val_loss: 0.0500 - val_mean_absolute_error: 30024.6629\n",
      "\n",
      "Epoch 00029: val_loss did not improve from 0.04945\n",
      "Epoch 30/200\n",
      "1021/1021 [==============================] - 0s 215us/step - loss: 0.0460 - mean_absolute_error: 29540.4575 - val_loss: 0.0532 - val_mean_absolute_error: 32711.6493\n",
      "\n",
      "Epoch 00030: val_loss did not improve from 0.04945\n",
      "Epoch 31/200\n",
      "1021/1021 [==============================] - 0s 213us/step - loss: 0.0435 - mean_absolute_error: 28379.8034 - val_loss: 0.0495 - val_mean_absolute_error: 30419.1838\n",
      "\n",
      "Epoch 00031: val_loss did not improve from 0.04945\n",
      "Epoch 32/200\n"
     ]
    },
    {
     "name": "stdout",
     "output_type": "stream",
     "text": [
      "1021/1021 [==============================] - 0s 204us/step - loss: 0.0432 - mean_absolute_error: 28247.6084 - val_loss: 0.0498 - val_mean_absolute_error: 29634.1146\n",
      "\n",
      "Epoch 00032: val_loss did not improve from 0.04945\n",
      "Epoch 00032: early stopping\n"
     ]
    }
   ],
   "source": [
    "from keras.callbacks import EarlyStopping, ModelCheckpoint, ReduceLROnPlateau\n",
    "np.random.seed(1235)\n",
    "epochs = 200\n",
    "batch_size = 32\n",
    "\n",
    "checkpoint = ModelCheckpoint('best_model_e200_b32_oAdam.h5', verbose=1, \n",
    "                             monitor='val_loss',\n",
    "                             save_best_only=True, mode='auto') \n",
    "\n",
    "early = EarlyStopping(monitor='val_loss',\n",
    "                              min_delta=0,\n",
    "                              patience=5,\n",
    "                              verbose=1, mode='auto')\n",
    "\n",
    "history = NN_model.fit(train, target,\n",
    "                    batch_size=batch_size,\n",
    "                    epochs=epochs,\n",
    "                    verbose=1,callbacks=[checkpoint, early],\n",
    "                    validation_split=0.3)"
   ]
  },
  {
   "cell_type": "code",
   "execution_count": 1160,
   "metadata": {},
   "outputs": [
    {
     "data": {
      "image/png": "[encoded data removed]",
      "text/plain": [
       "<Figure size 432x288 with 1 Axes>"
      ]
     },
     "metadata": {
      "needs_background": "light"
     },
     "output_type": "display_data"
    }
   ],
   "source": [
    "drow_history(history, 'loss', 2)"
   ]
  },
  {
   "cell_type": "code",
   "execution_count": 1161,
   "metadata": {},
   "outputs": [],
   "source": [
    "#### Load the best model\n",
    "NN_model.load_weights('best_model_e200_b32_oAdam.h5')\n",
    "# Compile the network :\n",
    "NN_model.compile(loss='mean_squared_logarithmic_error', optimizer='adam', \n",
    "                 metrics=['mean_absolute_error'])"
   ]
  },
  {
   "cell_type": "code",
   "execution_count": 1162,
   "metadata": {},
   "outputs": [
    {
     "name": "stdout",
     "output_type": "stream",
     "text": [
      "1460/1460 [==============================] - 1s 619us/step\n"
     ]
    }
   ],
   "source": [
    "score=NN_model.evaluate(train, target)"
   ]
  },
  {
   "cell_type": "code",
   "execution_count": 1093,
   "metadata": {},
   "outputs": [
    {
     "data": {
      "text/plain": [
       "[0.043381078704579239, 27991.362264554795]"
      ]
     },
     "execution_count": 1093,
     "metadata": {},
     "output_type": "execute_result"
    }
   ],
   "source": [
    "score"
   ]
  },
  {
   "cell_type": "code",
   "execution_count": 1094,
   "metadata": {},
   "outputs": [
    {
     "name": "stdout",
     "output_type": "stream",
     "text": [
      "A submission file has been made\n"
     ]
    }
   ],
   "source": [
    "def make_submission(prediction, sub_name):\n",
    "    my_submission = pd.DataFrame({'Id':pd.read_csv('boston_test.csv').Id,'SalePrice':prediction})\n",
    "    my_submission.to_csv('{}.csv'.format(sub_name),index=False)\n",
    "    print('A submission file has been made')\n",
    "\n",
    "predictions = NN_model.predict(test)\n",
    "make_submission(predictions[:,0],'submission_oAdam.csv')"
   ]
  },
  {
   "cell_type": "markdown",
   "metadata": {},
   "source": [
    "kaggle result: 0.22215\n",
    "************************************************************"
   ]
  },
  {
   "cell_type": "markdown",
   "metadata": {},
   "source": [
    "## Improvments"
   ]
  },
  {
   "cell_type": "markdown",
   "metadata": {},
   "source": [
    "Split the data, for better model comparison"
   ]
  },
  {
   "cell_type": "code",
   "execution_count": 1164,
   "metadata": {},
   "outputs": [
    {
     "data": {
      "text/html": [
       "<div>\n",
       "<style scoped>\n",
       "    .dataframe tbody tr th:only-of-type {\n",
       "        vertical-align: middle;\n",
       "    }\n",
       "\n",
       "    .dataframe tbody tr th {\n",
       "        vertical-align: top;\n",
       "    }\n",
       "\n",
       "    .dataframe thead th {\n",
       "        text-align: right;\n",
       "    }\n",
       "</style>\n",
       "<table border=\"1\" class=\"dataframe\">\n",
       "  <thead>\n",
       "    <tr style=\"text-align: right;\">\n",
       "      <th></th>\n",
       "      <th>MSSubClass</th>\n",
       "      <th>LotArea</th>\n",
       "      <th>OverallQual</th>\n",
       "      <th>OverallCond</th>\n",
       "      <th>YearBuilt</th>\n",
       "      <th>YearRemodAdd</th>\n",
       "      <th>BsmtFinSF1</th>\n",
       "      <th>BsmtFinSF2</th>\n",
       "      <th>BsmtUnfSF</th>\n",
       "      <th>TotalBsmtSF</th>\n",
       "      <th>...</th>\n",
       "      <th>SaleType_ConLw</th>\n",
       "      <th>SaleType_New</th>\n",
       "      <th>SaleType_Oth</th>\n",
       "      <th>SaleType_WD</th>\n",
       "      <th>SaleCondition_Abnorml</th>\n",
       "      <th>SaleCondition_AdjLand</th>\n",
       "      <th>SaleCondition_Alloca</th>\n",
       "      <th>SaleCondition_Family</th>\n",
       "      <th>SaleCondition_Normal</th>\n",
       "      <th>SaleCondition_Partial</th>\n",
       "    </tr>\n",
       "  </thead>\n",
       "  <tbody>\n",
       "    <tr>\n",
       "      <th>135</th>\n",
       "      <td>20</td>\n",
       "      <td>10400</td>\n",
       "      <td>7</td>\n",
       "      <td>6</td>\n",
       "      <td>1970</td>\n",
       "      <td>1970</td>\n",
       "      <td>0.0</td>\n",
       "      <td>0.0</td>\n",
       "      <td>1304.0</td>\n",
       "      <td>1304.0</td>\n",
       "      <td>...</td>\n",
       "      <td>0</td>\n",
       "      <td>0</td>\n",
       "      <td>0</td>\n",
       "      <td>1</td>\n",
       "      <td>0</td>\n",
       "      <td>0</td>\n",
       "      <td>0</td>\n",
       "      <td>0</td>\n",
       "      <td>1</td>\n",
       "      <td>0</td>\n",
       "    </tr>\n",
       "    <tr>\n",
       "      <th>1452</th>\n",
       "      <td>180</td>\n",
       "      <td>3675</td>\n",
       "      <td>5</td>\n",
       "      <td>5</td>\n",
       "      <td>2005</td>\n",
       "      <td>2005</td>\n",
       "      <td>547.0</td>\n",
       "      <td>0.0</td>\n",
       "      <td>0.0</td>\n",
       "      <td>547.0</td>\n",
       "      <td>...</td>\n",
       "      <td>0</td>\n",
       "      <td>0</td>\n",
       "      <td>0</td>\n",
       "      <td>1</td>\n",
       "      <td>0</td>\n",
       "      <td>0</td>\n",
       "      <td>0</td>\n",
       "      <td>0</td>\n",
       "      <td>1</td>\n",
       "      <td>0</td>\n",
       "    </tr>\n",
       "    <tr>\n",
       "      <th>762</th>\n",
       "      <td>60</td>\n",
       "      <td>8640</td>\n",
       "      <td>7</td>\n",
       "      <td>5</td>\n",
       "      <td>2009</td>\n",
       "      <td>2009</td>\n",
       "      <td>24.0</td>\n",
       "      <td>0.0</td>\n",
       "      <td>732.0</td>\n",
       "      <td>756.0</td>\n",
       "      <td>...</td>\n",
       "      <td>0</td>\n",
       "      <td>0</td>\n",
       "      <td>0</td>\n",
       "      <td>0</td>\n",
       "      <td>0</td>\n",
       "      <td>0</td>\n",
       "      <td>0</td>\n",
       "      <td>0</td>\n",
       "      <td>1</td>\n",
       "      <td>0</td>\n",
       "    </tr>\n",
       "    <tr>\n",
       "      <th>932</th>\n",
       "      <td>20</td>\n",
       "      <td>11670</td>\n",
       "      <td>9</td>\n",
       "      <td>5</td>\n",
       "      <td>2006</td>\n",
       "      <td>2006</td>\n",
       "      <td>0.0</td>\n",
       "      <td>0.0</td>\n",
       "      <td>1905.0</td>\n",
       "      <td>1905.0</td>\n",
       "      <td>...</td>\n",
       "      <td>0</td>\n",
       "      <td>0</td>\n",
       "      <td>0</td>\n",
       "      <td>1</td>\n",
       "      <td>0</td>\n",
       "      <td>0</td>\n",
       "      <td>0</td>\n",
       "      <td>0</td>\n",
       "      <td>1</td>\n",
       "      <td>0</td>\n",
       "    </tr>\n",
       "    <tr>\n",
       "      <th>435</th>\n",
       "      <td>60</td>\n",
       "      <td>10667</td>\n",
       "      <td>7</td>\n",
       "      <td>6</td>\n",
       "      <td>1996</td>\n",
       "      <td>1996</td>\n",
       "      <td>385.0</td>\n",
       "      <td>344.0</td>\n",
       "      <td>70.0</td>\n",
       "      <td>799.0</td>\n",
       "      <td>...</td>\n",
       "      <td>1</td>\n",
       "      <td>0</td>\n",
       "      <td>0</td>\n",
       "      <td>0</td>\n",
       "      <td>0</td>\n",
       "      <td>0</td>\n",
       "      <td>0</td>\n",
       "      <td>0</td>\n",
       "      <td>1</td>\n",
       "      <td>0</td>\n",
       "    </tr>\n",
       "  </tbody>\n",
       "</table>\n",
       "<p>5 rows × 214 columns</p>\n",
       "</div>"
      ],
      "text/plain": [
       "      MSSubClass  LotArea  OverallQual  OverallCond  YearBuilt  YearRemodAdd  \\\n",
       "135           20    10400            7            6       1970          1970   \n",
       "1452         180     3675            5            5       2005          2005   \n",
       "762           60     8640            7            5       2009          2009   \n",
       "932           20    11670            9            5       2006          2006   \n",
       "435           60    10667            7            6       1996          1996   \n",
       "\n",
       "      BsmtFinSF1  BsmtFinSF2  BsmtUnfSF  TotalBsmtSF          ...            \\\n",
       "135          0.0         0.0     1304.0       1304.0          ...             \n",
       "1452       547.0         0.0        0.0        547.0          ...             \n",
       "762         24.0         0.0      732.0        756.0          ...             \n",
       "932          0.0         0.0     1905.0       1905.0          ...             \n",
       "435        385.0       344.0       70.0        799.0          ...             \n",
       "\n",
       "      SaleType_ConLw  SaleType_New  SaleType_Oth  SaleType_WD  \\\n",
       "135                0             0             0            1   \n",
       "1452               0             0             0            1   \n",
       "762                0             0             0            0   \n",
       "932                0             0             0            1   \n",
       "435                1             0             0            0   \n",
       "\n",
       "      SaleCondition_Abnorml  SaleCondition_AdjLand  SaleCondition_Alloca  \\\n",
       "135                       0                      0                     0   \n",
       "1452                      0                      0                     0   \n",
       "762                       0                      0                     0   \n",
       "932                       0                      0                     0   \n",
       "435                       0                      0                     0   \n",
       "\n",
       "      SaleCondition_Family  SaleCondition_Normal  SaleCondition_Partial  \n",
       "135                      0                     1                      0  \n",
       "1452                     0                     1                      0  \n",
       "762                      0                     1                      0  \n",
       "932                      0                     1                      0  \n",
       "435                      0                     1                      0  \n",
       "\n",
       "[5 rows x 214 columns]"
      ]
     },
     "execution_count": 1164,
     "metadata": {},
     "output_type": "execute_result"
    }
   ],
   "source": [
    "X_train, X_test, y_train, y_test = train_test_split(train, target, test_size=.3, \n",
    "                                                    random_state=42)\n",
    "X_train.head()"
   ]
  },
  {
   "cell_type": "code",
   "execution_count": 1165,
   "metadata": {},
   "outputs": [],
   "source": [
    "np.random.seed(1235)\n",
    "NN_model = get_model()\n",
    "\n",
    "# Compile the network :\n",
    "NN_model.compile(loss='mean_squared_logarithmic_error', optimizer='adam', \n",
    "                 metrics=['mean_absolute_error'])"
   ]
  },
  {
   "cell_type": "code",
   "execution_count": 1166,
   "metadata": {
    "scrolled": true
   },
   "outputs": [
    {
     "name": "stdout",
     "output_type": "stream",
     "text": [
      "Train on 1022 samples, validate on 438 samples\n",
      "Epoch 1/200\n",
      "1022/1022 [==============================] - 1s 1ms/step - loss: 20.9972 - mean_absolute_error: 175309.5531 - val_loss: 4.2748 - val_mean_absolute_error: 157200.5808\n",
      "\n",
      "Epoch 00001: val_loss improved from inf to 4.27481, saving model to best_model_e200_b32_oadam_lr.h5\n",
      "Epoch 2/200\n",
      "1022/1022 [==============================] - 0s 221us/step - loss: 1.2773 - mean_absolute_error: 106735.9286 - val_loss: 0.1352 - val_mean_absolute_error: 52763.8402\n",
      "\n",
      "Epoch 00002: val_loss improved from 4.27481 to 0.13517, saving model to best_model_e200_b32_oadam_lr.h5\n",
      "Epoch 3/200\n",
      "1022/1022 [==============================] - 0s 236us/step - loss: 0.1355 - mean_absolute_error: 57102.7374 - val_loss: 0.1305 - val_mean_absolute_error: 52513.2714\n",
      "\n",
      "Epoch 00003: val_loss improved from 0.13517 to 0.13050, saving model to best_model_e200_b32_oadam_lr.h5\n",
      "Epoch 4/200\n",
      "1022/1022 [==============================] - 0s 237us/step - loss: 0.1220 - mean_absolute_error: 52898.2756 - val_loss: 0.1256 - val_mean_absolute_error: 51014.2194\n",
      "\n",
      "Epoch 00004: val_loss improved from 0.13050 to 0.12559, saving model to best_model_e200_b32_oadam_lr.h5\n",
      "Epoch 5/200\n",
      "1022/1022 [==============================] - 0s 240us/step - loss: 0.1175 - mean_absolute_error: 51769.7929 - val_loss: 0.1200 - val_mean_absolute_error: 49893.6696\n",
      "\n",
      "Epoch 00005: val_loss improved from 0.12559 to 0.12003, saving model to best_model_e200_b32_oadam_lr.h5\n",
      "Epoch 6/200\n",
      "1022/1022 [==============================] - 0s 241us/step - loss: 0.1122 - mean_absolute_error: 50410.3320 - val_loss: 0.1139 - val_mean_absolute_error: 48551.5440\n",
      "\n",
      "Epoch 00006: val_loss improved from 0.12003 to 0.11394, saving model to best_model_e200_b32_oadam_lr.h5\n",
      "Epoch 7/200\n",
      "1022/1022 [==============================] - 0s 220us/step - loss: 0.1068 - mean_absolute_error: 48925.2093 - val_loss: 0.1069 - val_mean_absolute_error: 46799.8885\n",
      "\n",
      "Epoch 00007: val_loss improved from 0.11394 to 0.10689, saving model to best_model_e200_b32_oadam_lr.h5\n",
      "Epoch 8/200\n",
      "1022/1022 [==============================] - 0s 248us/step - loss: 0.0999 - mean_absolute_error: 47110.8235 - val_loss: 0.1012 - val_mean_absolute_error: 45195.7859\n",
      "\n",
      "Epoch 00008: val_loss improved from 0.10689 to 0.10120, saving model to best_model_e200_b32_oadam_lr.h5\n",
      "Epoch 9/200\n",
      "1022/1022 [==============================] - 0s 216us/step - loss: 0.0926 - mean_absolute_error: 45053.7523 - val_loss: 0.0889 - val_mean_absolute_error: 41941.2306\n",
      "\n",
      "Epoch 00009: val_loss improved from 0.10120 to 0.08890, saving model to best_model_e200_b32_oadam_lr.h5\n",
      "Epoch 10/200\n",
      "1022/1022 [==============================] - 0s 239us/step - loss: 0.0844 - mean_absolute_error: 42508.2949 - val_loss: 0.0816 - val_mean_absolute_error: 39644.5884\n",
      "\n",
      "Epoch 00010: val_loss improved from 0.08890 to 0.08163, saving model to best_model_e200_b32_oadam_lr.h5\n",
      "Epoch 11/200\n",
      "1022/1022 [==============================] - 0s 221us/step - loss: 0.0774 - mean_absolute_error: 40287.2087 - val_loss: 0.0700 - val_mean_absolute_error: 36981.5494\n",
      "\n",
      "Epoch 00011: val_loss improved from 0.08163 to 0.07004, saving model to best_model_e200_b32_oadam_lr.h5\n",
      "Epoch 12/200\n",
      "1022/1022 [==============================] - 0s 231us/step - loss: 0.0691 - mean_absolute_error: 37851.3865 - val_loss: 0.0628 - val_mean_absolute_error: 34783.9469\n",
      "\n",
      "Epoch 00012: val_loss improved from 0.07004 to 0.06278, saving model to best_model_e200_b32_oadam_lr.h5\n",
      "Epoch 13/200\n",
      "1022/1022 [==============================] - 0s 230us/step - loss: 0.0637 - mean_absolute_error: 36089.4136 - val_loss: 0.0598 - val_mean_absolute_error: 35401.4209\n",
      "\n",
      "Epoch 00013: val_loss improved from 0.06278 to 0.05977, saving model to best_model_e200_b32_oadam_lr.h5\n",
      "Epoch 14/200\n",
      "1022/1022 [==============================] - 0s 229us/step - loss: 0.0599 - mean_absolute_error: 34969.6942 - val_loss: 0.0528 - val_mean_absolute_error: 32165.5465\n",
      "\n",
      "Epoch 00014: val_loss improved from 0.05977 to 0.05280, saving model to best_model_e200_b32_oadam_lr.h5\n",
      "Epoch 15/200\n",
      "1022/1022 [==============================] - 0s 244us/step - loss: 0.0564 - mean_absolute_error: 33488.2767 - val_loss: 0.0498 - val_mean_absolute_error: 30996.2698\n",
      "\n",
      "Epoch 00015: val_loss improved from 0.05280 to 0.04981, saving model to best_model_e200_b32_oadam_lr.h5\n",
      "Epoch 16/200\n",
      "1022/1022 [==============================] - 0s 234us/step - loss: 0.0541 - mean_absolute_error: 32552.6770 - val_loss: 0.0481 - val_mean_absolute_error: 30539.6150\n",
      "\n",
      "Epoch 00016: val_loss improved from 0.04981 to 0.04805, saving model to best_model_e200_b32_oadam_lr.h5\n",
      "Epoch 17/200\n",
      "1022/1022 [==============================] - 0s 244us/step - loss: 0.0531 - mean_absolute_error: 32308.0999 - val_loss: 0.0467 - val_mean_absolute_error: 30047.2958\n",
      "\n",
      "Epoch 00017: val_loss improved from 0.04805 to 0.04671, saving model to best_model_e200_b32_oadam_lr.h5\n",
      "Epoch 18/200\n",
      "1022/1022 [==============================] - 0s 213us/step - loss: 0.0517 - mean_absolute_error: 31511.5706 - val_loss: 0.0468 - val_mean_absolute_error: 29149.7999\n",
      "\n",
      "Epoch 00018: val_loss did not improve from 0.04671\n",
      "Epoch 19/200\n",
      "1022/1022 [==============================] - 0s 207us/step - loss: 0.0518 - mean_absolute_error: 31543.3176 - val_loss: 0.0454 - val_mean_absolute_error: 29392.1012\n",
      "\n",
      "Epoch 00019: val_loss improved from 0.04671 to 0.04536, saving model to best_model_e200_b32_oadam_lr.h5\n",
      "Epoch 20/200\n",
      "1022/1022 [==============================] - 0s 220us/step - loss: 0.0507 - mean_absolute_error: 31002.5988 - val_loss: 0.0474 - val_mean_absolute_error: 31174.8896\n",
      "\n",
      "Epoch 00020: val_loss did not improve from 0.04536\n",
      "Epoch 21/200\n",
      "1022/1022 [==============================] - 0s 235us/step - loss: 0.0505 - mean_absolute_error: 31016.1812 - val_loss: 0.0487 - val_mean_absolute_error: 31679.3613\n",
      "\n",
      "Epoch 00021: val_loss did not improve from 0.04536\n",
      "Epoch 22/200\n",
      "1022/1022 [==============================] - 0s 222us/step - loss: 0.0502 - mean_absolute_error: 31061.3046 - val_loss: 0.0447 - val_mean_absolute_error: 29520.4854\n",
      "\n",
      "Epoch 00022: val_loss improved from 0.04536 to 0.04468, saving model to best_model_e200_b32_oadam_lr.h5\n",
      "Epoch 23/200\n",
      "1022/1022 [==============================] - 0s 211us/step - loss: 0.0492 - mean_absolute_error: 30541.5050 - val_loss: 0.0449 - val_mean_absolute_error: 29587.2768\n",
      "\n",
      "Epoch 00023: val_loss did not improve from 0.04468\n",
      "Epoch 24/200\n",
      "1022/1022 [==============================] - 0s 209us/step - loss: 0.0486 - mean_absolute_error: 30232.3754 - val_loss: 0.0446 - val_mean_absolute_error: 28747.6216\n",
      "\n",
      "Epoch 00024: val_loss improved from 0.04468 to 0.04459, saving model to best_model_e200_b32_oadam_lr.h5\n",
      "Epoch 25/200\n",
      "1022/1022 [==============================] - 0s 217us/step - loss: 0.0485 - mean_absolute_error: 30072.2457 - val_loss: 0.0451 - val_mean_absolute_error: 29752.3804\n",
      "\n",
      "Epoch 00025: val_loss did not improve from 0.04459\n",
      "Epoch 26/200\n",
      "1022/1022 [==============================] - 0s 213us/step - loss: 0.0489 - mean_absolute_error: 30245.8840 - val_loss: 0.0445 - val_mean_absolute_error: 28483.4570\n",
      "\n",
      "Epoch 00026: val_loss improved from 0.04459 to 0.04453, saving model to best_model_e200_b32_oadam_lr.h5\n",
      "Epoch 27/200\n",
      "1022/1022 [==============================] - 0s 217us/step - loss: 0.0499 - mean_absolute_error: 31037.1033 - val_loss: 0.0448 - val_mean_absolute_error: 29669.7122\n",
      "\n",
      "Epoch 00027: val_loss did not improve from 0.04453\n",
      "Epoch 28/200\n",
      "1022/1022 [==============================] - 0s 217us/step - loss: 0.0480 - mean_absolute_error: 29951.8063 - val_loss: 0.0443 - val_mean_absolute_error: 28992.4049\n",
      "\n",
      "Epoch 00028: val_loss improved from 0.04453 to 0.04434, saving model to best_model_e200_b32_oadam_lr.h5\n",
      "Epoch 29/200\n",
      "1022/1022 [==============================] - 0s 217us/step - loss: 0.0479 - mean_absolute_error: 29813.8235 - val_loss: 0.0451 - val_mean_absolute_error: 29537.9610\n",
      "\n",
      "Epoch 00029: val_loss did not improve from 0.04434\n",
      "Epoch 30/200\n",
      "1022/1022 [==============================] - 0s 222us/step - loss: 0.0476 - mean_absolute_error: 29840.7740 - val_loss: 0.0444 - val_mean_absolute_error: 28376.4371\n",
      "\n",
      "Epoch 00030: val_loss did not improve from 0.04434\n",
      "Epoch 31/200\n"
     ]
    },
    {
     "name": "stdout",
     "output_type": "stream",
     "text": [
      "1022/1022 [==============================] - 0s 210us/step - loss: 0.0484 - mean_absolute_error: 30042.6423 - val_loss: 0.0441 - val_mean_absolute_error: 28674.8810\n",
      "\n",
      "Epoch 00031: val_loss improved from 0.04434 to 0.04414, saving model to best_model_e200_b32_oadam_lr.h5\n",
      "Epoch 32/200\n",
      "1022/1022 [==============================] - 0s 213us/step - loss: 0.0476 - mean_absolute_error: 29764.4116 - val_loss: 0.0441 - val_mean_absolute_error: 29048.1475\n",
      "\n",
      "Epoch 00032: val_loss improved from 0.04414 to 0.04407, saving model to best_model_e200_b32_oadam_lr.h5\n",
      "Epoch 33/200\n",
      "1022/1022 [==============================] - 0s 221us/step - loss: 0.0474 - mean_absolute_error: 29668.4182 - val_loss: 0.0442 - val_mean_absolute_error: 28415.7895\n",
      "\n",
      "Epoch 00033: val_loss did not improve from 0.04407\n",
      "Epoch 34/200\n",
      "1022/1022 [==============================] - 0s 182us/step - loss: 0.0474 - mean_absolute_error: 29661.2116 - val_loss: 0.0448 - val_mean_absolute_error: 29879.8604\n",
      "\n",
      "Epoch 00034: val_loss did not improve from 0.04407\n",
      "Epoch 35/200\n",
      "1022/1022 [==============================] - 0s 231us/step - loss: 0.0475 - mean_absolute_error: 29658.2951 - val_loss: 0.0441 - val_mean_absolute_error: 29063.2112\n",
      "\n",
      "Epoch 00035: val_loss did not improve from 0.04407\n",
      "Epoch 36/200\n",
      "1022/1022 [==============================] - 0s 198us/step - loss: 0.0469 - mean_absolute_error: 29621.2503 - val_loss: 0.0441 - val_mean_absolute_error: 28025.2080\n",
      "\n",
      "Epoch 00036: val_loss did not improve from 0.04407\n",
      "\n",
      "Epoch 00036: ReduceLROnPlateau reducing learning rate to 0.00020000000949949026.\n",
      "Epoch 37/200\n",
      "1022/1022 [==============================] - 0s 207us/step - loss: 0.0466 - mean_absolute_error: 29213.7284 - val_loss: 0.0440 - val_mean_absolute_error: 29156.1257\n",
      "\n",
      "Epoch 00037: val_loss improved from 0.04407 to 0.04400, saving model to best_model_e200_b32_oadam_lr.h5\n",
      "Epoch 38/200\n",
      "1022/1022 [==============================] - 0s 201us/step - loss: 0.0464 - mean_absolute_error: 29296.6317 - val_loss: 0.0436 - val_mean_absolute_error: 28796.5144\n",
      "\n",
      "Epoch 00038: val_loss improved from 0.04400 to 0.04363, saving model to best_model_e200_b32_oadam_lr.h5\n",
      "Epoch 39/200\n",
      "1022/1022 [==============================] - 0s 207us/step - loss: 0.0465 - mean_absolute_error: 29332.1070 - val_loss: 0.0435 - val_mean_absolute_error: 28693.7358\n",
      "\n",
      "Epoch 00039: val_loss improved from 0.04363 to 0.04354, saving model to best_model_e200_b32_oadam_lr.h5\n",
      "Epoch 40/200\n",
      "1022/1022 [==============================] - 0s 222us/step - loss: 0.0462 - mean_absolute_error: 29239.4726 - val_loss: 0.0434 - val_mean_absolute_error: 28617.5380\n",
      "\n",
      "Epoch 00040: val_loss improved from 0.04354 to 0.04345, saving model to best_model_e200_b32_oadam_lr.h5\n",
      "Epoch 41/200\n",
      "1022/1022 [==============================] - 0s 223us/step - loss: 0.0465 - mean_absolute_error: 29264.8502 - val_loss: 0.0437 - val_mean_absolute_error: 28940.9658\n",
      "\n",
      "Epoch 00041: val_loss did not improve from 0.04345\n",
      "Epoch 42/200\n",
      "1022/1022 [==============================] - 0s 207us/step - loss: 0.0462 - mean_absolute_error: 29288.1158 - val_loss: 0.0433 - val_mean_absolute_error: 28466.4582\n",
      "\n",
      "Epoch 00042: val_loss improved from 0.04345 to 0.04334, saving model to best_model_e200_b32_oadam_lr.h5\n",
      "Epoch 43/200\n",
      "1022/1022 [==============================] - 0s 218us/step - loss: 0.0463 - mean_absolute_error: 29259.7569 - val_loss: 0.0434 - val_mean_absolute_error: 28612.6231\n",
      "\n",
      "Epoch 00043: val_loss did not improve from 0.04334\n",
      "Epoch 44/200\n",
      "1022/1022 [==============================] - 0s 208us/step - loss: 0.0461 - mean_absolute_error: 29088.4053 - val_loss: 0.0433 - val_mean_absolute_error: 28532.8079\n",
      "\n",
      "Epoch 00044: val_loss improved from 0.04334 to 0.04333, saving model to best_model_e200_b32_oadam_lr.h5\n",
      "Epoch 45/200\n",
      "1022/1022 [==============================] - 0s 212us/step - loss: 0.0461 - mean_absolute_error: 29290.9329 - val_loss: 0.0432 - val_mean_absolute_error: 28427.0778\n",
      "\n",
      "Epoch 00045: val_loss improved from 0.04333 to 0.04323, saving model to best_model_e200_b32_oadam_lr.h5\n",
      "Epoch 46/200\n",
      "1022/1022 [==============================] - 0s 212us/step - loss: 0.0461 - mean_absolute_error: 29000.8538 - val_loss: 0.0436 - val_mean_absolute_error: 28907.0901\n",
      "\n",
      "Epoch 00046: val_loss did not improve from 0.04323\n",
      "Epoch 47/200\n",
      "1022/1022 [==============================] - 0s 214us/step - loss: 0.0462 - mean_absolute_error: 29306.0100 - val_loss: 0.0434 - val_mean_absolute_error: 28687.9401\n",
      "\n",
      "Epoch 00047: val_loss did not improve from 0.04323\n",
      "Epoch 48/200\n",
      "1022/1022 [==============================] - 0s 205us/step - loss: 0.0461 - mean_absolute_error: 29147.7585 - val_loss: 0.0432 - val_mean_absolute_error: 28496.4328\n",
      "\n",
      "Epoch 00048: val_loss did not improve from 0.04323\n",
      "Epoch 49/200\n",
      "1022/1022 [==============================] - 0s 207us/step - loss: 0.0461 - mean_absolute_error: 29147.6158 - val_loss: 0.0434 - val_mean_absolute_error: 28761.9844\n",
      "\n",
      "Epoch 00049: val_loss did not improve from 0.04323\n",
      "Epoch 50/200\n",
      "1022/1022 [==============================] - 0s 210us/step - loss: 0.0460 - mean_absolute_error: 29277.7955 - val_loss: 0.0431 - val_mean_absolute_error: 28077.2708\n",
      "\n",
      "Epoch 00050: val_loss improved from 0.04323 to 0.04312, saving model to best_model_e200_b32_oadam_lr.h5\n",
      "Epoch 51/200\n",
      "1022/1022 [==============================] - 0s 218us/step - loss: 0.0467 - mean_absolute_error: 29296.7431 - val_loss: 0.0433 - val_mean_absolute_error: 28687.1247\n",
      "\n",
      "Epoch 00051: val_loss did not improve from 0.04312\n",
      "Epoch 52/200\n",
      "1022/1022 [==============================] - 0s 206us/step - loss: 0.0462 - mean_absolute_error: 29077.0578 - val_loss: 0.0431 - val_mean_absolute_error: 28143.8522\n",
      "\n",
      "Epoch 00052: val_loss improved from 0.04312 to 0.04305, saving model to best_model_e200_b32_oadam_lr.h5\n",
      "Epoch 53/200\n",
      "1022/1022 [==============================] - 0s 211us/step - loss: 0.0460 - mean_absolute_error: 29000.4384 - val_loss: 0.0431 - val_mean_absolute_error: 28265.0171\n",
      "\n",
      "Epoch 00053: val_loss did not improve from 0.04305\n",
      "Epoch 54/200\n",
      "1022/1022 [==============================] - 0s 197us/step - loss: 0.0459 - mean_absolute_error: 29112.9416 - val_loss: 0.0432 - val_mean_absolute_error: 28572.4885\n",
      "\n",
      "Epoch 00054: val_loss did not improve from 0.04305\n",
      "Epoch 55/200\n",
      "1022/1022 [==============================] - 0s 211us/step - loss: 0.0459 - mean_absolute_error: 29016.2763 - val_loss: 0.0432 - val_mean_absolute_error: 28659.5958\n",
      "\n",
      "Epoch 00055: val_loss did not improve from 0.04305\n",
      "\n",
      "Epoch 00055: ReduceLROnPlateau reducing learning rate to 4.0000001899898055e-05.\n",
      "Epoch 56/200\n",
      "1022/1022 [==============================] - 0s 201us/step - loss: 0.0458 - mean_absolute_error: 29084.3165 - val_loss: 0.0432 - val_mean_absolute_error: 28581.7031\n",
      "\n",
      "Epoch 00056: val_loss did not improve from 0.04305\n",
      "Epoch 57/200\n",
      "1022/1022 [==============================] - 0s 207us/step - loss: 0.0457 - mean_absolute_error: 29024.7696 - val_loss: 0.0431 - val_mean_absolute_error: 28508.5286\n",
      "\n",
      "Epoch 00057: val_loss did not improve from 0.04305\n",
      "Epoch 58/200\n",
      "1022/1022 [==============================] - 0s 216us/step - loss: 0.0457 - mean_absolute_error: 29006.8567 - val_loss: 0.0431 - val_mean_absolute_error: 28464.6159\n",
      "\n",
      "Epoch 00058: val_loss did not improve from 0.04305\n",
      "Epoch 59/200\n",
      "1022/1022 [==============================] - 0s 208us/step - loss: 0.0457 - mean_absolute_error: 28942.5721 - val_loss: 0.0431 - val_mean_absolute_error: 28477.3701\n",
      "\n",
      "Epoch 00059: val_loss did not improve from 0.04305\n",
      "Epoch 60/200\n",
      "1022/1022 [==============================] - 0s 196us/step - loss: 0.0457 - mean_absolute_error: 28978.8574 - val_loss: 0.0431 - val_mean_absolute_error: 28462.5109\n",
      "\n",
      "Epoch 00060: val_loss did not improve from 0.04305\n",
      "\n",
      "Epoch 00060: ReduceLROnPlateau reducing learning rate to 1e-05.\n",
      "Epoch 61/200\n",
      "1022/1022 [==============================] - 0s 218us/step - loss: 0.0457 - mean_absolute_error: 28948.2553 - val_loss: 0.0431 - val_mean_absolute_error: 28476.3092\n",
      "\n",
      "Epoch 00061: val_loss did not improve from 0.04305\n",
      "Epoch 62/200\n",
      "1022/1022 [==============================] - 0s 210us/step - loss: 0.0457 - mean_absolute_error: 28968.1726 - val_loss: 0.0431 - val_mean_absolute_error: 28460.0548\n",
      "\n",
      "Epoch 00062: val_loss did not improve from 0.04305\n",
      "Epoch 00062: early stopping\n"
     ]
    }
   ],
   "source": [
    "from keras.callbacks import EarlyStopping, ModelCheckpoint, ReduceLROnPlateau\n",
    "np.random.seed(1235)\n",
    "epochs = 200\n",
    "batch_size = 32\n",
    "\n",
    "reduce_lr = ReduceLROnPlateau(monitor='val_loss', factor=0.2,\n",
    "                              patience=5, min_lr=0.00001, verbose=1)\n",
    "\n",
    "checkpoint = ModelCheckpoint('best_model_e200_b32_oadam_lr.h5', verbose=1, \n",
    "                             monitor='val_loss',\n",
    "                             save_best_only=True, mode='auto') \n",
    "\n",
    "early = EarlyStopping(monitor='val_loss',\n",
    "                              min_delta=0,\n",
    "                              patience=10,\n",
    "                              verbose=1, mode='auto')\n",
    "\n",
    "history = NN_model.fit(X_train, y_train,\n",
    "                    batch_size=batch_size,\n",
    "                    epochs=epochs,\n",
    "                    verbose=1,callbacks=[checkpoint, early, reduce_lr],\n",
    "                    validation_data=(X_test, y_test))"
   ]
  },
  {
   "cell_type": "code",
   "execution_count": 1167,
   "metadata": {},
   "outputs": [
    {
     "data": {
      "image/png": "[encoded data removed]",
      "text/plain": [
       "<Figure size 432x288 with 1 Axes>"
      ]
     },
     "metadata": {
      "needs_background": "light"
     },
     "output_type": "display_data"
    }
   ],
   "source": [
    "drow_history(history, 'loss', 2)"
   ]
  },
  {
   "cell_type": "code",
   "execution_count": 1168,
   "metadata": {},
   "outputs": [],
   "source": [
    "#### Load the best model\n",
    "NN_model.load_weights('best_model_e200_b32_oadam_lr.h5')\n",
    "# Compile the network :\n",
    "NN_model.compile(loss='mean_squared_logarithmic_error', optimizer='adam', \n",
    "                 metrics=['mean_absolute_error'])"
   ]
  },
  {
   "cell_type": "code",
   "execution_count": 1169,
   "metadata": {},
   "outputs": [
    {
     "name": "stdout",
     "output_type": "stream",
     "text": [
      "438/438 [==============================] - 1s 2ms/step\n"
     ]
    },
    {
     "data": {
      "text/plain": [
       "[0.043052575546720803, 28143.852151113013]"
      ]
     },
     "execution_count": 1169,
     "metadata": {},
     "output_type": "execute_result"
    }
   ],
   "source": [
    "score=NN_model.evaluate(X_test, y_test)\n",
    "score"
   ]
  },
  {
   "cell_type": "code",
   "execution_count": 1170,
   "metadata": {},
   "outputs": [
    {
     "name": "stdout",
     "output_type": "stream",
     "text": [
      "1460/1460 [==============================] - 0s 74us/step\n"
     ]
    },
    {
     "data": {
      "text/plain": [
       "[0.045088291106975244, 28629.388907320204]"
      ]
     },
     "execution_count": 1170,
     "metadata": {},
     "output_type": "execute_result"
    }
   ],
   "source": [
    "score=NN_model.evaluate(train, target)\n",
    "score"
   ]
  },
  {
   "cell_type": "code",
   "execution_count": 1122,
   "metadata": {},
   "outputs": [
    {
     "name": "stdout",
     "output_type": "stream",
     "text": [
      "A submission file has been made\n"
     ]
    }
   ],
   "source": [
    "predictions = NN_model.predict(test)\n",
    "make_submission(predictions[:,0],'submission_oadam_lr')"
   ]
  },
  {
   "cell_type": "markdown",
   "metadata": {},
   "source": [
    "* kaggle result  0.22401\n",
    "**********************************************************************************"
   ]
  },
  {
   "cell_type": "code",
   "execution_count": 1216,
   "metadata": {},
   "outputs": [
    {
     "name": "stdout",
     "output_type": "stream",
     "text": [
      "_________________________________________________________________\n",
      "Layer (type)                 Output Shape              Param #   \n",
      "=================================================================\n",
      "dense_167 (Dense)            (None, 128)               27520     \n",
      "_________________________________________________________________\n",
      "dense_168 (Dense)            (None, 512)               66048     \n",
      "_________________________________________________________________\n",
      "dense_169 (Dense)            (None, 512)               262656    \n",
      "_________________________________________________________________\n",
      "dense_170 (Dense)            (None, 512)               262656    \n",
      "_________________________________________________________________\n",
      "dense_171 (Dense)            (None, 1)                 513       \n",
      "=================================================================\n",
      "Total params: 619,393\n",
      "Trainable params: 619,393\n",
      "Non-trainable params: 0\n",
      "_________________________________________________________________\n"
     ]
    }
   ],
   "source": [
    "np.random.seed(1235)\n",
    "    \n",
    "NN_model = Sequential()\n",
    "\n",
    "# The Input Layer :\n",
    "NN_model.add(Dense(128, kernel_initializer='normal',\n",
    "                       input_dim = train.shape[1], activation='relu'))\n",
    "\n",
    "# The Hidden Layers :\n",
    "NN_model.add(Dense(512, kernel_initializer='normal',activation='relu'))\n",
    "NN_model.add(Dense(512, kernel_initializer='normal',activation='relu'))\n",
    "NN_model.add(Dense(512, kernel_initializer='normal',activation='relu'))\n",
    "\n",
    "# The Output Layer :\n",
    "NN_model.add(Dense(1, kernel_initializer='normal',activation='linear'))\n",
    "    \n",
    "\n",
    "# mean_squared_logarithmic_error\n",
    "# mean_absolute_error\n",
    "# mean_squared_error\n",
    "\n",
    "\n",
    "# Compile the network :\n",
    "NN_model.compile(loss='mean_squared_logarithmic_error', optimizer='rmsprop', \n",
    "                 metrics=['mean_absolute_error'])\n",
    "NN_model.summary()"
   ]
  },
  {
   "cell_type": "code",
   "execution_count": 1217,
   "metadata": {},
   "outputs": [
    {
     "name": "stdout",
     "output_type": "stream",
     "text": [
      "Train on 1022 samples, validate on 438 samples\n",
      "Epoch 1/200\n",
      "1022/1022 [==============================] - 2s 2ms/step - loss: 7.6672 - mean_absolute_error: 110256.8168 - val_loss: 0.1582 - val_mean_absolute_error: 57675.4518\n",
      "\n",
      "Epoch 00001: val_loss improved from inf to 0.15821, saving model to best_model_e200_b32_oadam_lr_norm.h5\n",
      "Epoch 2/200\n",
      "1022/1022 [==============================] - 1s 639us/step - loss: 0.1379 - mean_absolute_error: 56903.3865 - val_loss: 0.1253 - val_mean_absolute_error: 50713.5728\n",
      "\n",
      "Epoch 00002: val_loss improved from 0.15821 to 0.12531, saving model to best_model_e200_b32_oadam_lr_norm.h5\n",
      "Epoch 3/200\n",
      "1022/1022 [==============================] - 1s 614us/step - loss: 0.1020 - mean_absolute_error: 47661.9225 - val_loss: 0.0811 - val_mean_absolute_error: 39787.1975\n",
      "\n",
      "Epoch 00003: val_loss improved from 0.12531 to 0.08113, saving model to best_model_e200_b32_oadam_lr_norm.h5\n",
      "Epoch 4/200\n",
      "1022/1022 [==============================] - 1s 625us/step - loss: 0.0891 - mean_absolute_error: 43077.5419 - val_loss: 0.1066 - val_mean_absolute_error: 48679.3961\n",
      "\n",
      "Epoch 00004: val_loss did not improve from 0.08113\n",
      "Epoch 5/200\n",
      "1022/1022 [==============================] - 1s 650us/step - loss: 0.0778 - mean_absolute_error: 40463.6100 - val_loss: 0.0605 - val_mean_absolute_error: 35724.9231\n",
      "\n",
      "Epoch 00005: val_loss improved from 0.08113 to 0.06055, saving model to best_model_e200_b32_oadam_lr_norm.h5\n",
      "Epoch 6/200\n",
      "1022/1022 [==============================] - 1s 631us/step - loss: 0.0743 - mean_absolute_error: 39398.5978 - val_loss: 0.0555 - val_mean_absolute_error: 31355.5453\n",
      "\n",
      "Epoch 00006: val_loss improved from 0.06055 to 0.05547, saving model to best_model_e200_b32_oadam_lr_norm.h5\n",
      "Epoch 7/200\n",
      "1022/1022 [==============================] - 1s 646us/step - loss: 0.0716 - mean_absolute_error: 38272.0834 - val_loss: 0.0515 - val_mean_absolute_error: 32315.3884\n",
      "\n",
      "Epoch 00007: val_loss improved from 0.05547 to 0.05151, saving model to best_model_e200_b32_oadam_lr_norm.h5\n",
      "Epoch 8/200\n",
      "1022/1022 [==============================] - 1s 652us/step - loss: 0.0675 - mean_absolute_error: 35918.0813 - val_loss: 0.0699 - val_mean_absolute_error: 35508.4476\n",
      "\n",
      "Epoch 00008: val_loss did not improve from 0.05151\n",
      "Epoch 9/200\n",
      "1022/1022 [==============================] - 1s 638us/step - loss: 0.0638 - mean_absolute_error: 36068.3197 - val_loss: 0.0472 - val_mean_absolute_error: 29274.6055\n",
      "\n",
      "Epoch 00009: val_loss improved from 0.05151 to 0.04715, saving model to best_model_e200_b32_oadam_lr_norm.h5\n",
      "Epoch 10/200\n",
      "1022/1022 [==============================] - 1s 598us/step - loss: 0.0640 - mean_absolute_error: 35819.3012 - val_loss: 0.0456 - val_mean_absolute_error: 29449.4557\n",
      "\n",
      "Epoch 00010: val_loss improved from 0.04715 to 0.04560, saving model to best_model_e200_b32_oadam_lr_norm.h5\n",
      "Epoch 11/200\n",
      "1022/1022 [==============================] - 1s 647us/step - loss: 0.0605 - mean_absolute_error: 34233.1631 - val_loss: 0.0653 - val_mean_absolute_error: 38371.3051\n",
      "\n",
      "Epoch 00011: val_loss did not improve from 0.04560\n",
      "Epoch 12/200\n",
      "1022/1022 [==============================] - 1s 627us/step - loss: 0.0632 - mean_absolute_error: 35119.1184 - val_loss: 0.0749 - val_mean_absolute_error: 37511.4698\n",
      "\n",
      "Epoch 00012: val_loss did not improve from 0.04560\n",
      "Epoch 13/200\n",
      "1022/1022 [==============================] - 1s 637us/step - loss: 0.0628 - mean_absolute_error: 35101.1940 - val_loss: 0.0465 - val_mean_absolute_error: 29030.3174\n",
      "\n",
      "Epoch 00013: val_loss did not improve from 0.04560\n",
      "Epoch 14/200\n",
      "1022/1022 [==============================] - 1s 619us/step - loss: 0.0613 - mean_absolute_error: 34412.6199 - val_loss: 0.0575 - val_mean_absolute_error: 31871.4805\n",
      "\n",
      "Epoch 00014: val_loss did not improve from 0.04560\n",
      "Epoch 15/200\n",
      "1022/1022 [==============================] - 1s 647us/step - loss: 0.0599 - mean_absolute_error: 33994.6278 - val_loss: 0.0457 - val_mean_absolute_error: 28616.8853\n",
      "\n",
      "Epoch 00015: val_loss did not improve from 0.04560\n",
      "\n",
      "Epoch 00015: ReduceLROnPlateau reducing learning rate to 0.0005000000237487257.\n",
      "Epoch 16/200\n",
      "1022/1022 [==============================] - 1s 654us/step - loss: 0.0505 - mean_absolute_error: 30815.6263 - val_loss: 0.0570 - val_mean_absolute_error: 35230.8479\n",
      "\n",
      "Epoch 00016: val_loss did not improve from 0.04560\n",
      "Epoch 17/200\n",
      "1022/1022 [==============================] - 1s 607us/step - loss: 0.0507 - mean_absolute_error: 30860.9770 - val_loss: 0.0433 - val_mean_absolute_error: 29357.6795\n",
      "\n",
      "Epoch 00017: val_loss improved from 0.04560 to 0.04332, saving model to best_model_e200_b32_oadam_lr_norm.h5\n",
      "Epoch 18/200\n",
      "1022/1022 [==============================] - 1s 627us/step - loss: 0.0509 - mean_absolute_error: 31007.7137 - val_loss: 0.0435 - val_mean_absolute_error: 29549.0784\n",
      "\n",
      "Epoch 00018: val_loss did not improve from 0.04332\n",
      "Epoch 19/200\n",
      "1022/1022 [==============================] - 1s 587us/step - loss: 0.0498 - mean_absolute_error: 30825.1767 - val_loss: 0.0549 - val_mean_absolute_error: 30754.9229\n",
      "\n",
      "Epoch 00019: val_loss did not improve from 0.04332\n",
      "Epoch 20/200\n",
      "1022/1022 [==============================] - 1s 610us/step - loss: 0.0508 - mean_absolute_error: 30928.0111 - val_loss: 0.0445 - val_mean_absolute_error: 27948.6954\n",
      "\n",
      "Epoch 00020: val_loss did not improve from 0.04332\n",
      "Epoch 21/200\n",
      "1022/1022 [==============================] - 1s 613us/step - loss: 0.0510 - mean_absolute_error: 30919.6983 - val_loss: 0.0452 - val_mean_absolute_error: 28129.3886\n",
      "\n",
      "Epoch 00021: val_loss did not improve from 0.04332\n",
      "Epoch 22/200\n",
      "1022/1022 [==============================] - 1s 575us/step - loss: 0.0491 - mean_absolute_error: 30177.1562 - val_loss: 0.0568 - val_mean_absolute_error: 35384.3907\n",
      "\n",
      "Epoch 00022: val_loss did not improve from 0.04332\n",
      "\n",
      "Epoch 00022: ReduceLROnPlateau reducing learning rate to 0.0002500000118743628.\n",
      "Epoch 23/200\n",
      "1022/1022 [==============================] - 1s 680us/step - loss: 0.0478 - mean_absolute_error: 29659.7697 - val_loss: 0.0431 - val_mean_absolute_error: 27436.6797\n",
      "\n",
      "Epoch 00023: val_loss improved from 0.04332 to 0.04310, saving model to best_model_e200_b32_oadam_lr_norm.h5\n",
      "Epoch 24/200\n",
      "1022/1022 [==============================] - 1s 633us/step - loss: 0.0463 - mean_absolute_error: 29027.7516 - val_loss: 0.0414 - val_mean_absolute_error: 27221.9445\n",
      "\n",
      "Epoch 00024: val_loss improved from 0.04310 to 0.04139, saving model to best_model_e200_b32_oadam_lr_norm.h5\n",
      "Epoch 25/200\n",
      "1022/1022 [==============================] - 1s 610us/step - loss: 0.0464 - mean_absolute_error: 29268.8099 - val_loss: 0.0413 - val_mean_absolute_error: 27129.5275\n",
      "\n",
      "Epoch 00025: val_loss improved from 0.04139 to 0.04126, saving model to best_model_e200_b32_oadam_lr_norm.h5\n",
      "Epoch 26/200\n",
      "1022/1022 [==============================] - 1s 646us/step - loss: 0.0459 - mean_absolute_error: 28840.3177 - val_loss: 0.0436 - val_mean_absolute_error: 30089.0935\n",
      "\n",
      "Epoch 00026: val_loss did not improve from 0.04126\n",
      "Epoch 27/200\n",
      "1022/1022 [==============================] - 1s 617us/step - loss: 0.0464 - mean_absolute_error: 29172.1701 - val_loss: 0.0403 - val_mean_absolute_error: 27339.9402\n",
      "\n",
      "Epoch 00027: val_loss improved from 0.04126 to 0.04032, saving model to best_model_e200_b32_oadam_lr_norm.h5\n",
      "Epoch 28/200\n",
      "1022/1022 [==============================] - 1s 603us/step - loss: 0.0459 - mean_absolute_error: 29121.9754 - val_loss: 0.0421 - val_mean_absolute_error: 27003.4222\n",
      "\n",
      "Epoch 00028: val_loss did not improve from 0.04032\n",
      "Epoch 29/200\n",
      "1022/1022 [==============================] - 1s 605us/step - loss: 0.0454 - mean_absolute_error: 28604.6484 - val_loss: 0.0433 - val_mean_absolute_error: 30013.9049\n",
      "\n",
      "Epoch 00029: val_loss did not improve from 0.04032\n",
      "Epoch 30/200\n",
      "1022/1022 [==============================] - 1s 598us/step - loss: 0.0461 - mean_absolute_error: 29087.6263 - val_loss: 0.0399 - val_mean_absolute_error: 27379.1694\n",
      "\n",
      "Epoch 00030: val_loss improved from 0.04032 to 0.03990, saving model to best_model_e200_b32_oadam_lr_norm.h5\n",
      "Epoch 31/200\n",
      "1022/1022 [==============================] - 1s 614us/step - loss: 0.0456 - mean_absolute_error: 28621.7600 - val_loss: 0.0412 - val_mean_absolute_error: 28726.2312\n",
      "\n",
      "Epoch 00031: val_loss did not improve from 0.03990\n",
      "Epoch 32/200\n"
     ]
    },
    {
     "name": "stdout",
     "output_type": "stream",
     "text": [
      "1022/1022 [==============================] - 1s 621us/step - loss: 0.0461 - mean_absolute_error: 28989.0661 - val_loss: 0.0397 - val_mean_absolute_error: 26933.2527\n",
      "\n",
      "Epoch 00032: val_loss improved from 0.03990 to 0.03969, saving model to best_model_e200_b32_oadam_lr_norm.h5\n",
      "Epoch 33/200\n",
      "1022/1022 [==============================] - 1s 593us/step - loss: 0.0448 - mean_absolute_error: 28476.3680 - val_loss: 0.0451 - val_mean_absolute_error: 30580.7596\n",
      "\n",
      "Epoch 00033: val_loss did not improve from 0.03969\n",
      "Epoch 34/200\n",
      "1022/1022 [==============================] - 1s 583us/step - loss: 0.0455 - mean_absolute_error: 28774.3851 - val_loss: 0.0453 - val_mean_absolute_error: 30901.6008\n",
      "\n",
      "Epoch 00034: val_loss did not improve from 0.03969\n",
      "Epoch 35/200\n",
      "1022/1022 [==============================] - 1s 617us/step - loss: 0.0446 - mean_absolute_error: 28608.8943 - val_loss: 0.0447 - val_mean_absolute_error: 30656.8494\n",
      "\n",
      "Epoch 00035: val_loss did not improve from 0.03969\n",
      "Epoch 36/200\n",
      "1022/1022 [==============================] - 1s 601us/step - loss: 0.0447 - mean_absolute_error: 28522.9421 - val_loss: 0.0412 - val_mean_absolute_error: 28474.4968\n",
      "\n",
      "Epoch 00036: val_loss did not improve from 0.03969\n",
      "Epoch 37/200\n",
      "1022/1022 [==============================] - 1s 606us/step - loss: 0.0446 - mean_absolute_error: 28353.9500 - val_loss: 0.0395 - val_mean_absolute_error: 26403.2517\n",
      "\n",
      "Epoch 00037: val_loss improved from 0.03969 to 0.03950, saving model to best_model_e200_b32_oadam_lr_norm.h5\n",
      "Epoch 38/200\n",
      "1022/1022 [==============================] - 1s 606us/step - loss: 0.0450 - mean_absolute_error: 28419.1594 - val_loss: 0.0398 - val_mean_absolute_error: 26252.2472\n",
      "\n",
      "Epoch 00038: val_loss did not improve from 0.03950\n",
      "Epoch 39/200\n",
      "1022/1022 [==============================] - 1s 603us/step - loss: 0.0448 - mean_absolute_error: 28343.1746 - val_loss: 0.0392 - val_mean_absolute_error: 27218.3361\n",
      "\n",
      "Epoch 00039: val_loss improved from 0.03950 to 0.03919, saving model to best_model_e200_b32_oadam_lr_norm.h5\n",
      "Epoch 40/200\n",
      "1022/1022 [==============================] - 1s 720us/step - loss: 0.0440 - mean_absolute_error: 27955.6448 - val_loss: 0.0401 - val_mean_absolute_error: 27856.7261\n",
      "\n",
      "Epoch 00040: val_loss did not improve from 0.03919\n",
      "Epoch 41/200\n",
      "1022/1022 [==============================] - 1s 706us/step - loss: 0.0436 - mean_absolute_error: 27878.2866 - val_loss: 0.0389 - val_mean_absolute_error: 26349.4331\n",
      "\n",
      "Epoch 00041: val_loss improved from 0.03919 to 0.03891, saving model to best_model_e200_b32_oadam_lr_norm.h5\n",
      "Epoch 42/200\n",
      "1022/1022 [==============================] - 1s 705us/step - loss: 0.0442 - mean_absolute_error: 28094.7896 - val_loss: 0.0440 - val_mean_absolute_error: 26912.4049\n",
      "\n",
      "Epoch 00042: val_loss did not improve from 0.03891\n",
      "Epoch 43/200\n",
      "1022/1022 [==============================] - 1s 668us/step - loss: 0.0435 - mean_absolute_error: 28082.2154 - val_loss: 0.0401 - val_mean_absolute_error: 26020.1638\n",
      "\n",
      "Epoch 00043: val_loss did not improve from 0.03891\n",
      "Epoch 44/200\n",
      "1022/1022 [==============================] - 1s 595us/step - loss: 0.0445 - mean_absolute_error: 28280.5863 - val_loss: 0.0404 - val_mean_absolute_error: 28231.9019\n",
      "\n",
      "Epoch 00044: val_loss did not improve from 0.03891\n",
      "Epoch 45/200\n",
      "1022/1022 [==============================] - 1s 626us/step - loss: 0.0440 - mean_absolute_error: 27988.7722 - val_loss: 0.0398 - val_mean_absolute_error: 25909.7903\n",
      "\n",
      "Epoch 00045: val_loss did not improve from 0.03891\n",
      "Epoch 46/200\n",
      "1022/1022 [==============================] - 1s 641us/step - loss: 0.0430 - mean_absolute_error: 27631.9618 - val_loss: 0.0393 - val_mean_absolute_error: 27227.3711\n",
      "\n",
      "Epoch 00046: val_loss did not improve from 0.03891\n",
      "\n",
      "Epoch 00046: ReduceLROnPlateau reducing learning rate to 0.0001250000059371814.\n",
      "Epoch 47/200\n",
      "1022/1022 [==============================] - 1s 629us/step - loss: 0.0423 - mean_absolute_error: 27435.8896 - val_loss: 0.0387 - val_mean_absolute_error: 26541.9413\n",
      "\n",
      "Epoch 00047: val_loss improved from 0.03891 to 0.03865, saving model to best_model_e200_b32_oadam_lr_norm.h5\n",
      "Epoch 48/200\n",
      "1022/1022 [==============================] - 1s 624us/step - loss: 0.0419 - mean_absolute_error: 27253.6205 - val_loss: 0.0389 - val_mean_absolute_error: 26818.6097\n",
      "\n",
      "Epoch 00048: val_loss did not improve from 0.03865\n",
      "Epoch 49/200\n",
      "1022/1022 [==============================] - 1s 658us/step - loss: 0.0422 - mean_absolute_error: 27436.3958 - val_loss: 0.0385 - val_mean_absolute_error: 26299.0872\n",
      "\n",
      "Epoch 00049: val_loss improved from 0.03865 to 0.03851, saving model to best_model_e200_b32_oadam_lr_norm.h5\n",
      "Epoch 50/200\n",
      "1022/1022 [==============================] - 1s 683us/step - loss: 0.0416 - mean_absolute_error: 27220.1490 - val_loss: 0.0396 - val_mean_absolute_error: 25668.8540\n",
      "\n",
      "Epoch 00050: val_loss did not improve from 0.03851\n",
      "Epoch 51/200\n",
      "1022/1022 [==============================] - 1s 647us/step - loss: 0.0420 - mean_absolute_error: 27137.0942 - val_loss: 0.0384 - val_mean_absolute_error: 26044.1993\n",
      "\n",
      "Epoch 00051: val_loss improved from 0.03851 to 0.03840, saving model to best_model_e200_b32_oadam_lr_norm.h5\n",
      "Epoch 52/200\n",
      "1022/1022 [==============================] - 1s 604us/step - loss: 0.0412 - mean_absolute_error: 26928.0321 - val_loss: 0.0386 - val_mean_absolute_error: 25734.7942\n",
      "\n",
      "Epoch 00052: val_loss did not improve from 0.03840\n",
      "Epoch 53/200\n",
      "1022/1022 [==============================] - 1s 617us/step - loss: 0.0420 - mean_absolute_error: 27157.7380 - val_loss: 0.0394 - val_mean_absolute_error: 27451.0156\n",
      "\n",
      "Epoch 00053: val_loss did not improve from 0.03840\n",
      "Epoch 54/200\n",
      "1022/1022 [==============================] - 1s 618us/step - loss: 0.0418 - mean_absolute_error: 27083.9276 - val_loss: 0.0383 - val_mean_absolute_error: 25700.6339\n",
      "\n",
      "Epoch 00054: val_loss improved from 0.03840 to 0.03828, saving model to best_model_e200_b32_oadam_lr_norm.h5\n",
      "Epoch 55/200\n",
      "1022/1022 [==============================] - 1s 609us/step - loss: 0.0416 - mean_absolute_error: 27069.4319 - val_loss: 0.0395 - val_mean_absolute_error: 27533.5571\n",
      "\n",
      "Epoch 00055: val_loss did not improve from 0.03828\n",
      "Epoch 56/200\n",
      "1022/1022 [==============================] - 1s 653us/step - loss: 0.0411 - mean_absolute_error: 26918.4369 - val_loss: 0.0381 - val_mean_absolute_error: 26328.5286\n",
      "\n",
      "Epoch 00056: val_loss improved from 0.03828 to 0.03814, saving model to best_model_e200_b32_oadam_lr_norm.h5\n",
      "Epoch 57/200\n",
      "1022/1022 [==============================] - 1s 670us/step - loss: 0.0412 - mean_absolute_error: 27041.7680 - val_loss: 0.0384 - val_mean_absolute_error: 26538.9393\n",
      "\n",
      "Epoch 00057: val_loss did not improve from 0.03814\n",
      "Epoch 58/200\n",
      "1022/1022 [==============================] - 1s 629us/step - loss: 0.0413 - mean_absolute_error: 27019.2310 - val_loss: 0.0387 - val_mean_absolute_error: 26901.5916\n",
      "\n",
      "Epoch 00058: val_loss did not improve from 0.03814\n",
      "Epoch 59/200\n",
      "1022/1022 [==============================] - 1s 597us/step - loss: 0.0413 - mean_absolute_error: 27127.8434 - val_loss: 0.0381 - val_mean_absolute_error: 26113.2434\n",
      "\n",
      "Epoch 00059: val_loss improved from 0.03814 to 0.03814, saving model to best_model_e200_b32_oadam_lr_norm.h5\n",
      "Epoch 60/200\n",
      "1022/1022 [==============================] - 1s 623us/step - loss: 0.0411 - mean_absolute_error: 26811.5036 - val_loss: 0.0378 - val_mean_absolute_error: 25775.5698\n",
      "\n",
      "Epoch 00060: val_loss improved from 0.03814 to 0.03781, saving model to best_model_e200_b32_oadam_lr_norm.h5\n",
      "Epoch 61/200\n",
      "1022/1022 [==============================] - 1s 630us/step - loss: 0.0406 - mean_absolute_error: 26808.6721 - val_loss: 0.0377 - val_mean_absolute_error: 25750.3940\n",
      "\n",
      "Epoch 00061: val_loss improved from 0.03781 to 0.03773, saving model to best_model_e200_b32_oadam_lr_norm.h5\n",
      "Epoch 62/200\n",
      "1022/1022 [==============================] - 1s 642us/step - loss: 0.0411 - mean_absolute_error: 26987.0682 - val_loss: 0.0379 - val_mean_absolute_error: 26330.9661\n",
      "\n",
      "Epoch 00062: val_loss did not improve from 0.03773\n",
      "Epoch 63/200\n",
      "1022/1022 [==============================] - 1s 596us/step - loss: 0.0408 - mean_absolute_error: 26858.9362 - val_loss: 0.0378 - val_mean_absolute_error: 26114.5922\n",
      "\n",
      "Epoch 00063: val_loss did not improve from 0.03773\n",
      "Epoch 64/200\n"
     ]
    },
    {
     "name": "stdout",
     "output_type": "stream",
     "text": [
      "1022/1022 [==============================] - 1s 642us/step - loss: 0.0400 - mean_absolute_error: 26556.8622 - val_loss: 0.0381 - val_mean_absolute_error: 26294.4643\n",
      "\n",
      "Epoch 00064: val_loss did not improve from 0.03773\n",
      "Epoch 65/200\n",
      "1022/1022 [==============================] - 1s 677us/step - loss: 0.0411 - mean_absolute_error: 27001.3110 - val_loss: 0.0379 - val_mean_absolute_error: 25310.2603\n",
      "\n",
      "Epoch 00065: val_loss did not improve from 0.03773\n",
      "\n",
      "Epoch 00065: ReduceLROnPlateau reducing learning rate to 6.25000029685907e-05.\n",
      "Epoch 66/200\n",
      "1022/1022 [==============================] - 1s 638us/step - loss: 0.0401 - mean_absolute_error: 26520.5691 - val_loss: 0.0382 - val_mean_absolute_error: 26591.2473\n",
      "\n",
      "Epoch 00066: val_loss did not improve from 0.03773\n",
      "Epoch 67/200\n",
      "1022/1022 [==============================] - 1s 636us/step - loss: 0.0399 - mean_absolute_error: 26612.0063 - val_loss: 0.0376 - val_mean_absolute_error: 25947.0717\n",
      "\n",
      "Epoch 00067: val_loss improved from 0.03773 to 0.03762, saving model to best_model_e200_b32_oadam_lr_norm.h5\n",
      "Epoch 68/200\n",
      "1022/1022 [==============================] - 1s 667us/step - loss: 0.0400 - mean_absolute_error: 26475.0617 - val_loss: 0.0379 - val_mean_absolute_error: 26358.5256\n",
      "\n",
      "Epoch 00068: val_loss did not improve from 0.03762\n",
      "Epoch 69/200\n",
      "1022/1022 [==============================] - 1s 635us/step - loss: 0.0400 - mean_absolute_error: 26570.6432 - val_loss: 0.0377 - val_mean_absolute_error: 26170.0360\n",
      "\n",
      "Epoch 00069: val_loss did not improve from 0.03762\n",
      "Epoch 70/200\n",
      "1022/1022 [==============================] - 1s 637us/step - loss: 0.0397 - mean_absolute_error: 26345.2239 - val_loss: 0.0394 - val_mean_absolute_error: 27566.6681\n",
      "\n",
      "Epoch 00070: val_loss did not improve from 0.03762\n",
      "Epoch 71/200\n",
      "1022/1022 [==============================] - 1s 655us/step - loss: 0.0396 - mean_absolute_error: 26505.5674 - val_loss: 0.0374 - val_mean_absolute_error: 25788.0045\n",
      "\n",
      "Epoch 00071: val_loss improved from 0.03762 to 0.03743, saving model to best_model_e200_b32_oadam_lr_norm.h5\n",
      "Epoch 72/200\n",
      "1022/1022 [==============================] - 1s 657us/step - loss: 0.0398 - mean_absolute_error: 26398.0871 - val_loss: 0.0374 - val_mean_absolute_error: 25732.5147\n",
      "\n",
      "Epoch 00072: val_loss improved from 0.03743 to 0.03743, saving model to best_model_e200_b32_oadam_lr_norm.h5\n",
      "Epoch 73/200\n",
      "1022/1022 [==============================] - 1s 654us/step - loss: 0.0397 - mean_absolute_error: 26322.9974 - val_loss: 0.0377 - val_mean_absolute_error: 26215.6573\n",
      "\n",
      "Epoch 00073: val_loss did not improve from 0.03743\n",
      "Epoch 74/200\n",
      "1022/1022 [==============================] - 1s 623us/step - loss: 0.0396 - mean_absolute_error: 26460.8850 - val_loss: 0.0375 - val_mean_absolute_error: 25854.4582\n",
      "\n",
      "Epoch 00074: val_loss did not improve from 0.03743\n",
      "Epoch 75/200\n",
      "1022/1022 [==============================] - 1s 647us/step - loss: 0.0392 - mean_absolute_error: 26165.5541 - val_loss: 0.0375 - val_mean_absolute_error: 25824.2695\n",
      "\n",
      "Epoch 00075: val_loss did not improve from 0.03743\n",
      "Epoch 76/200\n",
      "1022/1022 [==============================] - 1s 688us/step - loss: 0.0394 - mean_absolute_error: 26301.2493 - val_loss: 0.0374 - val_mean_absolute_error: 25723.6948\n",
      "\n",
      "Epoch 00076: val_loss improved from 0.03743 to 0.03741, saving model to best_model_e200_b32_oadam_lr_norm.h5\n",
      "\n",
      "Epoch 00076: ReduceLROnPlateau reducing learning rate to 3.125000148429535e-05.\n",
      "Epoch 77/200\n",
      "1022/1022 [==============================] - 1s 678us/step - loss: 0.0391 - mean_absolute_error: 26252.4840 - val_loss: 0.0375 - val_mean_absolute_error: 25878.1494\n",
      "\n",
      "Epoch 00077: val_loss did not improve from 0.03741\n",
      "Epoch 78/200\n",
      "1022/1022 [==============================] - 1s 633us/step - loss: 0.0392 - mean_absolute_error: 26199.5813 - val_loss: 0.0377 - val_mean_absolute_error: 26221.4293\n",
      "\n",
      "Epoch 00078: val_loss did not improve from 0.03741\n",
      "Epoch 79/200\n",
      "1022/1022 [==============================] - 1s 600us/step - loss: 0.0392 - mean_absolute_error: 26239.9126 - val_loss: 0.0375 - val_mean_absolute_error: 25978.3088\n",
      "\n",
      "Epoch 00079: val_loss did not improve from 0.03741\n",
      "Epoch 80/200\n",
      "1022/1022 [==============================] - 1s 637us/step - loss: 0.0391 - mean_absolute_error: 26106.2542 - val_loss: 0.0377 - val_mean_absolute_error: 26220.0350\n",
      "\n",
      "Epoch 00080: val_loss did not improve from 0.03741\n",
      "Epoch 81/200\n",
      "1022/1022 [==============================] - 1s 645us/step - loss: 0.0390 - mean_absolute_error: 26087.8326 - val_loss: 0.0378 - val_mean_absolute_error: 26297.2715\n",
      "\n",
      "Epoch 00081: val_loss did not improve from 0.03741\n",
      "\n",
      "Epoch 00081: ReduceLROnPlateau reducing learning rate to 1.5625000742147677e-05.\n",
      "Epoch 82/200\n",
      "1022/1022 [==============================] - 1s 653us/step - loss: 0.0390 - mean_absolute_error: 26137.0989 - val_loss: 0.0375 - val_mean_absolute_error: 26062.8207\n",
      "\n",
      "Epoch 00082: val_loss did not improve from 0.03741\n",
      "Epoch 83/200\n",
      "1022/1022 [==============================] - 1s 656us/step - loss: 0.0389 - mean_absolute_error: 26019.1203 - val_loss: 0.0378 - val_mean_absolute_error: 26322.5043\n",
      "\n",
      "Epoch 00083: val_loss did not improve from 0.03741\n",
      "Epoch 84/200\n",
      "1022/1022 [==============================] - 1s 637us/step - loss: 0.0390 - mean_absolute_error: 26134.9507 - val_loss: 0.0377 - val_mean_absolute_error: 26229.8166\n",
      "\n",
      "Epoch 00084: val_loss did not improve from 0.03741\n",
      "Epoch 85/200\n",
      "1022/1022 [==============================] - 1s 606us/step - loss: 0.0389 - mean_absolute_error: 26090.8234 - val_loss: 0.0374 - val_mean_absolute_error: 25875.2122\n",
      "\n",
      "Epoch 00085: val_loss improved from 0.03741 to 0.03739, saving model to best_model_e200_b32_oadam_lr_norm.h5\n",
      "Epoch 86/200\n",
      "1022/1022 [==============================] - 1s 612us/step - loss: 0.0390 - mean_absolute_error: 26069.6824 - val_loss: 0.0374 - val_mean_absolute_error: 25941.5929\n",
      "\n",
      "Epoch 00086: val_loss did not improve from 0.03739\n",
      "\n",
      "Epoch 00086: ReduceLROnPlateau reducing learning rate to 1e-05.\n",
      "Epoch 87/200\n",
      "1022/1022 [==============================] - 1s 665us/step - loss: 0.0389 - mean_absolute_error: 26047.6559 - val_loss: 0.0374 - val_mean_absolute_error: 25820.5572\n",
      "\n",
      "Epoch 00087: val_loss improved from 0.03739 to 0.03735, saving model to best_model_e200_b32_oadam_lr_norm.h5\n",
      "Epoch 88/200\n",
      "1022/1022 [==============================] - 1s 644us/step - loss: 0.0388 - mean_absolute_error: 26011.4758 - val_loss: 0.0372 - val_mean_absolute_error: 25521.1826\n",
      "\n",
      "Epoch 00088: val_loss improved from 0.03735 to 0.03722, saving model to best_model_e200_b32_oadam_lr_norm.h5\n",
      "Epoch 89/200\n",
      "1022/1022 [==============================] - 1s 630us/step - loss: 0.0389 - mean_absolute_error: 25922.2189 - val_loss: 0.0375 - val_mean_absolute_error: 25995.3967\n",
      "\n",
      "Epoch 00089: val_loss did not improve from 0.03722\n",
      "Epoch 90/200\n",
      "1022/1022 [==============================] - 1s 665us/step - loss: 0.0388 - mean_absolute_error: 26033.5297 - val_loss: 0.0375 - val_mean_absolute_error: 26042.0043\n",
      "\n",
      "Epoch 00090: val_loss did not improve from 0.03722\n",
      "Epoch 91/200\n",
      "1022/1022 [==============================] - 1s 649us/step - loss: 0.0388 - mean_absolute_error: 26030.9032 - val_loss: 0.0374 - val_mean_absolute_error: 25868.6734\n",
      "\n",
      "Epoch 00091: val_loss did not improve from 0.03722\n",
      "Epoch 92/200\n",
      "1022/1022 [==============================] - 1s 590us/step - loss: 0.0388 - mean_absolute_error: 26046.5457 - val_loss: 0.0373 - val_mean_absolute_error: 25724.5793\n",
      "\n",
      "Epoch 00092: val_loss did not improve from 0.03722\n",
      "Epoch 93/200\n",
      "1022/1022 [==============================] - 1s 593us/step - loss: 0.0388 - mean_absolute_error: 25865.5981 - val_loss: 0.0377 - val_mean_absolute_error: 26240.7178\n",
      "\n",
      "Epoch 00093: val_loss did not improve from 0.03722\n",
      "Epoch 94/200\n",
      "1022/1022 [==============================] - 1s 646us/step - loss: 0.0388 - mean_absolute_error: 26079.8291 - val_loss: 0.0375 - val_mean_absolute_error: 26044.4317\n",
      "\n",
      "Epoch 00094: val_loss did not improve from 0.03722\n",
      "Epoch 95/200\n",
      "1022/1022 [==============================] - 1s 612us/step - loss: 0.0388 - mean_absolute_error: 26058.3992 - val_loss: 0.0373 - val_mean_absolute_error: 25761.5622\n",
      "\n",
      "Epoch 00095: val_loss did not improve from 0.03722\n",
      "Epoch 96/200\n",
      "1022/1022 [==============================] - 1s 613us/step - loss: 0.0388 - mean_absolute_error: 25953.6310 - val_loss: 0.0375 - val_mean_absolute_error: 26000.4694\n"
     ]
    },
    {
     "name": "stdout",
     "output_type": "stream",
     "text": [
      "\n",
      "Epoch 00096: val_loss did not improve from 0.03722\n",
      "Epoch 97/200\n",
      "1022/1022 [==============================] - 1s 647us/step - loss: 0.0387 - mean_absolute_error: 26059.9554 - val_loss: 0.0372 - val_mean_absolute_error: 25707.3057\n",
      "\n",
      "Epoch 00097: val_loss did not improve from 0.03722\n",
      "Epoch 98/200\n",
      "1022/1022 [==============================] - 1s 665us/step - loss: 0.0388 - mean_absolute_error: 25929.2015 - val_loss: 0.0374 - val_mean_absolute_error: 25996.6638\n",
      "\n",
      "Epoch 00098: val_loss did not improve from 0.03722\n",
      "Epoch 00098: early stopping\n"
     ]
    }
   ],
   "source": [
    "from keras.callbacks import EarlyStopping, ModelCheckpoint, ReduceLROnPlateau\n",
    "np.random.seed(1235)\n",
    "epochs = 200\n",
    "batch_size = 32\n",
    "\n",
    "reduce_lr = ReduceLROnPlateau(monitor='val_loss', factor=0.5,\n",
    "                              patience=5, min_lr=0.00001, verbose=1)\n",
    "\n",
    "checkpoint = ModelCheckpoint('best_model_e200_b32_rmsprop_net_128_512_512_512.h5', verbose=1, \n",
    "                             monitor='val_loss',\n",
    "                             save_best_only=True, mode='auto') \n",
    "\n",
    "early = EarlyStopping(monitor='val_loss',\n",
    "                              min_delta=0,\n",
    "                              patience=10,\n",
    "                              verbose=1, mode='auto')\n",
    "\n",
    "history = NN_model.fit(X_train, y_train,\n",
    "                    batch_size=batch_size,\n",
    "                    epochs=epochs,\n",
    "                    verbose=1,callbacks=[checkpoint, early, reduce_lr],\n",
    "                    validation_data=(X_test, y_test))"
   ]
  },
  {
   "cell_type": "code",
   "execution_count": 1218,
   "metadata": {
    "scrolled": true
   },
   "outputs": [
    {
     "data": {
      "image/png": "[encoded data removed]",
      "text/plain": [
       "<Figure size 432x288 with 1 Axes>"
      ]
     },
     "metadata": {
      "needs_background": "light"
     },
     "output_type": "display_data"
    }
   ],
   "source": [
    "drow_history(history, 'loss', 1)"
   ]
  },
  {
   "cell_type": "code",
   "execution_count": 1219,
   "metadata": {},
   "outputs": [],
   "source": [
    "#### Load the best model\n",
    "NN_model.load_weights('best_model_e200_b32_rmsprop_net_128_512_512_512.h5')\n",
    "# Compile the network :\n",
    "NN_model.compile(loss='mean_squared_logarithmic_error', optimizer='adam', \n",
    "                 metrics=['mean_absolute_error'])"
   ]
  },
  {
   "cell_type": "code",
   "execution_count": 1220,
   "metadata": {},
   "outputs": [
    {
     "name": "stdout",
     "output_type": "stream",
     "text": [
      "438/438 [==============================] - 1s 3ms/step\n"
     ]
    },
    {
     "data": {
      "text/plain": [
       "[0.037218259809087946, 25521.182603809932, 0.037218259809087946]"
      ]
     },
     "execution_count": 1220,
     "metadata": {},
     "output_type": "execute_result"
    }
   ],
   "source": [
    "score=NN_model.evaluate(X_test, y_test)\n",
    "score"
   ]
  },
  {
   "cell_type": "code",
   "execution_count": 1221,
   "metadata": {},
   "outputs": [
    {
     "name": "stdout",
     "output_type": "stream",
     "text": [
      "1460/1460 [==============================] - 0s 167us/step\n"
     ]
    },
    {
     "data": {
      "text/plain": [
       "[0.038429679599118562, 25710.836649186644, 0.038429679599118562]"
      ]
     },
     "execution_count": 1221,
     "metadata": {},
     "output_type": "execute_result"
    }
   ],
   "source": [
    "score=NN_model.evaluate(train, target)\n",
    "score"
   ]
  },
  {
   "cell_type": "code",
   "execution_count": 1224,
   "metadata": {},
   "outputs": [
    {
     "name": "stdout",
     "output_type": "stream",
     "text": [
      "A submission file has been made\n"
     ]
    }
   ],
   "source": [
    "predictions = NN_model.predict(test)\n",
    "make_submission(predictions[:,0],'submission_rmsprop_net_128_512_512_512')"
   ]
  },
  {
   "cell_type": "markdown",
   "metadata": {},
   "source": [
    "* Result 0.20622\n",
    "\n",
    "******************************************************************"
   ]
  },
  {
   "cell_type": "code",
   "execution_count": null,
   "metadata": {},
   "outputs": [],
   "source": [
    "* Enlarge the first Layer\n",
    "* Drop the last Layer\n",
    "* reduce batch size"
   ]
  },
  {
   "cell_type": "code",
   "execution_count": 1252,
   "metadata": {},
   "outputs": [
    {
     "name": "stdout",
     "output_type": "stream",
     "text": [
      "_________________________________________________________________\n",
      "Layer (type)                 Output Shape              Param #   \n",
      "=================================================================\n",
      "dense_197 (Dense)            (None, 264)               56760     \n",
      "_________________________________________________________________\n",
      "dense_198 (Dense)            (None, 512)               135680    \n",
      "_________________________________________________________________\n",
      "dense_199 (Dense)            (None, 512)               262656    \n",
      "_________________________________________________________________\n",
      "dense_200 (Dense)            (None, 1)                 513       \n",
      "=================================================================\n",
      "Total params: 455,609\n",
      "Trainable params: 455,609\n",
      "Non-trainable params: 0\n",
      "_________________________________________________________________\n"
     ]
    }
   ],
   "source": [
    "np.random.seed(1235)\n",
    "    \n",
    "NN_model = Sequential()\n",
    "\n",
    "# The Input Layer :\n",
    "NN_model.add(Dense(264, kernel_initializer='normal',\n",
    "                       input_dim = train.shape[1], activation='relu'))\n",
    "\n",
    "# The Hidden Layers :\n",
    "NN_model.add(Dense(512, kernel_initializer='normal',activation='relu'))\n",
    "NN_model.add(Dense(512, kernel_initializer='normal',activation='relu'))\n",
    "\n",
    "# The Output Layer :\n",
    "NN_model.add(Dense(1, kernel_initializer='normal',activation='linear'))\n",
    "\n",
    "\n",
    "# mean_squared_logarithmic_error\n",
    "# mean_absolute_error\n",
    "# mean_squared_error\n",
    "\n",
    "\n",
    "# Compile the network :\n",
    "NN_model.compile(loss='mean_squared_logarithmic_error', optimizer='rmsprop', \n",
    "                 metrics=['mean_absolute_error'])\n",
    "NN_model.summary()"
   ]
  },
  {
   "cell_type": "code",
   "execution_count": 1253,
   "metadata": {},
   "outputs": [
    {
     "name": "stdout",
     "output_type": "stream",
     "text": [
      "Train on 1022 samples, validate on 438 samples\n",
      "Epoch 1/200\n",
      "1022/1022 [==============================] - 3s 3ms/step - loss: 2.6437 - mean_absolute_error: 95033.6012 - val_loss: 0.1175 - val_mean_absolute_error: 49800.7000\n",
      "\n",
      "Epoch 00001: val_loss improved from inf to 0.11753, saving model to best_model_e200_b16_rmspror.h5\n",
      "Epoch 2/200\n",
      "1022/1022 [==============================] - 1s 919us/step - loss: 0.0941 - mean_absolute_error: 45259.8647 - val_loss: 0.0818 - val_mean_absolute_error: 41254.7938\n",
      "\n",
      "Epoch 00002: val_loss improved from 0.11753 to 0.08179, saving model to best_model_e200_b16_rmspror.h5\n",
      "Epoch 3/200\n",
      "1022/1022 [==============================] - 1s 910us/step - loss: 0.0751 - mean_absolute_error: 39243.8858 - val_loss: 0.0590 - val_mean_absolute_error: 32959.7120\n",
      "\n",
      "Epoch 00003: val_loss improved from 0.08179 to 0.05904, saving model to best_model_e200_b16_rmspror.h5\n",
      "Epoch 4/200\n",
      "1022/1022 [==============================] - 1s 898us/step - loss: 0.0622 - mean_absolute_error: 34884.4113 - val_loss: 0.1376 - val_mean_absolute_error: 54584.9820\n",
      "\n",
      "Epoch 00004: val_loss did not improve from 0.05904\n",
      "Epoch 5/200\n",
      "1022/1022 [==============================] - 1s 923us/step - loss: 0.0587 - mean_absolute_error: 33429.0762 - val_loss: 0.0540 - val_mean_absolute_error: 33822.2974\n",
      "\n",
      "Epoch 00005: val_loss improved from 0.05904 to 0.05396, saving model to best_model_e200_b16_rmspror.h5\n",
      "Epoch 6/200\n",
      "1022/1022 [==============================] - 1s 918us/step - loss: 0.0575 - mean_absolute_error: 33103.4843 - val_loss: 0.0460 - val_mean_absolute_error: 30051.8888\n",
      "\n",
      "Epoch 00006: val_loss improved from 0.05396 to 0.04604, saving model to best_model_e200_b16_rmspror.h5\n",
      "Epoch 7/200\n",
      "1022/1022 [==============================] - 1s 872us/step - loss: 0.0556 - mean_absolute_error: 32662.6972 - val_loss: 0.0490 - val_mean_absolute_error: 29238.6771\n",
      "\n",
      "Epoch 00007: val_loss did not improve from 0.04604\n",
      "Epoch 8/200\n",
      "1022/1022 [==============================] - 1s 917us/step - loss: 0.0543 - mean_absolute_error: 32170.7654 - val_loss: 0.0440 - val_mean_absolute_error: 28443.9448\n",
      "\n",
      "Epoch 00008: val_loss improved from 0.04604 to 0.04399, saving model to best_model_e200_b16_rmspror.h5\n",
      "Epoch 9/200\n",
      "1022/1022 [==============================] - 1s 962us/step - loss: 0.0538 - mean_absolute_error: 32284.6409 - val_loss: 0.0553 - val_mean_absolute_error: 34558.5370\n",
      "\n",
      "Epoch 00009: val_loss did not improve from 0.04399\n",
      "Epoch 10/200\n",
      "1022/1022 [==============================] - 1s 933us/step - loss: 0.0547 - mean_absolute_error: 32599.8695 - val_loss: 0.0416 - val_mean_absolute_error: 27932.8395\n",
      "\n",
      "Epoch 00010: val_loss improved from 0.04399 to 0.04163, saving model to best_model_e200_b16_rmspror.h5\n",
      "Epoch 11/200\n",
      "1022/1022 [==============================] - 1s 991us/step - loss: 0.0534 - mean_absolute_error: 31500.8743 - val_loss: 0.0512 - val_mean_absolute_error: 33312.7774\n",
      "\n",
      "Epoch 00011: val_loss did not improve from 0.04163\n",
      "Epoch 12/200\n",
      "1022/1022 [==============================] - 1s 1ms/step - loss: 0.0525 - mean_absolute_error: 31092.3889 - val_loss: 0.0411 - val_mean_absolute_error: 27825.1067\n",
      "\n",
      "Epoch 00012: val_loss improved from 0.04163 to 0.04108, saving model to best_model_e200_b16_rmspror.h5\n",
      "Epoch 13/200\n",
      "1022/1022 [==============================] - 1s 972us/step - loss: 0.0524 - mean_absolute_error: 30863.7334 - val_loss: 0.0426 - val_mean_absolute_error: 27383.0691\n",
      "\n",
      "Epoch 00013: val_loss did not improve from 0.04108\n",
      "Epoch 14/200\n",
      "1022/1022 [==============================] - 1s 873us/step - loss: 0.0515 - mean_absolute_error: 30652.7101 - val_loss: 0.0457 - val_mean_absolute_error: 31020.3627\n",
      "\n",
      "Epoch 00014: val_loss did not improve from 0.04108\n",
      "Epoch 15/200\n",
      "1022/1022 [==============================] - 1s 893us/step - loss: 0.0509 - mean_absolute_error: 31002.2199 - val_loss: 0.0431 - val_mean_absolute_error: 29658.6950\n",
      "\n",
      "Epoch 00015: val_loss did not improve from 0.04108\n",
      "Epoch 16/200\n",
      "1022/1022 [==============================] - 1s 1ms/step - loss: 0.0504 - mean_absolute_error: 30471.8147 - val_loss: 0.0421 - val_mean_absolute_error: 28133.4843\n",
      "\n",
      "Epoch 00016: val_loss did not improve from 0.04108\n",
      "Epoch 17/200\n",
      "1022/1022 [==============================] - 1s 1ms/step - loss: 0.0521 - mean_absolute_error: 30812.5679 - val_loss: 0.0446 - val_mean_absolute_error: 29951.3044\n",
      "\n",
      "Epoch 00017: val_loss did not improve from 0.04108\n",
      "\n",
      "Epoch 00017: ReduceLROnPlateau reducing learning rate to 0.0005000000237487257.\n",
      "Epoch 18/200\n",
      "1022/1022 [==============================] - 1s 871us/step - loss: 0.0456 - mean_absolute_error: 29086.3696 - val_loss: 0.0418 - val_mean_absolute_error: 28239.8934\n",
      "\n",
      "Epoch 00018: val_loss did not improve from 0.04108\n",
      "Epoch 19/200\n",
      "1022/1022 [==============================] - 1s 994us/step - loss: 0.0451 - mean_absolute_error: 28729.4412 - val_loss: 0.0400 - val_mean_absolute_error: 26398.8395\n",
      "\n",
      "Epoch 00019: val_loss improved from 0.04108 to 0.04003, saving model to best_model_e200_b16_rmspror.h5\n",
      "Epoch 20/200\n",
      "1022/1022 [==============================] - 1s 920us/step - loss: 0.0442 - mean_absolute_error: 28296.8834 - val_loss: 0.0399 - val_mean_absolute_error: 25937.1074\n",
      "\n",
      "Epoch 00020: val_loss improved from 0.04003 to 0.03994, saving model to best_model_e200_b16_rmspror.h5\n",
      "Epoch 21/200\n",
      "1022/1022 [==============================] - 1s 982us/step - loss: 0.0441 - mean_absolute_error: 28494.0126 - val_loss: 0.0401 - val_mean_absolute_error: 26137.9985\n",
      "\n",
      "Epoch 00021: val_loss did not improve from 0.03994\n",
      "Epoch 22/200\n",
      "1022/1022 [==============================] - 1s 922us/step - loss: 0.0450 - mean_absolute_error: 28380.4157 - val_loss: 0.0546 - val_mean_absolute_error: 34145.9617\n",
      "\n",
      "Epoch 00022: val_loss did not improve from 0.03994\n",
      "Epoch 23/200\n",
      "1022/1022 [==============================] - 1s 914us/step - loss: 0.0448 - mean_absolute_error: 28170.5655 - val_loss: 0.0398 - val_mean_absolute_error: 25723.1147\n",
      "\n",
      "Epoch 00023: val_loss improved from 0.03994 to 0.03979, saving model to best_model_e200_b16_rmspror.h5\n",
      "Epoch 24/200\n",
      "1022/1022 [==============================] - 1s 944us/step - loss: 0.0435 - mean_absolute_error: 27880.1096 - val_loss: 0.0410 - val_mean_absolute_error: 25850.2403\n",
      "\n",
      "Epoch 00024: val_loss did not improve from 0.03979\n",
      "Epoch 25/200\n",
      "1022/1022 [==============================] - 1s 914us/step - loss: 0.0426 - mean_absolute_error: 27606.7386 - val_loss: 0.0396 - val_mean_absolute_error: 25352.5820\n",
      "\n",
      "Epoch 00025: val_loss improved from 0.03979 to 0.03955, saving model to best_model_e200_b16_rmspror.h5\n",
      "Epoch 26/200\n",
      "1022/1022 [==============================] - 1s 1ms/step - loss: 0.0433 - mean_absolute_error: 27556.0110 - val_loss: 0.0420 - val_mean_absolute_error: 28876.3596\n",
      "\n",
      "Epoch 00026: val_loss did not improve from 0.03955\n",
      "Epoch 27/200\n",
      "1022/1022 [==============================] - 1s 1ms/step - loss: 0.0429 - mean_absolute_error: 27791.8819 - val_loss: 0.0388 - val_mean_absolute_error: 26342.2192\n",
      "\n",
      "Epoch 00027: val_loss improved from 0.03955 to 0.03876, saving model to best_model_e200_b16_rmspror.h5\n",
      "Epoch 28/200\n",
      "1022/1022 [==============================] - 1s 1ms/step - loss: 0.0425 - mean_absolute_error: 27437.1829 - val_loss: 0.0394 - val_mean_absolute_error: 25282.7972\n",
      "\n",
      "Epoch 00028: val_loss did not improve from 0.03876\n",
      "Epoch 29/200\n",
      "1022/1022 [==============================] - 1s 946us/step - loss: 0.0426 - mean_absolute_error: 27427.9509 - val_loss: 0.0452 - val_mean_absolute_error: 30572.9381\n",
      "\n",
      "Epoch 00029: val_loss did not improve from 0.03876\n",
      "Epoch 30/200\n",
      "1022/1022 [==============================] - 1s 877us/step - loss: 0.0424 - mean_absolute_error: 27597.7312 - val_loss: 0.0381 - val_mean_absolute_error: 24827.7595\n",
      "\n",
      "Epoch 00030: val_loss improved from 0.03876 to 0.03806, saving model to best_model_e200_b16_rmspror.h5\n",
      "Epoch 31/200\n",
      "1022/1022 [==============================] - 1s 889us/step - loss: 0.0420 - mean_absolute_error: 27235.2606 - val_loss: 0.0408 - val_mean_absolute_error: 27867.7082\n",
      "\n",
      "Epoch 00031: val_loss did not improve from 0.03806\n",
      "Epoch 32/200\n",
      "1022/1022 [==============================] - 1s 946us/step - loss: 0.0430 - mean_absolute_error: 27599.1936 - val_loss: 0.0389 - val_mean_absolute_error: 26841.7602\n",
      "\n",
      "Epoch 00032: val_loss did not improve from 0.03806\n",
      "Epoch 33/200\n"
     ]
    },
    {
     "name": "stdout",
     "output_type": "stream",
     "text": [
      "1022/1022 [==============================] - 1s 861us/step - loss: 0.0420 - mean_absolute_error: 27379.7760 - val_loss: 0.0394 - val_mean_absolute_error: 25745.4651\n",
      "\n",
      "Epoch 00033: val_loss did not improve from 0.03806\n",
      "Epoch 34/200\n",
      "1022/1022 [==============================] - 1s 837us/step - loss: 0.0416 - mean_absolute_error: 27120.3989 - val_loss: 0.0390 - val_mean_absolute_error: 27116.0352\n",
      "\n",
      "Epoch 00034: val_loss did not improve from 0.03806\n",
      "Epoch 35/200\n",
      "1022/1022 [==============================] - 1s 854us/step - loss: 0.0413 - mean_absolute_error: 27363.6005 - val_loss: 0.0459 - val_mean_absolute_error: 30951.6649\n",
      "\n",
      "Epoch 00035: val_loss did not improve from 0.03806\n",
      "\n",
      "Epoch 00035: ReduceLROnPlateau reducing learning rate to 0.0002500000118743628.\n",
      "Epoch 36/200\n",
      "1022/1022 [==============================] - 1s 866us/step - loss: 0.0394 - mean_absolute_error: 26353.0985 - val_loss: 0.0361 - val_mean_absolute_error: 24800.9470\n",
      "\n",
      "Epoch 00036: val_loss improved from 0.03806 to 0.03611, saving model to best_model_e200_b16_rmspror.h5\n",
      "Epoch 37/200\n",
      "1022/1022 [==============================] - 1s 920us/step - loss: 0.0385 - mean_absolute_error: 25968.5644 - val_loss: 0.0367 - val_mean_absolute_error: 25984.1926\n",
      "\n",
      "Epoch 00037: val_loss did not improve from 0.03611\n",
      "Epoch 38/200\n",
      "1022/1022 [==============================] - 1s 871us/step - loss: 0.0388 - mean_absolute_error: 26026.4655 - val_loss: 0.0356 - val_mean_absolute_error: 24589.5757\n",
      "\n",
      "Epoch 00038: val_loss improved from 0.03611 to 0.03561, saving model to best_model_e200_b16_rmspror.h5\n",
      "Epoch 39/200\n",
      "1022/1022 [==============================] - 1s 888us/step - loss: 0.0389 - mean_absolute_error: 26098.2466 - val_loss: 0.0363 - val_mean_absolute_error: 25478.5521\n",
      "\n",
      "Epoch 00039: val_loss did not improve from 0.03561\n",
      "Epoch 40/200\n",
      "1022/1022 [==============================] - 1s 843us/step - loss: 0.0386 - mean_absolute_error: 26008.0180 - val_loss: 0.0365 - val_mean_absolute_error: 25270.7972\n",
      "\n",
      "Epoch 00040: val_loss did not improve from 0.03561\n",
      "Epoch 41/200\n",
      "1022/1022 [==============================] - 1s 923us/step - loss: 0.0375 - mean_absolute_error: 25524.0853 - val_loss: 0.0357 - val_mean_absolute_error: 24765.0681\n",
      "\n",
      "Epoch 00041: val_loss did not improve from 0.03561\n",
      "Epoch 42/200\n",
      "1022/1022 [==============================] - 1s 901us/step - loss: 0.0382 - mean_absolute_error: 25656.1223 - val_loss: 0.0361 - val_mean_absolute_error: 24080.6218\n",
      "\n",
      "Epoch 00042: val_loss did not improve from 0.03561\n",
      "Epoch 43/200\n",
      "1022/1022 [==============================] - 1s 867us/step - loss: 0.0381 - mean_absolute_error: 25672.7526 - val_loss: 0.0349 - val_mean_absolute_error: 24448.1045\n",
      "\n",
      "Epoch 00043: val_loss improved from 0.03561 to 0.03486, saving model to best_model_e200_b16_rmspror.h5\n",
      "Epoch 44/200\n",
      "1022/1022 [==============================] - 1s 875us/step - loss: 0.0376 - mean_absolute_error: 25684.6422 - val_loss: 0.0361 - val_mean_absolute_error: 25508.2866\n",
      "\n",
      "Epoch 00044: val_loss did not improve from 0.03486\n",
      "Epoch 45/200\n",
      "1022/1022 [==============================] - 1s 864us/step - loss: 0.0375 - mean_absolute_error: 25794.0617 - val_loss: 0.0367 - val_mean_absolute_error: 24217.3489\n",
      "\n",
      "Epoch 00045: val_loss did not improve from 0.03486\n",
      "Epoch 46/200\n",
      "1022/1022 [==============================] - 1s 837us/step - loss: 0.0375 - mean_absolute_error: 25599.8770 - val_loss: 0.0358 - val_mean_absolute_error: 24985.8760\n",
      "\n",
      "Epoch 00046: val_loss did not improve from 0.03486\n",
      "Epoch 47/200\n",
      "1022/1022 [==============================] - 1s 892us/step - loss: 0.0372 - mean_absolute_error: 25541.4155 - val_loss: 0.0369 - val_mean_absolute_error: 25905.9564\n",
      "\n",
      "Epoch 00047: val_loss did not improve from 0.03486\n",
      "Epoch 48/200\n",
      "1022/1022 [==============================] - 1s 857us/step - loss: 0.0364 - mean_absolute_error: 25100.5971 - val_loss: 0.0358 - val_mean_absolute_error: 25182.8884\n",
      "\n",
      "Epoch 00048: val_loss did not improve from 0.03486\n",
      "\n",
      "Epoch 00048: ReduceLROnPlateau reducing learning rate to 0.0001250000059371814.\n",
      "Epoch 49/200\n",
      "1022/1022 [==============================] - 1s 852us/step - loss: 0.0359 - mean_absolute_error: 24992.2246 - val_loss: 0.0351 - val_mean_absolute_error: 24591.3374\n",
      "\n",
      "Epoch 00049: val_loss did not improve from 0.03486\n",
      "Epoch 50/200\n",
      "1022/1022 [==============================] - 1s 825us/step - loss: 0.0358 - mean_absolute_error: 24956.0321 - val_loss: 0.0351 - val_mean_absolute_error: 23860.1745\n",
      "\n",
      "Epoch 00050: val_loss did not improve from 0.03486\n",
      "Epoch 51/200\n",
      "1022/1022 [==============================] - 1s 858us/step - loss: 0.0357 - mean_absolute_error: 24663.2376 - val_loss: 0.0349 - val_mean_absolute_error: 24422.5754\n",
      "\n",
      "Epoch 00051: val_loss did not improve from 0.03486\n",
      "Epoch 52/200\n",
      "1022/1022 [==============================] - 1s 934us/step - loss: 0.0354 - mean_absolute_error: 24702.1233 - val_loss: 0.0346 - val_mean_absolute_error: 23977.3141\n",
      "\n",
      "Epoch 00052: val_loss improved from 0.03486 to 0.03460, saving model to best_model_e200_b16_rmspror.h5\n",
      "Epoch 53/200\n",
      "1022/1022 [==============================] - 1s 872us/step - loss: 0.0355 - mean_absolute_error: 24753.6186 - val_loss: 0.0346 - val_mean_absolute_error: 24687.1696\n",
      "\n",
      "Epoch 00053: val_loss did not improve from 0.03460\n",
      "Epoch 54/200\n",
      "1022/1022 [==============================] - 1s 850us/step - loss: 0.0355 - mean_absolute_error: 24793.6791 - val_loss: 0.0343 - val_mean_absolute_error: 24098.4980\n",
      "\n",
      "Epoch 00054: val_loss improved from 0.03460 to 0.03434, saving model to best_model_e200_b16_rmspror.h5\n",
      "Epoch 55/200\n",
      "1022/1022 [==============================] - 1s 883us/step - loss: 0.0354 - mean_absolute_error: 24801.4456 - val_loss: 0.0352 - val_mean_absolute_error: 25070.0196\n",
      "\n",
      "Epoch 00055: val_loss did not improve from 0.03434\n",
      "Epoch 56/200\n",
      "1022/1022 [==============================] - 1s 887us/step - loss: 0.0350 - mean_absolute_error: 24561.1983 - val_loss: 0.0347 - val_mean_absolute_error: 24751.6532\n",
      "\n",
      "Epoch 00056: val_loss did not improve from 0.03434\n",
      "Epoch 57/200\n",
      "1022/1022 [==============================] - 1s 946us/step - loss: 0.0352 - mean_absolute_error: 24782.9484 - val_loss: 0.0343 - val_mean_absolute_error: 24272.5455\n",
      "\n",
      "Epoch 00057: val_loss improved from 0.03434 to 0.03430, saving model to best_model_e200_b16_rmspror.h5\n",
      "Epoch 58/200\n",
      "1022/1022 [==============================] - 1s 858us/step - loss: 0.0352 - mean_absolute_error: 24608.5051 - val_loss: 0.0351 - val_mean_absolute_error: 25080.7857\n",
      "\n",
      "Epoch 00058: val_loss did not improve from 0.03430\n",
      "Epoch 59/200\n",
      "1022/1022 [==============================] - 1s 989us/step - loss: 0.0350 - mean_absolute_error: 24631.5694 - val_loss: 0.0343 - val_mean_absolute_error: 24285.9590\n",
      "\n",
      "Epoch 00059: val_loss did not improve from 0.03430\n",
      "\n",
      "Epoch 00059: ReduceLROnPlateau reducing learning rate to 6.25000029685907e-05.\n",
      "Epoch 60/200\n",
      "1022/1022 [==============================] - 1s 860us/step - loss: 0.0344 - mean_absolute_error: 24288.3051 - val_loss: 0.0341 - val_mean_absolute_error: 24244.6432\n",
      "\n",
      "Epoch 00060: val_loss improved from 0.03430 to 0.03407, saving model to best_model_e200_b16_rmspror.h5\n",
      "Epoch 61/200\n",
      "1022/1022 [==============================] - 1s 877us/step - loss: 0.0342 - mean_absolute_error: 24401.6483 - val_loss: 0.0339 - val_mean_absolute_error: 23932.5765\n",
      "\n",
      "Epoch 00061: val_loss improved from 0.03407 to 0.03391, saving model to best_model_e200_b16_rmspror.h5\n",
      "Epoch 62/200\n",
      "1022/1022 [==============================] - 1s 888us/step - loss: 0.0344 - mean_absolute_error: 24393.7757 - val_loss: 0.0345 - val_mean_absolute_error: 24707.5842\n",
      "\n",
      "Epoch 00062: val_loss did not improve from 0.03391\n",
      "Epoch 63/200\n",
      "1022/1022 [==============================] - 1s 830us/step - loss: 0.0343 - mean_absolute_error: 24333.2969 - val_loss: 0.0344 - val_mean_absolute_error: 24659.4617\n",
      "\n",
      "Epoch 00063: val_loss did not improve from 0.03391\n",
      "Epoch 64/200\n",
      "1022/1022 [==============================] - 1s 1ms/step - loss: 0.0341 - mean_absolute_error: 24216.3857 - val_loss: 0.0347 - val_mean_absolute_error: 24827.4071\n",
      "\n",
      "Epoch 00064: val_loss did not improve from 0.03391\n",
      "Epoch 65/200\n",
      "1022/1022 [==============================] - 1s 1ms/step - loss: 0.0342 - mean_absolute_error: 24300.9066 - val_loss: 0.0339 - val_mean_absolute_error: 23942.2847\n",
      "\n",
      "Epoch 00065: val_loss improved from 0.03391 to 0.03391, saving model to best_model_e200_b16_rmspror.h5\n",
      "Epoch 66/200\n"
     ]
    },
    {
     "name": "stdout",
     "output_type": "stream",
     "text": [
      "1022/1022 [==============================] - 1s 871us/step - loss: 0.0341 - mean_absolute_error: 24292.9543 - val_loss: 0.0343 - val_mean_absolute_error: 24508.2349\n",
      "\n",
      "Epoch 00066: val_loss did not improve from 0.03391\n",
      "\n",
      "Epoch 00066: ReduceLROnPlateau reducing learning rate to 3.125000148429535e-05.\n",
      "Epoch 67/200\n",
      "1022/1022 [==============================] - 1s 835us/step - loss: 0.0337 - mean_absolute_error: 24206.4426 - val_loss: 0.0339 - val_mean_absolute_error: 24118.6050\n",
      "\n",
      "Epoch 00067: val_loss improved from 0.03391 to 0.03388, saving model to best_model_e200_b16_rmspror.h5\n",
      "Epoch 68/200\n",
      "1022/1022 [==============================] - 1s 806us/step - loss: 0.0338 - mean_absolute_error: 24120.9219 - val_loss: 0.0340 - val_mean_absolute_error: 24341.8390\n",
      "\n",
      "Epoch 00068: val_loss did not improve from 0.03388\n",
      "Epoch 69/200\n",
      "1022/1022 [==============================] - 1s 828us/step - loss: 0.0337 - mean_absolute_error: 24176.6283 - val_loss: 0.0339 - val_mean_absolute_error: 24199.9455\n",
      "\n",
      "Epoch 00069: val_loss did not improve from 0.03388\n",
      "Epoch 70/200\n",
      "1022/1022 [==============================] - 1s 790us/step - loss: 0.0337 - mean_absolute_error: 24091.1989 - val_loss: 0.0345 - val_mean_absolute_error: 24852.4014\n",
      "\n",
      "Epoch 00070: val_loss did not improve from 0.03388\n",
      "Epoch 71/200\n",
      "1022/1022 [==============================] - 1s 834us/step - loss: 0.0337 - mean_absolute_error: 24162.3936 - val_loss: 0.0340 - val_mean_absolute_error: 24315.5402\n",
      "\n",
      "Epoch 00071: val_loss did not improve from 0.03388\n",
      "\n",
      "Epoch 00071: ReduceLROnPlateau reducing learning rate to 1.5625000742147677e-05.\n",
      "Epoch 72/200\n",
      "1022/1022 [==============================] - 1s 877us/step - loss: 0.0335 - mean_absolute_error: 24026.5721 - val_loss: 0.0338 - val_mean_absolute_error: 24101.9860\n",
      "\n",
      "Epoch 00072: val_loss improved from 0.03388 to 0.03376, saving model to best_model_e200_b16_rmspror.h5\n",
      "Epoch 73/200\n",
      "1022/1022 [==============================] - 1s 863us/step - loss: 0.0335 - mean_absolute_error: 24031.2148 - val_loss: 0.0339 - val_mean_absolute_error: 24296.6555\n",
      "\n",
      "Epoch 00073: val_loss did not improve from 0.03376\n",
      "Epoch 74/200\n",
      "1022/1022 [==============================] - 1s 879us/step - loss: 0.0335 - mean_absolute_error: 24048.9726 - val_loss: 0.0338 - val_mean_absolute_error: 24223.5191\n",
      "\n",
      "Epoch 00074: val_loss did not improve from 0.03376\n",
      "Epoch 75/200\n",
      "1022/1022 [==============================] - 1s 801us/step - loss: 0.0334 - mean_absolute_error: 23896.6876 - val_loss: 0.0341 - val_mean_absolute_error: 24499.9492\n",
      "\n",
      "Epoch 00075: val_loss did not improve from 0.03376\n",
      "Epoch 76/200\n",
      "1022/1022 [==============================] - 1s 820us/step - loss: 0.0334 - mean_absolute_error: 24052.4258 - val_loss: 0.0337 - val_mean_absolute_error: 24005.0920\n",
      "\n",
      "Epoch 00076: val_loss improved from 0.03376 to 0.03370, saving model to best_model_e200_b16_rmspror.h5\n",
      "Epoch 77/200\n",
      "1022/1022 [==============================] - 1s 886us/step - loss: 0.0334 - mean_absolute_error: 24009.3586 - val_loss: 0.0338 - val_mean_absolute_error: 24203.2510\n",
      "\n",
      "Epoch 00077: val_loss did not improve from 0.03370\n",
      "\n",
      "Epoch 00077: ReduceLROnPlateau reducing learning rate to 1e-05.\n",
      "Epoch 78/200\n",
      "1022/1022 [==============================] - 1s 841us/step - loss: 0.0334 - mean_absolute_error: 23973.9557 - val_loss: 0.0340 - val_mean_absolute_error: 24330.5560\n",
      "\n",
      "Epoch 00078: val_loss did not improve from 0.03370\n",
      "Epoch 79/200\n",
      "1022/1022 [==============================] - 1s 787us/step - loss: 0.0334 - mean_absolute_error: 24018.8932 - val_loss: 0.0339 - val_mean_absolute_error: 24320.3298\n",
      "\n",
      "Epoch 00079: val_loss did not improve from 0.03370\n",
      "Epoch 80/200\n",
      "1022/1022 [==============================] - 1s 856us/step - loss: 0.0334 - mean_absolute_error: 23977.3766 - val_loss: 0.0339 - val_mean_absolute_error: 24289.2113\n",
      "\n",
      "Epoch 00080: val_loss did not improve from 0.03370\n",
      "Epoch 81/200\n",
      "1022/1022 [==============================] - 1s 1ms/step - loss: 0.0334 - mean_absolute_error: 23976.7154 - val_loss: 0.0338 - val_mean_absolute_error: 24210.7722\n",
      "\n",
      "Epoch 00081: val_loss did not improve from 0.03370\n",
      "Epoch 82/200\n",
      "1022/1022 [==============================] - 1s 1ms/step - loss: 0.0334 - mean_absolute_error: 24001.7769 - val_loss: 0.0338 - val_mean_absolute_error: 24208.5819\n",
      "\n",
      "Epoch 00082: val_loss did not improve from 0.03370\n",
      "Epoch 83/200\n",
      "1022/1022 [==============================] - 1s 1ms/step - loss: 0.0333 - mean_absolute_error: 23936.0118 - val_loss: 0.0339 - val_mean_absolute_error: 24367.1268\n",
      "\n",
      "Epoch 00083: val_loss did not improve from 0.03370\n",
      "Epoch 84/200\n",
      "1022/1022 [==============================] - 1s 991us/step - loss: 0.0333 - mean_absolute_error: 24008.9395 - val_loss: 0.0338 - val_mean_absolute_error: 24211.6489\n",
      "\n",
      "Epoch 00084: val_loss did not improve from 0.03370\n",
      "Epoch 85/200\n",
      "1022/1022 [==============================] - 1s 974us/step - loss: 0.0333 - mean_absolute_error: 23954.5152 - val_loss: 0.0338 - val_mean_absolute_error: 24193.9607\n",
      "\n",
      "Epoch 00085: val_loss did not improve from 0.03370\n",
      "Epoch 86/200\n",
      "1022/1022 [==============================] - 1s 961us/step - loss: 0.0333 - mean_absolute_error: 23974.6905 - val_loss: 0.0338 - val_mean_absolute_error: 24197.6279\n",
      "\n",
      "Epoch 00086: val_loss did not improve from 0.03370\n",
      "Epoch 00086: early stopping\n"
     ]
    }
   ],
   "source": [
    "from keras.callbacks import EarlyStopping, ModelCheckpoint, ReduceLROnPlateau\n",
    "np.random.seed(1235)\n",
    "epochs = 200\n",
    "batch_size = 16\n",
    "\n",
    "reduce_lr = ReduceLROnPlateau(monitor='val_loss', factor=0.5,\n",
    "                              patience=5, min_lr=0.00001, verbose=1)\n",
    "\n",
    "checkpoint = ModelCheckpoint('best_model_e200_b16_rmsprop_net_264_512_512.h5', verbose=1, \n",
    "                             monitor='val_loss',\n",
    "                             save_best_only=True, mode='auto') \n",
    "\n",
    "early = EarlyStopping(monitor='val_loss',\n",
    "                              min_delta=0,\n",
    "                              patience=10,\n",
    "                              verbose=1, mode='auto')\n",
    "\n",
    "history = NN_model.fit(X_train, y_train,\n",
    "                    batch_size=batch_size,\n",
    "                    epochs=epochs,\n",
    "                    verbose=1,callbacks=[checkpoint, early, reduce_lr],\n",
    "                    validation_data=(X_test, y_test))"
   ]
  },
  {
   "cell_type": "code",
   "execution_count": 1254,
   "metadata": {
    "scrolled": true
   },
   "outputs": [
    {
     "data": {
      "image/png": "[encoded data removed]",
      "text/plain": [
       "<Figure size 432x288 with 1 Axes>"
      ]
     },
     "metadata": {
      "needs_background": "light"
     },
     "output_type": "display_data"
    }
   ],
   "source": [
    "drow_history(history, 'loss', 1)"
   ]
  },
  {
   "cell_type": "code",
   "execution_count": 1255,
   "metadata": {},
   "outputs": [],
   "source": [
    "#### Load the best model\n",
    "NN_model.load_weights('best_model_e200_b16_rmsprop_net_264_512_512'.h5')\n",
    "# Compile the network :\n",
    "NN_model.compile(loss='mean_squared_logarithmic_error', optimizer='adam', \n",
    "                 metrics=['mean_absolute_error'])"
   ]
  },
  {
   "cell_type": "code",
   "execution_count": 1256,
   "metadata": {},
   "outputs": [
    {
     "name": "stdout",
     "output_type": "stream",
     "text": [
      "438/438 [==============================] - 2s 4ms/step\n"
     ]
    },
    {
     "data": {
      "text/plain": [
       "[0.0336962574284915, 24005.091814711759]"
      ]
     },
     "execution_count": 1256,
     "metadata": {},
     "output_type": "execute_result"
    }
   ],
   "source": [
    "score=NN_model.evaluate(X_test, y_test)\n",
    "score"
   ]
  },
  {
   "cell_type": "code",
   "execution_count": 1235,
   "metadata": {},
   "outputs": [
    {
     "name": "stdout",
     "output_type": "stream",
     "text": [
      "438/438 [==============================] - 1s 3ms/step\n"
     ]
    },
    {
     "data": {
      "text/plain": [
       "[0.0379358490240084, 25851.205479452055]"
      ]
     },
     "execution_count": 1235,
     "metadata": {},
     "output_type": "execute_result"
    }
   ],
   "source": [
    "score=NN_model.evaluate(X_test, y_test)\n",
    "score"
   ]
  },
  {
   "cell_type": "code",
   "execution_count": 1257,
   "metadata": {},
   "outputs": [
    {
     "name": "stdout",
     "output_type": "stream",
     "text": [
      "1460/1460 [==============================] - 0s 166us/step\n"
     ]
    },
    {
     "data": {
      "text/plain": [
       "[0.033474536219688308, 23910.426209332192]"
      ]
     },
     "execution_count": 1257,
     "metadata": {},
     "output_type": "execute_result"
    }
   ],
   "source": [
    "score=NN_model.evaluate(train, target)\n",
    "score"
   ]
  },
  {
   "cell_type": "code",
   "execution_count": 1236,
   "metadata": {},
   "outputs": [
    {
     "name": "stdout",
     "output_type": "stream",
     "text": [
      "1460/1460 [==============================] - 0s 149us/step\n"
     ]
    },
    {
     "data": {
      "text/plain": [
       "[0.039954438672898565, 26339.635156249999]"
      ]
     },
     "execution_count": 1236,
     "metadata": {},
     "output_type": "execute_result"
    }
   ],
   "source": [
    "score=NN_model.evaluate(train, target)\n",
    "score"
   ]
  },
  {
   "cell_type": "code",
   "execution_count": 1258,
   "metadata": {},
   "outputs": [
    {
     "data": {
      "text/plain": [
       "0.033696257228431087"
      ]
     },
     "execution_count": 1258,
     "metadata": {},
     "output_type": "execute_result"
    }
   ],
   "source": [
    "y_test_pred = NN_model.predict(X_test)\n",
    "from sklearn.metrics import mean_squared_log_error\n",
    "\n",
    "mean_squared_log_error(y_test, y_test_pred)"
   ]
  },
  {
   "cell_type": "code",
   "execution_count": 1259,
   "metadata": {},
   "outputs": [
    {
     "name": "stdout",
     "output_type": "stream",
     "text": [
      "A submission file has been made\n"
     ]
    }
   ],
   "source": [
    "predictions = NN_model.predict(test)\n",
    "make_submission(predictions[:,0],'submission_rmsprop_net_264_512_512')"
   ]
  },
  {
   "cell_type": "code",
   "execution_count": null,
   "metadata": {},
   "outputs": [],
   "source": [
    "* result 0.19681"
   ]
  }
 ],
 "metadata": {
  "kernelspec": {
   "display_name": "Python 3",
   "language": "python",
   "name": "python3"
  },
  "language_info": {
   "codemirror_mode": {
    "name": "ipython",
    "version": 3
   },
   "file_extension": ".py",
   "mimetype": "text/x-python",
   "name": "python",
   "nbconvert_exporter": "python",
   "pygments_lexer": "ipython3",
   "version": "3.6.6"
  }
 },
 "nbformat": 4,
 "nbformat_minor": 2
}
