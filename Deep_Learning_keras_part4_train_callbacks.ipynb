{
  "nbformat": 4,
  "nbformat_minor": 0,
  "metadata": {
    "kernelspec": {
      "name": "python3",
      "display_name": "Python 3"
    },
    "language_info": {
      "codemirror_mode": {
        "name": "ipython",
        "version": 3
      },
      "file_extension": ".py",
      "mimetype": "text/x-python",
      "name": "python",
      "nbconvert_exporter": "python",
      "pygments_lexer": "ipython3",
      "version": "3.6.6"
    },
    "colab": {
      "name": "Deep_Learning_keras_part4_train_callbacks.ipynb",
      "version": "0.3.2",
      "provenance": [],
      "include_colab_link": true
    },
    "accelerator": "GPU"
  },
  "cells": [
    {
      "cell_type": "markdown",
      "metadata": {
        "id": "view-in-github",
        "colab_type": "text"
      },
      "source": [
        "<a href=\"https://colab.research.google.com/github/naomifridman/Introduction_to_deep_learning/blob/master/Deep_Learning_keras_part4_train_callbacks.ipynb\" target=\"_parent\"><img src=\"https://colab.research.google.com/assets/colab-badge.svg\" alt=\"Open In Colab\"/></a>"
      ]
    },
    {
      "cell_type": "markdown",
      "metadata": {
        "id": "6TPJHm0iOKvN",
        "colab_type": "text"
      },
      "source": [
        "## Introduction to Deep Learning \n",
        "# Part 4 - Keras Train callbacks\n",
        "### Example Fushion Mnist data"
      ]
    },
    {
      "cell_type": "code",
      "metadata": {
        "id": "kZhItv6nOKvR",
        "colab_type": "code",
        "colab": {}
      },
      "source": [
        "import matplotlib.pyplot as plt\n",
        "import pandas as pd\n",
        "\n",
        "import numpy as np\n",
        "\n",
        "import matplotlib.gridspec as gridspec\n",
        "from sklearn.metrics import accuracy_score, log_loss\n",
        "import warnings\n",
        "warnings.filterwarnings('ignore')\n",
        "%matplotlib inline  "
      ],
      "execution_count": 0,
      "outputs": []
    },
    {
      "cell_type": "code",
      "metadata": {
        "id": "bMjswk8pOKvp",
        "colab_type": "code",
        "colab": {}
      },
      "source": [
        "from sklearn.metrics import accuracy_score\n",
        "from sklearn.metrics import confusion_matrix\n",
        "from sklearn.metrics import classification_report\n",
        "\n",
        "def print_stats(ytest, ypred):\n",
        "    \n",
        "    print(\"Accuracy: {:.5f}\".format(accuracy_score(ytest, ypred)))\n",
        "    print(\"Confusion Matrix:\")\n",
        "    print(confusion_matrix(ytest, ypred))\n",
        "    print(\"Classification Report:\")\n",
        "    print(classification_report(ytest, ypred))"
      ],
      "execution_count": 0,
      "outputs": []
    },
    {
      "cell_type": "code",
      "metadata": {
        "id": "Eq8sRWEbPLt7",
        "colab_type": "code",
        "colab": {}
      },
      "source": [
        "def show_list_images(imgs, titles=None):\n",
        "    n_img = len(imgs)\n",
        "    fig, m_axs = plt.subplots(1, n_img, figsize = (n_img*2, 4))\n",
        "    i = 0\n",
        "    for (c_im) in m_axs.T:\n",
        "        c_im.imshow(imgs[i])\n",
        "        c_im.axis('off')\n",
        "        if (titles is not None):\n",
        "            c_im.set_title(titles[i])\n",
        "        i+=1"
      ],
      "execution_count": 0,
      "outputs": []
    },
    {
      "cell_type": "code",
      "metadata": {
        "id": "WpzRJ4c-PJp1",
        "colab_type": "code",
        "colab": {}
      },
      "source": [
        "def drow_history(history, metric):\n",
        "    plt.plot(history.history[metric])\n",
        "    plt.plot(history.history['val_'+ metric])\n",
        "    plt.title('model '+metric)\n",
        "    plt.ylabel(metric)\n",
        "    plt.xlabel('epoch')\n",
        "    plt.legend(['train', 'test'], loc='upper left')\n",
        "    plt.show()    "
      ],
      "execution_count": 0,
      "outputs": []
    },
    {
      "cell_type": "markdown",
      "metadata": {
        "id": "zwQW3cBzOKwR",
        "colab_type": "text"
      },
      "source": [
        "## Keras summary\n",
        "### Sequential Model\n",
        "https://keras.io/models/sequential/\n",
        "\n",
        "### Dense layer\n",
        "https://keras.io/layers/core/\n",
        "\n",
        "### Dropout layer\n",
        "https://keras.io/layers/core/\n",
        "\n",
        "### Optimizer RMSprop, Adam, SGD\n",
        "https://keras.io/optimizers/"
      ]
    },
    {
      "cell_type": "code",
      "metadata": {
        "id": "u5qBIiSIOKwZ",
        "colab_type": "code",
        "colab": {}
      },
      "source": [
        "import keras\n",
        "# Keras has many build in data sets\n",
        "from keras.datasets import mnist\n",
        "# Sequential is the basic feed forward neural network (FFN)\n",
        "from keras.models import Sequential\n",
        "# Dense is fully connected layer\n",
        "# Dropout is a \"noising\" layer, to prevent over feet.\n",
        "from keras.layers import Dense, Dropout\n",
        "# Read about optimizers in keras documentation\n",
        "from keras.optimizers import RMSprop"
      ],
      "execution_count": 0,
      "outputs": []
    },
    {
      "cell_type": "code",
      "metadata": {
        "id": "s9u9foXWOKxC",
        "colab_type": "code",
        "colab": {}
      },
      "source": [
        "from sklearn.datasets import make_moons, make_circles, make_classification\n",
        "from sklearn.preprocessing import StandardScaler\n",
        "from sklearn.model_selection import train_test_split\n",
        "from matplotlib.colors import ListedColormap\n",
        "from sklearn.metrics import accuracy_score"
      ],
      "execution_count": 0,
      "outputs": []
    },
    {
      "cell_type": "markdown",
      "metadata": {
        "id": "X2BV6y33OKxg",
        "colab_type": "text"
      },
      "source": [
        "## Classification Exercise Fashion Mnist\n",
        "https://keras.io/datasets/\n",
        "Dataset of 60,000 28x28 grayscale images of 10 fashion categories, along with a test set of 10,000 images. This dataset can be used as a drop-in replacement for MNIST. The class labels are:\n",
        "```\n",
        "* Label\tDescription\n",
        "0\tT-shirt/top\n",
        "1\tTrouser\n",
        "2\tPullover\n",
        "3\tDress\n",
        "4\tCoat\n",
        "5\tSandal\n",
        "6\tShirt\n",
        "7\tSneaker\n",
        "8\tBag\n",
        "9\tAnkle boot\n",
        "```\n",
        "\n",
        "Build the best model for this data"
      ]
    },
    {
      "cell_type": "markdown",
      "metadata": {
        "id": "7gZd_nFYOKxi",
        "colab_type": "text"
      },
      "source": [
        "## Load and Preprocess Data"
      ]
    },
    {
      "cell_type": "code",
      "metadata": {
        "id": "azzLFarzOKxu",
        "colab_type": "code",
        "colab": {}
      },
      "source": [
        "from keras.datasets import fashion_mnist\n",
        "\n",
        "(x_train, y_train), (x_test, y_test) = fashion_mnist.load_data()"
      ],
      "execution_count": 0,
      "outputs": []
    },
    {
      "cell_type": "code",
      "metadata": {
        "id": "l8PmCkn0OKyV",
        "colab_type": "code",
        "colab": {
          "base_uri": "https://localhost:8080/",
          "height": 35
        },
        "outputId": "f7922fd9-8bb0-40d6-d5c0-acf68bc65496"
      },
      "source": [
        "x_train[0].shape, x_train.shape,x_test.shape"
      ],
      "execution_count": 20,
      "outputs": [
        {
          "output_type": "execute_result",
          "data": {
            "text/plain": [
              "((28, 28), (60000, 28, 28), (10000, 28, 28))"
            ]
          },
          "metadata": {
            "tags": []
          },
          "execution_count": 20
        }
      ]
    },
    {
      "cell_type": "code",
      "metadata": {
        "id": "SFDnbiD2OKyv",
        "colab_type": "code",
        "colab": {
          "base_uri": "https://localhost:8080/",
          "height": 178
        },
        "outputId": "921a0043-e497-44d1-8c74-d66ce593a158"
      },
      "source": [
        "imgs = [x_train[i].reshape(28,28) for i in range(100,110)]\n",
        "titles = [(\"lable {}\").format(y_train[i]) for i in range(20)]\n",
        "show_list_images(imgs, titles)"
      ],
      "execution_count": 29,
      "outputs": [
        {
          "output_type": "display_data",
          "data": {
            "image/png": "[encoded data removed]",
            "text/plain": [
              "<Figure size 1440x288 with 10 Axes>"
            ]
          },
          "metadata": {
            "tags": []
          }
        }
      ]
    },
    {
      "cell_type": "code",
      "metadata": {
        "id": "LYgmxAs0OKzZ",
        "colab_type": "code",
        "colab": {
          "base_uri": "https://localhost:8080/",
          "height": 52
        },
        "outputId": "38c3f2ea-9be6-4011-def7-d246f3e0bb19"
      },
      "source": [
        "x_train = x_train.reshape(60000, 784)\n",
        "x_test = x_test.reshape(10000, 784)\n",
        "x_train = x_train.astype('float32')\n",
        "x_test = x_test.astype('float32')\n",
        "x_train /= 255\n",
        "x_test /= 255\n",
        "print(x_train.shape[0], 'train samples')\n",
        "print(x_test.shape[0], 'test samples')"
      ],
      "execution_count": 22,
      "outputs": [
        {
          "output_type": "stream",
          "text": [
            "60000 train samples\n",
            "10000 test samples\n"
          ],
          "name": "stdout"
        }
      ]
    },
    {
      "cell_type": "code",
      "metadata": {
        "id": "kM2I9gD9OKzv",
        "colab_type": "code",
        "colab": {
          "base_uri": "https://localhost:8080/",
          "height": 104
        },
        "outputId": "919377f5-e16c-4e2c-9fac-67c4682ecef2"
      },
      "source": [
        "num_classes=10\n",
        "y_train = keras.utils.to_categorical(y_train, num_classes)\n",
        "y_test = keras.utils.to_categorical(y_test, num_classes)\n",
        "y_train[0:5]"
      ],
      "execution_count": 23,
      "outputs": [
        {
          "output_type": "execute_result",
          "data": {
            "text/plain": [
              "array([[0., 0., 0., 0., 0., 0., 0., 0., 0., 1.],\n",
              "       [1., 0., 0., 0., 0., 0., 0., 0., 0., 0.],\n",
              "       [1., 0., 0., 0., 0., 0., 0., 0., 0., 0.],\n",
              "       [0., 0., 0., 1., 0., 0., 0., 0., 0., 0.],\n",
              "       [1., 0., 0., 0., 0., 0., 0., 0., 0., 0.]], dtype=float32)"
            ]
          },
          "metadata": {
            "tags": []
          },
          "execution_count": 23
        }
      ]
    },
    {
      "cell_type": "markdown",
      "metadata": {
        "id": "SGypgNSlOK0d",
        "colab_type": "text"
      },
      "source": [
        "## Build Keras Basic Model"
      ]
    },
    {
      "cell_type": "code",
      "metadata": {
        "id": "KyLarqfkOK1G",
        "colab_type": "code",
        "colab": {
          "base_uri": "https://localhost:8080/",
          "height": 453
        },
        "outputId": "4c1f4c0b-5734-48ce-8735-6e96bc516e44"
      },
      "source": [
        "def get_model():\n",
        "    model = Sequential()\n",
        "    model.add(Dense(512, activation='relu', input_shape=(784,)))\n",
        "    model.add(Dense(512, activation='relu'))\n",
        "    model.add(Dense(num_classes, activation='softmax'))\n",
        "    return model\n",
        "\n",
        "model=get_model()\n",
        "model.summary()\n",
        "\n",
        "model.compile(loss='categorical_crossentropy',\n",
        "              optimizer=RMSprop(),\n",
        "              metrics=['accuracy'])"
      ],
      "execution_count": 24,
      "outputs": [
        {
          "output_type": "stream",
          "text": [
            "WARNING:tensorflow:From /usr/local/lib/python3.6/dist-packages/keras/backend/tensorflow_backend.py:66: The name tf.get_default_graph is deprecated. Please use tf.compat.v1.get_default_graph instead.\n",
            "\n",
            "WARNING:tensorflow:From /usr/local/lib/python3.6/dist-packages/keras/backend/tensorflow_backend.py:541: The name tf.placeholder is deprecated. Please use tf.compat.v1.placeholder instead.\n",
            "\n",
            "WARNING:tensorflow:From /usr/local/lib/python3.6/dist-packages/keras/backend/tensorflow_backend.py:4432: The name tf.random_uniform is deprecated. Please use tf.random.uniform instead.\n",
            "\n",
            "Model: \"sequential_1\"\n",
            "_________________________________________________________________\n",
            "Layer (type)                 Output Shape              Param #   \n",
            "=================================================================\n",
            "dense_1 (Dense)              (None, 512)               401920    \n",
            "_________________________________________________________________\n",
            "dense_2 (Dense)              (None, 512)               262656    \n",
            "_________________________________________________________________\n",
            "dense_3 (Dense)              (None, 10)                5130      \n",
            "=================================================================\n",
            "Total params: 669,706\n",
            "Trainable params: 669,706\n",
            "Non-trainable params: 0\n",
            "_________________________________________________________________\n",
            "WARNING:tensorflow:From /usr/local/lib/python3.6/dist-packages/keras/optimizers.py:793: The name tf.train.Optimizer is deprecated. Please use tf.compat.v1.train.Optimizer instead.\n",
            "\n",
            "WARNING:tensorflow:From /usr/local/lib/python3.6/dist-packages/keras/backend/tensorflow_backend.py:3576: The name tf.log is deprecated. Please use tf.math.log instead.\n",
            "\n"
          ],
          "name": "stdout"
        }
      ]
    },
    {
      "cell_type": "code",
      "metadata": {
        "id": "pnHP2_-AOK1f",
        "colab_type": "code",
        "colab": {
          "base_uri": "https://localhost:8080/",
          "height": 280
        },
        "outputId": "c1cf540d-1cea-4e40-8bc6-69f602f9d1a0"
      },
      "source": [
        "history = model.fit(x_train, y_train,\n",
        "                    batch_size=40,\n",
        "                    epochs=4,\n",
        "                    verbose=1,\n",
        "                    validation_data=(x_test, y_test))"
      ],
      "execution_count": 25,
      "outputs": [
        {
          "output_type": "stream",
          "text": [
            "WARNING:tensorflow:From /usr/local/lib/python3.6/dist-packages/tensorflow/python/ops/math_grad.py:1250: add_dispatch_support.<locals>.wrapper (from tensorflow.python.ops.array_ops) is deprecated and will be removed in a future version.\n",
            "Instructions for updating:\n",
            "Use tf.where in 2.0, which has the same broadcast rule as np.where\n",
            "WARNING:tensorflow:From /usr/local/lib/python3.6/dist-packages/keras/backend/tensorflow_backend.py:1033: The name tf.assign_add is deprecated. Please use tf.compat.v1.assign_add instead.\n",
            "\n",
            "Train on 60000 samples, validate on 10000 samples\n",
            "Epoch 1/4\n",
            "60000/60000 [==============================] - 13s 215us/step - loss: 0.5021 - acc: 0.8182 - val_loss: 0.4836 - val_acc: 0.8227\n",
            "Epoch 2/4\n",
            "60000/60000 [==============================] - 9s 142us/step - loss: 0.4031 - acc: 0.8601 - val_loss: 0.4007 - val_acc: 0.8633\n",
            "Epoch 3/4\n",
            "60000/60000 [==============================] - 8s 140us/step - loss: 0.3750 - acc: 0.8705 - val_loss: 0.3967 - val_acc: 0.8654\n",
            "Epoch 4/4\n",
            "60000/60000 [==============================] - 8s 135us/step - loss: 0.3628 - acc: 0.8763 - val_loss: 0.4198 - val_acc: 0.8576\n"
          ],
          "name": "stdout"
        }
      ]
    },
    {
      "cell_type": "code",
      "metadata": {
        "id": "sF_8Yd-YOK1x",
        "colab_type": "code",
        "colab": {
          "base_uri": "https://localhost:8080/",
          "height": 573
        },
        "outputId": "9b10413d-5ff1-4928-9c7b-6a55327da19e"
      },
      "source": [
        "drow_history(history, 'loss')\n",
        "drow_history(history, 'acc')"
      ],
      "execution_count": 30,
      "outputs": [
        {
          "output_type": "display_data",
          "data": {
            "image/png": "[encoded data removed]",
            "text/plain": [
              "<Figure size 432x288 with 1 Axes>"
            ]
          },
          "metadata": {
            "tags": []
          }
        },
        {
          "output_type": "display_data",
          "data": {
            "image/png": "[encoded data removed]",
            "text/plain": [
              "<Figure size 432x288 with 1 Axes>"
            ]
          },
          "metadata": {
            "tags": []
          }
        }
      ]
    },
    {
      "cell_type": "markdown",
      "metadata": {
        "id": "KKZX58JGOK2V",
        "colab_type": "text"
      },
      "source": [
        "## Evaluate"
      ]
    },
    {
      "cell_type": "code",
      "metadata": {
        "id": "pOpsmb6XOK2l",
        "colab_type": "code",
        "colab": {
          "base_uri": "https://localhost:8080/",
          "height": 52
        },
        "outputId": "fab3f00c-96bd-438b-c471-cbab16a93210"
      },
      "source": [
        "score = model.evaluate(x_test, y_test, verbose=0)\n",
        "print('Test loss:', score[0])\n",
        "print('Test accuracy:', score[1])"
      ],
      "execution_count": 31,
      "outputs": [
        {
          "output_type": "stream",
          "text": [
            "Test loss: 0.4197646573066711\n",
            "Test accuracy: 0.8576\n"
          ],
          "name": "stdout"
        }
      ]
    },
    {
      "cell_type": "markdown",
      "metadata": {
        "id": "_P5zwQ0wOK3Q",
        "colab_type": "text"
      },
      "source": [
        "## Predict"
      ]
    },
    {
      "cell_type": "code",
      "metadata": {
        "id": "2eQ2E-fNOK3S",
        "colab_type": "code",
        "colab": {
          "base_uri": "https://localhost:8080/",
          "height": 277
        },
        "outputId": "1fcbf780-e684-4fa6-b590-6ff8ab012704"
      },
      "source": [
        "pred_test = model.predict(x_test)\n",
        "pred_test[0:5]"
      ],
      "execution_count": 32,
      "outputs": [
        {
          "output_type": "execute_result",
          "data": {
            "text/plain": [
              "array([[1.3541380e-09, 1.1113264e-09, 4.8882809e-10, 5.4652988e-10,\n",
              "        8.1387792e-11, 2.9753903e-03, 4.8104624e-08, 7.3651592e-03,\n",
              "        6.2294063e-08, 9.8965925e-01],\n",
              "       [1.7699369e-07, 5.9902936e-14, 9.9905807e-01, 5.8234162e-10,\n",
              "        1.9532569e-04, 5.4544563e-13, 7.4651500e-04, 5.0701700e-12,\n",
              "        4.7825544e-09, 1.0573789e-12],\n",
              "       [2.0507228e-24, 1.0000000e+00, 0.0000000e+00, 4.9004197e-23,\n",
              "        0.0000000e+00, 5.7088559e-32, 2.9061181e-30, 2.3621094e-36,\n",
              "        7.1954030e-37, 0.0000000e+00],\n",
              "       [1.0589271e-27, 1.0000000e+00, 0.0000000e+00, 8.0814647e-22,\n",
              "        3.8539914e-38, 1.1521439e-30, 1.4943886e-32, 1.6634700e-33,\n",
              "        7.9717578e-37, 0.0000000e+00],\n",
              "       [3.1225300e-01, 1.9644383e-06, 5.6249779e-02, 1.4754609e-02,\n",
              "        9.6847313e-03, 3.0904462e-07, 6.0647011e-01, 8.8864618e-07,\n",
              "        5.8452255e-04, 1.6788658e-07]], dtype=float32)"
            ]
          },
          "metadata": {
            "tags": []
          },
          "execution_count": 32
        }
      ]
    },
    {
      "cell_type": "code",
      "metadata": {
        "id": "gGIX5KPnOK33",
        "colab_type": "code",
        "colab": {
          "base_uri": "https://localhost:8080/",
          "height": 208
        },
        "outputId": "993974fb-f5b5-4a03-dfd6-02d3b527e92e"
      },
      "source": [
        "y_pred_test=np.argmax(pred_test, axis=1)\n",
        "y_pred_test[0:10], y_test[0:10]"
      ],
      "execution_count": 33,
      "outputs": [
        {
          "output_type": "execute_result",
          "data": {
            "text/plain": [
              "(array([9, 2, 1, 1, 6, 1, 4, 6, 5, 7]),\n",
              " array([[0., 0., 0., 0., 0., 0., 0., 0., 0., 1.],\n",
              "        [0., 0., 1., 0., 0., 0., 0., 0., 0., 0.],\n",
              "        [0., 1., 0., 0., 0., 0., 0., 0., 0., 0.],\n",
              "        [0., 1., 0., 0., 0., 0., 0., 0., 0., 0.],\n",
              "        [0., 0., 0., 0., 0., 0., 1., 0., 0., 0.],\n",
              "        [0., 1., 0., 0., 0., 0., 0., 0., 0., 0.],\n",
              "        [0., 0., 0., 0., 1., 0., 0., 0., 0., 0.],\n",
              "        [0., 0., 0., 0., 0., 0., 1., 0., 0., 0.],\n",
              "        [0., 0., 0., 0., 0., 1., 0., 0., 0., 0.],\n",
              "        [0., 0., 0., 0., 0., 0., 0., 1., 0., 0.]], dtype=float32))"
            ]
          },
          "metadata": {
            "tags": []
          },
          "execution_count": 33
        }
      ]
    },
    {
      "cell_type": "code",
      "metadata": {
        "id": "dWdNdrX-OK4k",
        "colab_type": "code",
        "colab": {
          "base_uri": "https://localhost:8080/",
          "height": 35
        },
        "outputId": "ad3b2f3f-f037-4e71-f881-3e3c37990dd8"
      },
      "source": [
        "pred_test = model.predict_classes(x_test)\n",
        "pred_test[0:5]"
      ],
      "execution_count": 34,
      "outputs": [
        {
          "output_type": "execute_result",
          "data": {
            "text/plain": [
              "array([9, 2, 1, 1, 6])"
            ]
          },
          "metadata": {
            "tags": []
          },
          "execution_count": 34
        }
      ]
    },
    {
      "cell_type": "code",
      "metadata": {
        "scrolled": false,
        "id": "cXPlt3wFOK4_",
        "colab_type": "code",
        "colab": {
          "base_uri": "https://localhost:8080/",
          "height": 537
        },
        "outputId": "cd36a1cd-0f35-4ea9-a702-752edf6b6368"
      },
      "source": [
        "print_stats(np.argmax(y_test, axis=1),y_pred_test )"
      ],
      "execution_count": 35,
      "outputs": [
        {
          "output_type": "stream",
          "text": [
            "Accuracy: 0.85760\n",
            "Confusion Matrix:\n",
            "[[902   1  15  10   3   1  58   0  10   0]\n",
            " [ 10 969   1  15   2   0   2   0   1   0]\n",
            " [ 19   2 760   7 168   0  42   1   1   0]\n",
            " [ 72  12  12 845  31   0  20   0   8   0]\n",
            " [  3   1  78  40 859   0  13   0   6   0]\n",
            " [  0   0   0   0   0 941   0  46   3  10]\n",
            " [225   5 120  15 206   0 412   0  17   0]\n",
            " [  0   0   0   0   0   4   0 960   0  36]\n",
            " [  1   0   4   7   2   2   2   4 978   0]\n",
            " [  0   1   0   0   0  15   1  33   0 950]]\n",
            "Classification Report:\n",
            "              precision    recall  f1-score   support\n",
            "\n",
            "           0       0.73      0.90      0.81      1000\n",
            "           1       0.98      0.97      0.97      1000\n",
            "           2       0.77      0.76      0.76      1000\n",
            "           3       0.90      0.84      0.87      1000\n",
            "           4       0.68      0.86      0.76      1000\n",
            "           5       0.98      0.94      0.96      1000\n",
            "           6       0.75      0.41      0.53      1000\n",
            "           7       0.92      0.96      0.94      1000\n",
            "           8       0.96      0.98      0.97      1000\n",
            "           9       0.95      0.95      0.95      1000\n",
            "\n",
            "    accuracy                           0.86     10000\n",
            "   macro avg       0.86      0.86      0.85     10000\n",
            "weighted avg       0.86      0.86      0.85     10000\n",
            "\n"
          ],
          "name": "stdout"
        }
      ]
    },
    {
      "cell_type": "markdown",
      "metadata": {
        "id": "zATAMIV2OK5i",
        "colab_type": "text"
      },
      "source": [
        "# Keras callbacks\n",
        "* https://keras.io/callbacks/"
      ]
    },
    {
      "cell_type": "code",
      "metadata": {
        "id": "QTSHVKudOK5v",
        "colab_type": "code",
        "colab": {}
      },
      "source": [
        "from keras.callbacks import EarlyStopping, ModelCheckpoint, ReduceLROnPlateau\n",
        "\n",
        "\n",
        "earlystopper = EarlyStopping(patience=5, monitor='val_acc', verbose=1)\n",
        "\n",
        "filepath=\".\\\\model_epoch_{epoch:03d}-acc_{acc:.3f}_loss_{loss:.3f}.hdf5\"\n",
        "checkpoint1 = ModelCheckpoint(filepath, monitor='acc', verbose=1, \n",
        "                              save_best_only=True, mode='max',\n",
        "                             save_weights_only=True)\n",
        "\n",
        "filepath=\".\\\\model_epoch_{epoch:03d}_val_acc_{val_acc:.4f}_val_loss_{val_loss:.4f}.hdf5\"\n",
        "checkpoint2 = ModelCheckpoint(filepath, monitor='val_acc', verbose=1, \n",
        "                              save_best_only=True, mode='max',\n",
        "                             save_weights_only=True)\n",
        "\n",
        "filepath=\".\\\\model_epoch_{epoch:03d}_acc{acc:.3f}_loss{loss:.3f}.hdf5\"\n",
        "checkpoint3 = ModelCheckpoint(filepath, monitor='loss', verbose=1, \n",
        "                              save_best_only=True, mode='min',\n",
        "                             save_weights_only=True)\n",
        "\n",
        "filepath=\".\\\\model_epoch_{epoch:03d}_val_acc{val_acc:.4f}_val_loss{val_loss:.4f}.hdf5\"\n",
        "checkpoint4 = ModelCheckpoint(filepath, monitor='val_loss', verbose=1, \n",
        "                              save_best_only=True, mode='min',\n",
        "                             save_weights_only=True)\n",
        "\n",
        "filepath=\".\\\\model_last.hdf5\"\n",
        "checkpoint5 = ModelCheckpoint(filepath, monitor='val_loss', \n",
        "                              verbose=0, save_best_only=False,\n",
        "                             save_weights_only=True)\n",
        "\n",
        "\n",
        "reduce_lr = ReduceLROnPlateau(monitor='val_loss', factor=0.5,\n",
        "                              patience=13, min_lr=0.000001, verbose=1,  cooldown=1)"
      ],
      "execution_count": 0,
      "outputs": []
    },
    {
      "cell_type": "code",
      "metadata": {
        "id": "NBdslbtaOK6E",
        "colab_type": "code",
        "colab": {}
      },
      "source": [
        "model=get_model()\n",
        "\n",
        "model.compile(loss='categorical_crossentropy',\n",
        "              optimizer=RMSprop(),\n",
        "              metrics=['accuracy'])"
      ],
      "execution_count": 0,
      "outputs": []
    },
    {
      "cell_type": "code",
      "metadata": {
        "id": "jJ2Ymk-UOK6_",
        "colab_type": "code",
        "colab": {
          "base_uri": "https://localhost:8080/",
          "height": 1000
        },
        "outputId": "4b82db96-b9ee-488f-948c-7b060b5f305e"
      },
      "source": [
        "history = model.fit(x_train, y_train,\n",
        "                    batch_size=40,\n",
        "                    epochs=100,\n",
        "                    verbose=1,\n",
        "                    validation_data=(x_test, y_test),\n",
        "                   callbacks=[earlystopper, checkpoint1, checkpoint2, checkpoint3,\n",
        "                             checkpoint4, checkpoint5, reduce_lr])"
      ],
      "execution_count": 38,
      "outputs": [
        {
          "output_type": "stream",
          "text": [
            "Train on 60000 samples, validate on 10000 samples\n",
            "Epoch 1/100\n",
            "60000/60000 [==============================] - 9s 143us/step - loss: 0.5070 - acc: 0.8170 - val_loss: 0.4564 - val_acc: 0.8482\n",
            "\n",
            "Epoch 00001: acc improved from -inf to 0.81703, saving model to .\\model_epoch_001-acc_0.817_loss_0.507.hdf5\n",
            "\n",
            "Epoch 00001: val_acc improved from -inf to 0.84820, saving model to .\\model_epoch_001_val_acc_0.8482_val_loss_0.4564.hdf5\n",
            "\n",
            "Epoch 00001: loss improved from inf to 0.50700, saving model to .\\model_epoch_001_acc0.817_loss0.507.hdf5\n",
            "\n",
            "Epoch 00001: val_loss improved from inf to 0.45645, saving model to .\\model_epoch_001_val_acc0.8482_val_loss0.4564.hdf5\n",
            "Epoch 2/100\n",
            "60000/60000 [==============================] - 8s 136us/step - loss: 0.4016 - acc: 0.8594 - val_loss: 0.4249 - val_acc: 0.8544\n",
            "\n",
            "Epoch 00002: acc improved from 0.81703 to 0.85938, saving model to .\\model_epoch_002-acc_0.859_loss_0.402.hdf5\n",
            "\n",
            "Epoch 00002: val_acc improved from 0.84820 to 0.85440, saving model to .\\model_epoch_002_val_acc_0.8544_val_loss_0.4249.hdf5\n",
            "\n",
            "Epoch 00002: loss improved from 0.50700 to 0.40161, saving model to .\\model_epoch_002_acc0.859_loss0.402.hdf5\n",
            "\n",
            "Epoch 00002: val_loss improved from 0.45645 to 0.42493, saving model to .\\model_epoch_002_val_acc0.8544_val_loss0.4249.hdf5\n",
            "Epoch 3/100\n",
            "60000/60000 [==============================] - 8s 138us/step - loss: 0.3781 - acc: 0.8697 - val_loss: 0.4586 - val_acc: 0.8471\n",
            "\n",
            "Epoch 00003: acc improved from 0.85938 to 0.86965, saving model to .\\model_epoch_003-acc_0.870_loss_0.378.hdf5\n",
            "\n",
            "Epoch 00003: val_acc did not improve from 0.85440\n",
            "\n",
            "Epoch 00003: loss improved from 0.40161 to 0.37813, saving model to .\\model_epoch_003_acc0.870_loss0.378.hdf5\n",
            "\n",
            "Epoch 00003: val_loss did not improve from 0.42493\n",
            "Epoch 4/100\n",
            "60000/60000 [==============================] - 8s 141us/step - loss: 0.3661 - acc: 0.8763 - val_loss: 0.4116 - val_acc: 0.8691\n",
            "\n",
            "Epoch 00004: acc improved from 0.86965 to 0.87635, saving model to .\\model_epoch_004-acc_0.876_loss_0.366.hdf5\n",
            "\n",
            "Epoch 00004: val_acc improved from 0.85440 to 0.86910, saving model to .\\model_epoch_004_val_acc_0.8691_val_loss_0.4116.hdf5\n",
            "\n",
            "Epoch 00004: loss improved from 0.37813 to 0.36607, saving model to .\\model_epoch_004_acc0.876_loss0.366.hdf5\n",
            "\n",
            "Epoch 00004: val_loss improved from 0.42493 to 0.41163, saving model to .\\model_epoch_004_val_acc0.8691_val_loss0.4116.hdf5\n",
            "Epoch 5/100\n",
            "60000/60000 [==============================] - 8s 138us/step - loss: 0.3502 - acc: 0.8802 - val_loss: 0.4310 - val_acc: 0.8588\n",
            "\n",
            "Epoch 00005: acc improved from 0.87635 to 0.88018, saving model to .\\model_epoch_005-acc_0.880_loss_0.350.hdf5\n",
            "\n",
            "Epoch 00005: val_acc did not improve from 0.86910\n",
            "\n",
            "Epoch 00005: loss improved from 0.36607 to 0.35022, saving model to .\\model_epoch_005_acc0.880_loss0.350.hdf5\n",
            "\n",
            "Epoch 00005: val_loss did not improve from 0.41163\n",
            "Epoch 6/100\n",
            "60000/60000 [==============================] - 8s 139us/step - loss: 0.3432 - acc: 0.8855 - val_loss: 0.4561 - val_acc: 0.8685\n",
            "\n",
            "Epoch 00006: acc improved from 0.88018 to 0.88547, saving model to .\\model_epoch_006-acc_0.885_loss_0.343.hdf5\n",
            "\n",
            "Epoch 00006: val_acc did not improve from 0.86910\n",
            "\n",
            "Epoch 00006: loss improved from 0.35022 to 0.34318, saving model to .\\model_epoch_006_acc0.885_loss0.343.hdf5\n",
            "\n",
            "Epoch 00006: val_loss did not improve from 0.41163\n",
            "Epoch 7/100\n",
            "60000/60000 [==============================] - 8s 139us/step - loss: 0.3363 - acc: 0.8878 - val_loss: 0.4385 - val_acc: 0.8705\n",
            "\n",
            "Epoch 00007: acc improved from 0.88547 to 0.88775, saving model to .\\model_epoch_007-acc_0.888_loss_0.336.hdf5\n",
            "\n",
            "Epoch 00007: val_acc improved from 0.86910 to 0.87050, saving model to .\\model_epoch_007_val_acc_0.8705_val_loss_0.4385.hdf5\n",
            "\n",
            "Epoch 00007: loss improved from 0.34318 to 0.33633, saving model to .\\model_epoch_007_acc0.888_loss0.336.hdf5\n",
            "\n",
            "Epoch 00007: val_loss did not improve from 0.41163\n",
            "Epoch 8/100\n",
            "60000/60000 [==============================] - 9s 143us/step - loss: 0.3272 - acc: 0.8918 - val_loss: 0.4263 - val_acc: 0.8676\n",
            "\n",
            "Epoch 00008: acc improved from 0.88775 to 0.89178, saving model to .\\model_epoch_008-acc_0.892_loss_0.327.hdf5\n",
            "\n",
            "Epoch 00008: val_acc did not improve from 0.87050\n",
            "\n",
            "Epoch 00008: loss improved from 0.33633 to 0.32722, saving model to .\\model_epoch_008_acc0.892_loss0.327.hdf5\n",
            "\n",
            "Epoch 00008: val_loss did not improve from 0.41163\n",
            "Epoch 9/100\n",
            "60000/60000 [==============================] - 8s 138us/step - loss: 0.3245 - acc: 0.8946 - val_loss: 0.4714 - val_acc: 0.8707\n",
            "\n",
            "Epoch 00009: acc improved from 0.89178 to 0.89462, saving model to .\\model_epoch_009-acc_0.895_loss_0.324.hdf5\n",
            "\n",
            "Epoch 00009: val_acc improved from 0.87050 to 0.87070, saving model to .\\model_epoch_009_val_acc_0.8707_val_loss_0.4714.hdf5\n",
            "\n",
            "Epoch 00009: loss improved from 0.32722 to 0.32449, saving model to .\\model_epoch_009_acc0.895_loss0.324.hdf5\n",
            "\n",
            "Epoch 00009: val_loss did not improve from 0.41163\n",
            "Epoch 10/100\n",
            "60000/60000 [==============================] - 8s 138us/step - loss: 0.3194 - acc: 0.8947 - val_loss: 0.5126 - val_acc: 0.8629\n",
            "\n",
            "Epoch 00010: acc improved from 0.89462 to 0.89467, saving model to .\\model_epoch_010-acc_0.895_loss_0.319.hdf5\n",
            "\n",
            "Epoch 00010: val_acc did not improve from 0.87070\n",
            "\n",
            "Epoch 00010: loss improved from 0.32449 to 0.31940, saving model to .\\model_epoch_010_acc0.895_loss0.319.hdf5\n",
            "\n",
            "Epoch 00010: val_loss did not improve from 0.41163\n",
            "Epoch 11/100\n",
            "60000/60000 [==============================] - 8s 140us/step - loss: 0.3124 - acc: 0.8972 - val_loss: 0.4493 - val_acc: 0.8769\n",
            "\n",
            "Epoch 00011: acc improved from 0.89467 to 0.89720, saving model to .\\model_epoch_011-acc_0.897_loss_0.312.hdf5\n",
            "\n",
            "Epoch 00011: val_acc improved from 0.87070 to 0.87690, saving model to .\\model_epoch_011_val_acc_0.8769_val_loss_0.4493.hdf5\n",
            "\n",
            "Epoch 00011: loss improved from 0.31940 to 0.31239, saving model to .\\model_epoch_011_acc0.897_loss0.312.hdf5\n",
            "\n",
            "Epoch 00011: val_loss did not improve from 0.41163\n",
            "Epoch 12/100\n",
            "60000/60000 [==============================] - 9s 142us/step - loss: 0.3119 - acc: 0.9000 - val_loss: 0.4749 - val_acc: 0.8785\n",
            "\n",
            "Epoch 00012: acc improved from 0.89720 to 0.90003, saving model to .\\model_epoch_012-acc_0.900_loss_0.312.hdf5\n",
            "\n",
            "Epoch 00012: val_acc improved from 0.87690 to 0.87850, saving model to .\\model_epoch_012_val_acc_0.8785_val_loss_0.4749.hdf5\n",
            "\n",
            "Epoch 00012: loss improved from 0.31239 to 0.31193, saving model to .\\model_epoch_012_acc0.900_loss0.312.hdf5\n",
            "\n",
            "Epoch 00012: val_loss did not improve from 0.41163\n",
            "Epoch 13/100\n",
            "60000/60000 [==============================] - 8s 142us/step - loss: 0.3077 - acc: 0.9014 - val_loss: 0.5321 - val_acc: 0.8702\n",
            "\n",
            "Epoch 00013: acc improved from 0.90003 to 0.90145, saving model to .\\model_epoch_013-acc_0.901_loss_0.308.hdf5\n",
            "\n",
            "Epoch 00013: val_acc did not improve from 0.87850\n",
            "\n",
            "Epoch 00013: loss improved from 0.31193 to 0.30768, saving model to .\\model_epoch_013_acc0.901_loss0.308.hdf5\n",
            "\n",
            "Epoch 00013: val_loss did not improve from 0.41163\n",
            "Epoch 14/100\n",
            "60000/60000 [==============================] - 8s 138us/step - loss: 0.3073 - acc: 0.9018 - val_loss: 0.4821 - val_acc: 0.8645\n",
            "\n",
            "Epoch 00014: acc improved from 0.90145 to 0.90177, saving model to .\\model_epoch_014-acc_0.902_loss_0.307.hdf5\n",
            "\n",
            "Epoch 00014: val_acc did not improve from 0.87850\n",
            "\n",
            "Epoch 00014: loss improved from 0.30768 to 0.30735, saving model to .\\model_epoch_014_acc0.902_loss0.307.hdf5\n",
            "\n",
            "Epoch 00014: val_loss did not improve from 0.41163\n",
            "Epoch 15/100\n",
            "60000/60000 [==============================] - 8s 136us/step - loss: 0.3007 - acc: 0.9043 - val_loss: 0.4653 - val_acc: 0.8803\n",
            "\n",
            "Epoch 00015: acc improved from 0.90177 to 0.90428, saving model to .\\model_epoch_015-acc_0.904_loss_0.301.hdf5\n",
            "\n",
            "Epoch 00015: val_acc improved from 0.87850 to 0.88030, saving model to .\\model_epoch_015_val_acc_0.8803_val_loss_0.4653.hdf5\n",
            "\n",
            "Epoch 00015: loss improved from 0.30735 to 0.30069, saving model to .\\model_epoch_015_acc0.904_loss0.301.hdf5\n",
            "\n",
            "Epoch 00015: val_loss did not improve from 0.41163\n",
            "Epoch 16/100\n",
            "60000/60000 [==============================] - 8s 136us/step - loss: 0.2970 - acc: 0.9063 - val_loss: 0.4962 - val_acc: 0.8831\n",
            "\n",
            "Epoch 00016: acc improved from 0.90428 to 0.90628, saving model to .\\model_epoch_016-acc_0.906_loss_0.297.hdf5\n",
            "\n",
            "Epoch 00016: val_acc improved from 0.88030 to 0.88310, saving model to .\\model_epoch_016_val_acc_0.8831_val_loss_0.4962.hdf5\n",
            "\n",
            "Epoch 00016: loss improved from 0.30069 to 0.29699, saving model to .\\model_epoch_016_acc0.906_loss0.297.hdf5\n",
            "\n",
            "Epoch 00016: val_loss did not improve from 0.41163\n",
            "Epoch 17/100\n",
            "60000/60000 [==============================] - 8s 133us/step - loss: 0.2988 - acc: 0.9077 - val_loss: 0.4607 - val_acc: 0.8761\n",
            "\n",
            "Epoch 00017: acc improved from 0.90628 to 0.90765, saving model to .\\model_epoch_017-acc_0.908_loss_0.299.hdf5\n",
            "\n",
            "Epoch 00017: val_acc did not improve from 0.88310\n",
            "\n",
            "Epoch 00017: loss did not improve from 0.29699\n",
            "\n",
            "Epoch 00017: val_loss did not improve from 0.41163\n",
            "\n",
            "Epoch 00017: ReduceLROnPlateau reducing learning rate to 0.0005000000237487257.\n",
            "Epoch 18/100\n",
            "60000/60000 [==============================] - 8s 138us/step - loss: 0.2434 - acc: 0.9203 - val_loss: 0.5043 - val_acc: 0.8895\n",
            "\n",
            "Epoch 00018: acc improved from 0.90765 to 0.92027, saving model to .\\model_epoch_018-acc_0.920_loss_0.243.hdf5\n",
            "\n",
            "Epoch 00018: val_acc improved from 0.88310 to 0.88950, saving model to .\\model_epoch_018_val_acc_0.8895_val_loss_0.5043.hdf5\n",
            "\n",
            "Epoch 00018: loss improved from 0.29699 to 0.24336, saving model to .\\model_epoch_018_acc0.920_loss0.243.hdf5\n",
            "\n",
            "Epoch 00018: val_loss did not improve from 0.41163\n",
            "Epoch 19/100\n",
            "60000/60000 [==============================] - 8s 139us/step - loss: 0.2383 - acc: 0.9228 - val_loss: 0.4894 - val_acc: 0.8866\n",
            "\n",
            "Epoch 00019: acc improved from 0.92027 to 0.92278, saving model to .\\model_epoch_019-acc_0.923_loss_0.238.hdf5\n",
            "\n",
            "Epoch 00019: val_acc did not improve from 0.88950\n",
            "\n",
            "Epoch 00019: loss improved from 0.24336 to 0.23832, saving model to .\\model_epoch_019_acc0.923_loss0.238.hdf5\n",
            "\n",
            "Epoch 00019: val_loss did not improve from 0.41163\n",
            "Epoch 20/100\n",
            "60000/60000 [==============================] - 8s 137us/step - loss: 0.2369 - acc: 0.9232 - val_loss: 0.5195 - val_acc: 0.8802\n",
            "\n",
            "Epoch 00020: acc improved from 0.92278 to 0.92318, saving model to .\\model_epoch_020-acc_0.923_loss_0.237.hdf5\n",
            "\n",
            "Epoch 00020: val_acc did not improve from 0.88950\n",
            "\n",
            "Epoch 00020: loss improved from 0.23832 to 0.23688, saving model to .\\model_epoch_020_acc0.923_loss0.237.hdf5\n",
            "\n",
            "Epoch 00020: val_loss did not improve from 0.41163\n",
            "Epoch 21/100\n",
            "60000/60000 [==============================] - 8s 134us/step - loss: 0.2327 - acc: 0.9253 - val_loss: 0.4966 - val_acc: 0.8887\n",
            "\n",
            "Epoch 00021: acc improved from 0.92318 to 0.92532, saving model to .\\model_epoch_021-acc_0.925_loss_0.233.hdf5\n",
            "\n",
            "Epoch 00021: val_acc did not improve from 0.88950\n",
            "\n",
            "Epoch 00021: loss improved from 0.23688 to 0.23268, saving model to .\\model_epoch_021_acc0.925_loss0.233.hdf5\n",
            "\n",
            "Epoch 00021: val_loss did not improve from 0.41163\n",
            "Epoch 22/100\n",
            "60000/60000 [==============================] - 8s 140us/step - loss: 0.2325 - acc: 0.9261 - val_loss: 0.4998 - val_acc: 0.8866\n",
            "\n",
            "Epoch 00022: acc improved from 0.92532 to 0.92612, saving model to .\\model_epoch_022-acc_0.926_loss_0.233.hdf5\n",
            "\n",
            "Epoch 00022: val_acc did not improve from 0.88950\n",
            "\n",
            "Epoch 00022: loss improved from 0.23268 to 0.23251, saving model to .\\model_epoch_022_acc0.926_loss0.233.hdf5\n",
            "\n",
            "Epoch 00022: val_loss did not improve from 0.41163\n",
            "Epoch 23/100\n",
            "60000/60000 [==============================] - 8s 137us/step - loss: 0.2263 - acc: 0.9274 - val_loss: 0.5266 - val_acc: 0.8928\n",
            "\n",
            "Epoch 00023: acc improved from 0.92612 to 0.92743, saving model to .\\model_epoch_023-acc_0.927_loss_0.226.hdf5\n",
            "\n",
            "Epoch 00023: val_acc improved from 0.88950 to 0.89280, saving model to .\\model_epoch_023_val_acc_0.8928_val_loss_0.5266.hdf5\n",
            "\n",
            "Epoch 00023: loss improved from 0.23251 to 0.22627, saving model to .\\model_epoch_023_acc0.927_loss0.226.hdf5\n",
            "\n",
            "Epoch 00023: val_loss did not improve from 0.41163\n",
            "Epoch 24/100\n",
            "60000/60000 [==============================] - 8s 139us/step - loss: 0.2224 - acc: 0.9285 - val_loss: 0.5373 - val_acc: 0.8829\n",
            "\n",
            "Epoch 00024: acc improved from 0.92743 to 0.92847, saving model to .\\model_epoch_024-acc_0.928_loss_0.222.hdf5\n",
            "\n",
            "Epoch 00024: val_acc did not improve from 0.89280\n",
            "\n",
            "Epoch 00024: loss improved from 0.22627 to 0.22236, saving model to .\\model_epoch_024_acc0.928_loss0.222.hdf5\n",
            "\n",
            "Epoch 00024: val_loss did not improve from 0.41163\n",
            "Epoch 25/100\n",
            "60000/60000 [==============================] - 8s 135us/step - loss: 0.2209 - acc: 0.9306 - val_loss: 0.5184 - val_acc: 0.8878\n",
            "\n",
            "Epoch 00025: acc improved from 0.92847 to 0.93063, saving model to .\\model_epoch_025-acc_0.931_loss_0.221.hdf5\n",
            "\n",
            "Epoch 00025: val_acc did not improve from 0.89280\n",
            "\n",
            "Epoch 00025: loss improved from 0.22236 to 0.22089, saving model to .\\model_epoch_025_acc0.931_loss0.221.hdf5\n",
            "\n",
            "Epoch 00025: val_loss did not improve from 0.41163\n",
            "Epoch 26/100\n",
            "60000/60000 [==============================] - 8s 138us/step - loss: 0.2218 - acc: 0.9295 - val_loss: 0.5168 - val_acc: 0.8887\n",
            "\n",
            "Epoch 00026: acc did not improve from 0.93063\n",
            "\n",
            "Epoch 00026: val_acc did not improve from 0.89280\n",
            "\n",
            "Epoch 00026: loss did not improve from 0.22089\n",
            "\n",
            "Epoch 00026: val_loss did not improve from 0.41163\n",
            "Epoch 27/100\n",
            "60000/60000 [==============================] - 8s 138us/step - loss: 0.2176 - acc: 0.9319 - val_loss: 0.5636 - val_acc: 0.8887\n",
            "\n",
            "Epoch 00027: acc improved from 0.93063 to 0.93187, saving model to .\\model_epoch_027-acc_0.932_loss_0.218.hdf5\n",
            "\n",
            "Epoch 00027: val_acc did not improve from 0.89280\n",
            "\n",
            "Epoch 00027: loss improved from 0.22089 to 0.21758, saving model to .\\model_epoch_027_acc0.932_loss0.218.hdf5\n",
            "\n",
            "Epoch 00027: val_loss did not improve from 0.41163\n",
            "Epoch 28/100\n",
            "60000/60000 [==============================] - 8s 135us/step - loss: 0.2149 - acc: 0.9329 - val_loss: 0.5471 - val_acc: 0.8854\n",
            "\n",
            "Epoch 00028: acc improved from 0.93187 to 0.93285, saving model to .\\model_epoch_028-acc_0.933_loss_0.215.hdf5\n",
            "\n",
            "Epoch 00028: val_acc did not improve from 0.89280\n",
            "\n",
            "Epoch 00028: loss improved from 0.21758 to 0.21489, saving model to .\\model_epoch_028_acc0.933_loss0.215.hdf5\n",
            "\n",
            "Epoch 00028: val_loss did not improve from 0.41163\n",
            "Epoch 00028: early stopping\n"
          ],
          "name": "stdout"
        }
      ]
    },
    {
      "cell_type": "code",
      "metadata": {
        "id": "HIBGR5gxOK7q",
        "colab_type": "code",
        "colab": {
          "base_uri": "https://localhost:8080/",
          "height": 573
        },
        "outputId": "5ee7d849-5ce6-47d1-b181-48dfb1e92c40"
      },
      "source": [
        "drow_history(history, 'loss')\n",
        "drow_history(history, 'acc')"
      ],
      "execution_count": 39,
      "outputs": [
        {
          "output_type": "display_data",
          "data": {
            "image/png": "[encoded data removed]",
            "text/plain": [
              "<Figure size 432x288 with 1 Axes>"
            ]
          },
          "metadata": {
            "tags": []
          }
        },
        {
          "output_type": "display_data",
          "data": {
            "image/png": "[encoded data removed]",
            "text/plain": [
              "<Figure size 432x288 with 1 Axes>"
            ]
          },
          "metadata": {
            "tags": []
          }
        }
      ]
    },
    {
      "cell_type": "code",
      "metadata": {
        "id": "Bidx8CQVQuAA",
        "colab_type": "code",
        "colab": {
          "base_uri": "https://localhost:8080/",
          "height": 537
        },
        "outputId": "406764cf-9ed7-46bb-a511-f1a317155301"
      },
      "source": [
        "y_pred_test=model.predict_classes(x_test)\n",
        "print_stats(np.argmax(y_test, axis=1),y_pred_test )"
      ],
      "execution_count": 40,
      "outputs": [
        {
          "output_type": "stream",
          "text": [
            "Accuracy: 0.88540\n",
            "Confusion Matrix:\n",
            "[[870   4  20  31   3   3  60   0   9   0]\n",
            " [  2 983   0  12   1   0   1   0   1   0]\n",
            " [ 17   3 859  18  65   0  36   0   2   0]\n",
            " [ 15  18  13 905  32   2  11   0   4   0]\n",
            " [  1   2 126  32 810   0  28   0   1   0]\n",
            " [  0   0   0   0   0 979   1  11   1   8]\n",
            " [156   6 126  37  81   1 577   0  16   0]\n",
            " [  0   0   0   0   0  24   0 961   1  14]\n",
            " [  5   0   6   6   1   3   1   5 973   0]\n",
            " [  0   0   0   0   0   7   1  55   0 937]]\n",
            "Classification Report:\n",
            "              precision    recall  f1-score   support\n",
            "\n",
            "           0       0.82      0.87      0.84      1000\n",
            "           1       0.97      0.98      0.98      1000\n",
            "           2       0.75      0.86      0.80      1000\n",
            "           3       0.87      0.91      0.89      1000\n",
            "           4       0.82      0.81      0.81      1000\n",
            "           5       0.96      0.98      0.97      1000\n",
            "           6       0.81      0.58      0.67      1000\n",
            "           7       0.93      0.96      0.95      1000\n",
            "           8       0.97      0.97      0.97      1000\n",
            "           9       0.98      0.94      0.96      1000\n",
            "\n",
            "    accuracy                           0.89     10000\n",
            "   macro avg       0.89      0.89      0.88     10000\n",
            "weighted avg       0.89      0.89      0.88     10000\n",
            "\n"
          ],
          "name": "stdout"
        }
      ]
    },
    {
      "cell_type": "code",
      "metadata": {
        "id": "zPOw8ZAnQz0i",
        "colab_type": "code",
        "colab": {}
      },
      "source": [
        "model=get_model()\n",
        "model.load_weights('.\\model_epoch_023_val_acc_0.8928_val_loss_0.5266.hdf5')\n",
        "model.compile(loss='categorical_crossentropy',\n",
        "              optimizer=RMSprop(),\n",
        "              metrics=['accuracy'])"
      ],
      "execution_count": 0,
      "outputs": []
    },
    {
      "cell_type": "code",
      "metadata": {
        "id": "GzfbwUdgQ_D6",
        "colab_type": "code",
        "colab": {
          "base_uri": "https://localhost:8080/",
          "height": 537
        },
        "outputId": "7012e465-e3ff-4ab1-e071-7d47ac9a266e"
      },
      "source": [
        "y_pred_test=model.predict_classes(x_test)\n",
        "print_stats(np.argmax(y_test, axis=1),y_pred_test )"
      ],
      "execution_count": 43,
      "outputs": [
        {
          "output_type": "stream",
          "text": [
            "Accuracy: 0.89280\n",
            "Confusion Matrix:\n",
            "[[862   1  17  18   7   4  87   0   4   0]\n",
            " [  1 972   3  15   4   0   5   0   0   0]\n",
            " [ 15   0 816   9  81   1  77   0   1   0]\n",
            " [ 21   8  14 888  36   0  29   0   4   0]\n",
            " [  0   0 107  33 786   0  74   0   0   0]\n",
            " [  0   0   0   0   0 981   0  10   2   7]\n",
            " [104   1  73  22  52   0 743   0   5   0]\n",
            " [  0   0   0   0   0  20   0 962   1  17]\n",
            " [  6   0   3   5   5   3   8   5 965   0]\n",
            " [  0   0   0   0   0   7   1  39   0 953]]\n",
            "Classification Report:\n",
            "              precision    recall  f1-score   support\n",
            "\n",
            "           0       0.85      0.86      0.86      1000\n",
            "           1       0.99      0.97      0.98      1000\n",
            "           2       0.79      0.82      0.80      1000\n",
            "           3       0.90      0.89      0.89      1000\n",
            "           4       0.81      0.79      0.80      1000\n",
            "           5       0.97      0.98      0.97      1000\n",
            "           6       0.73      0.74      0.73      1000\n",
            "           7       0.95      0.96      0.95      1000\n",
            "           8       0.98      0.96      0.97      1000\n",
            "           9       0.98      0.95      0.96      1000\n",
            "\n",
            "    accuracy                           0.89     10000\n",
            "   macro avg       0.89      0.89      0.89     10000\n",
            "weighted avg       0.89      0.89      0.89     10000\n",
            "\n"
          ],
          "name": "stdout"
        }
      ]
    },
    {
      "cell_type": "markdown",
      "metadata": {
        "id": "wXrdkeQOOK8e",
        "colab_type": "text"
      },
      "source": [
        "### Learn more:\n",
        "* https://keras.io/\n",
        "* https://www.coursera.org/learn/neural-networks/lecture/kOQiH/why-object-recognition-is-difficult-5-min"
      ]
    }
  ]
}